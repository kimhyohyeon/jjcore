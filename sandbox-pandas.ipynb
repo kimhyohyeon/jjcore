{
 "cells": [
  {
   "cell_type": "markdown",
   "metadata": {},
   "source": [
    "# Python Data Analysis Library"
   ]
  },
  {
   "cell_type": "code",
   "execution_count": 1,
   "metadata": {},
   "outputs": [],
   "source": [
    "import pandas as pd"
   ]
  },
  {
   "cell_type": "markdown",
   "metadata": {},
   "source": [
    "## Series"
   ]
  },
  {
   "cell_type": "code",
   "execution_count": 2,
   "metadata": {},
   "outputs": [
    {
     "data": {
      "text/plain": [
       "[]"
      ]
     },
     "execution_count": 2,
     "metadata": {},
     "output_type": "execute_result"
    }
   ],
   "source": [
    "[] # [] 는 list 생성"
   ]
  },
  {
   "cell_type": "code",
   "execution_count": 3,
   "metadata": {},
   "outputs": [
    {
     "data": {
      "text/plain": [
       "[1, 3, 5, 7, 9]"
      ]
     },
     "execution_count": 3,
     "metadata": {},
     "output_type": "execute_result"
    }
   ],
   "source": [
    "# \\파이썬의 리스트\n",
    "odd = [1, 3, 5, 7, 9] # = 할당, == 비교연산자\n",
    "odd"
   ]
  },
  {
   "cell_type": "code",
   "execution_count": 4,
   "metadata": {},
   "outputs": [
    {
     "data": {
      "text/plain": [
       "3"
      ]
     },
     "execution_count": 4,
     "metadata": {},
     "output_type": "execute_result"
    }
   ],
   "source": [
    "odd[1]"
   ]
  },
  {
   "cell_type": "code",
   "execution_count": 5,
   "metadata": {},
   "outputs": [
    {
     "data": {
      "text/plain": [
       "0    1\n",
       "1    3\n",
       "2    5\n",
       "3    7\n",
       "4    9\n",
       "dtype: int64"
      ]
     },
     "execution_count": 5,
     "metadata": {},
     "output_type": "execute_result"
    }
   ],
   "source": [
    "pd.Series(odd)"
   ]
  },
  {
   "cell_type": "code",
   "execution_count": 6,
   "metadata": {},
   "outputs": [
    {
     "data": {
      "text/plain": [
       "0    1\n",
       "1    3\n",
       "2    5\n",
       "3    7\n",
       "4    9\n",
       "dtype: int64"
      ]
     },
     "execution_count": 6,
     "metadata": {},
     "output_type": "execute_result"
    }
   ],
   "source": [
    "pd_odd = pd.Series(odd)\n",
    "pd_odd\n",
    "\n",
    "#dtype: int, data 타입이 int 다"
   ]
  },
  {
   "cell_type": "code",
   "execution_count": 7,
   "metadata": {},
   "outputs": [
    {
     "ename": "AttributeError",
     "evalue": "'list' object has no attribute 'mean'",
     "output_type": "error",
     "traceback": [
      "\u001b[1;31m---------------------------------------------------------------------------\u001b[0m",
      "\u001b[1;31mAttributeError\u001b[0m                            Traceback (most recent call last)",
      "\u001b[1;32m<ipython-input-7-a9e27b795eca>\u001b[0m in \u001b[0;36m<module>\u001b[1;34m\u001b[0m\n\u001b[1;32m----> 1\u001b[1;33m \u001b[0modd\u001b[0m\u001b[1;33m.\u001b[0m\u001b[0mmean\u001b[0m \u001b[1;31m# 시리즈 테이터 타입이 아니라서 평균 구할 수 없음.\u001b[0m\u001b[1;33m\u001b[0m\u001b[1;33m\u001b[0m\u001b[0m\n\u001b[0m",
      "\u001b[1;31mAttributeError\u001b[0m: 'list' object has no attribute 'mean'"
     ]
    }
   ],
   "source": [
    "odd.mean # 시리즈 테이터 타입이 아니라서 평균 구할 수 없음."
   ]
  },
  {
   "cell_type": "code",
   "execution_count": null,
   "metadata": {},
   "outputs": [],
   "source": [
    "# 판다스에 있는 시리즈 데이터 타입으로 변경해주고\n",
    "# 기초 통계 값을 출력해 봅니다.\n",
    "\n",
    "pd_odd.mean()"
   ]
  },
  {
   "cell_type": "markdown",
   "metadata": {},
   "source": [
    "## DataFrame"
   ]
  },
  {
   "cell_type": "code",
   "execution_count": 8,
   "metadata": {},
   "outputs": [
    {
     "ename": "NameError",
     "evalue": "name 'numbers' is not defined",
     "output_type": "error",
     "traceback": [
      "\u001b[1;31m---------------------------------------------------------------------------\u001b[0m",
      "\u001b[1;31mNameError\u001b[0m                                 Traceback (most recent call last)",
      "\u001b[1;32m<ipython-input-8-6a54518a0c2c>\u001b[0m in \u001b[0;36m<module>\u001b[1;34m\u001b[0m\n\u001b[1;32m----> 1\u001b[1;33m \u001b[0mnumbers\u001b[0m\u001b[1;33m\u001b[0m\u001b[1;33m\u001b[0m\u001b[0m\n\u001b[0m",
      "\u001b[1;31mNameError\u001b[0m: name 'numbers' is not defined"
     ]
    }
   ],
   "source": [
    "numbers"
   ]
  },
  {
   "cell_type": "code",
   "execution_count": 16,
   "metadata": {},
   "outputs": [
    {
     "data": {
      "text/plain": [
       "[[1, 2, 3], [4, 5, 6], [7, 8, 9]]"
      ]
     },
     "execution_count": 16,
     "metadata": {},
     "output_type": "execute_result"
    }
   ],
   "source": [
    "numbers = [\n",
    "    [1, 2, 3],\n",
    "    [4, 5, 6],\n",
    "    [7, 8, 9]\n",
    "]\n",
    "numbers"
   ]
  },
  {
   "cell_type": "code",
   "execution_count": 17,
   "metadata": {},
   "outputs": [
    {
     "data": {
      "text/html": [
       "<div>\n",
       "<style scoped>\n",
       "    .dataframe tbody tr th:only-of-type {\n",
       "        vertical-align: middle;\n",
       "    }\n",
       "\n",
       "    .dataframe tbody tr th {\n",
       "        vertical-align: top;\n",
       "    }\n",
       "\n",
       "    .dataframe thead th {\n",
       "        text-align: right;\n",
       "    }\n",
       "</style>\n",
       "<table border=\"1\" class=\"dataframe\">\n",
       "  <thead>\n",
       "    <tr style=\"text-align: right;\">\n",
       "      <th></th>\n",
       "      <th>0</th>\n",
       "      <th>1</th>\n",
       "      <th>2</th>\n",
       "    </tr>\n",
       "  </thead>\n",
       "  <tbody>\n",
       "    <tr>\n",
       "      <th>0</th>\n",
       "      <td>1</td>\n",
       "      <td>2</td>\n",
       "      <td>3</td>\n",
       "    </tr>\n",
       "    <tr>\n",
       "      <th>1</th>\n",
       "      <td>4</td>\n",
       "      <td>5</td>\n",
       "      <td>6</td>\n",
       "    </tr>\n",
       "    <tr>\n",
       "      <th>2</th>\n",
       "      <td>7</td>\n",
       "      <td>8</td>\n",
       "      <td>9</td>\n",
       "    </tr>\n",
       "  </tbody>\n",
       "</table>\n",
       "</div>"
      ],
      "text/plain": [
       "   0  1  2\n",
       "0  1  2  3\n",
       "1  4  5  6\n",
       "2  7  8  9"
      ]
     },
     "execution_count": 17,
     "metadata": {},
     "output_type": "execute_result"
    }
   ],
   "source": [
    "pd_numbers = pd.DataFrame(numbers)\n",
    "pd_numbers"
   ]
  },
  {
   "cell_type": "code",
   "execution_count": 18,
   "metadata": {},
   "outputs": [
    {
     "data": {
      "text/plain": [
       "list"
      ]
     },
     "execution_count": 18,
     "metadata": {},
     "output_type": "execute_result"
    }
   ],
   "source": [
    "type(numbers)"
   ]
  },
  {
   "cell_type": "code",
   "execution_count": 19,
   "metadata": {},
   "outputs": [
    {
     "data": {
      "text/plain": [
       "pandas.core.frame.DataFrame"
      ]
     },
     "execution_count": 19,
     "metadata": {},
     "output_type": "execute_result"
    }
   ],
   "source": [
    "type(pd_numbers)"
   ]
  },
  {
   "cell_type": "code",
   "execution_count": 20,
   "metadata": {},
   "outputs": [
    {
     "data": {
      "text/plain": [
       "pandas.core.series.Series"
      ]
     },
     "execution_count": 20,
     "metadata": {},
     "output_type": "execute_result"
    }
   ],
   "source": [
    "type(pd_numbers[0])"
   ]
  },
  {
   "cell_type": "code",
   "execution_count": 21,
   "metadata": {},
   "outputs": [
    {
     "data": {
      "text/plain": [
       "0    1\n",
       "1    4\n",
       "2    7\n",
       "Name: 0, dtype: int64"
      ]
     },
     "execution_count": 21,
     "metadata": {},
     "output_type": "execute_result"
    }
   ],
   "source": [
    "# 컬럼으로 값을 가져옵니다.\n",
    "\n",
    "pd_numbers[0]"
   ]
  },
  {
   "cell_type": "code",
   "execution_count": 22,
   "metadata": {},
   "outputs": [
    {
     "data": {
      "text/plain": [
       "0    1\n",
       "1    2\n",
       "2    3\n",
       "Name: 0, dtype: int64"
      ]
     },
     "execution_count": 22,
     "metadata": {},
     "output_type": "execute_result"
    }
   ],
   "source": [
    "# loc == locate, 행, 열 값을 통해 값을 가져옵니다.\n",
    "# loc[행,열]\n",
    "# loc[행]\n",
    "\n",
    "pd_numbers.loc[0]"
   ]
  },
  {
   "cell_type": "code",
   "execution_count": 23,
   "metadata": {},
   "outputs": [
    {
     "data": {
      "text/plain": [
       "3"
      ]
     },
     "execution_count": 23,
     "metadata": {},
     "output_type": "execute_result"
    }
   ],
   "source": [
    "pd_numbers.loc[0,2]"
   ]
  },
  {
   "cell_type": "markdown",
   "metadata": {},
   "source": [
    "## DataFrame 생성하기"
   ]
  },
  {
   "cell_type": "code",
   "execution_count": 24,
   "metadata": {},
   "outputs": [
    {
     "data": {
      "text/html": [
       "<div>\n",
       "<style scoped>\n",
       "    .dataframe tbody tr th:only-of-type {\n",
       "        vertical-align: middle;\n",
       "    }\n",
       "\n",
       "    .dataframe tbody tr th {\n",
       "        vertical-align: top;\n",
       "    }\n",
       "\n",
       "    .dataframe thead th {\n",
       "        text-align: right;\n",
       "    }\n",
       "</style>\n",
       "<table border=\"1\" class=\"dataframe\">\n",
       "  <thead>\n",
       "    <tr style=\"text-align: right;\">\n",
       "      <th></th>\n",
       "      <th>date</th>\n",
       "      <th>price</th>\n",
       "      <th>state</th>\n",
       "    </tr>\n",
       "    <tr>\n",
       "      <th>Name</th>\n",
       "      <th></th>\n",
       "      <th></th>\n",
       "      <th></th>\n",
       "    </tr>\n",
       "  </thead>\n",
       "  <tbody>\n",
       "    <tr>\n",
       "      <th>Kang</th>\n",
       "      <td>2017-01-01</td>\n",
       "      <td>500</td>\n",
       "      <td>confirmed</td>\n",
       "    </tr>\n",
       "    <tr>\n",
       "      <th>Kim</th>\n",
       "      <td>2017-01-03</td>\n",
       "      <td>700</td>\n",
       "      <td>confirmed</td>\n",
       "    </tr>\n",
       "    <tr>\n",
       "      <th>Choi</th>\n",
       "      <td>2017-01-03</td>\n",
       "      <td>900</td>\n",
       "      <td>confirmed</td>\n",
       "    </tr>\n",
       "    <tr>\n",
       "      <th>Park</th>\n",
       "      <td>2017-01-05</td>\n",
       "      <td>800</td>\n",
       "      <td>confirmed</td>\n",
       "    </tr>\n",
       "    <tr>\n",
       "      <th>Lee</th>\n",
       "      <td>2017-01-07</td>\n",
       "      <td>500</td>\n",
       "      <td>canceled</td>\n",
       "    </tr>\n",
       "    <tr>\n",
       "      <th>Yoon</th>\n",
       "      <td>2017-01-09</td>\n",
       "      <td>700</td>\n",
       "      <td>confirmed</td>\n",
       "    </tr>\n",
       "    <tr>\n",
       "      <th>Jang</th>\n",
       "      <td>2017-01-09</td>\n",
       "      <td>600</td>\n",
       "      <td>canceled</td>\n",
       "    </tr>\n",
       "    <tr>\n",
       "      <th>Ko</th>\n",
       "      <td>2017-01-10</td>\n",
       "      <td>200</td>\n",
       "      <td>canceled</td>\n",
       "    </tr>\n",
       "  </tbody>\n",
       "</table>\n",
       "</div>"
      ],
      "text/plain": [
       "            date  price      state\n",
       "Name                              \n",
       "Kang  2017-01-01    500  confirmed\n",
       "Kim   2017-01-03    700  confirmed\n",
       "Choi  2017-01-03    900  confirmed\n",
       "Park  2017-01-05    800  confirmed\n",
       "Lee   2017-01-07    500   canceled\n",
       "Yoon  2017-01-09    700  confirmed\n",
       "Jang  2017-01-09    600   canceled\n",
       "Ko    2017-01-10    200   canceled"
      ]
     },
     "execution_count": 24,
     "metadata": {},
     "output_type": "execute_result"
    }
   ],
   "source": [
    "# Name 컬럼을 Index 로 만듬\n",
    "\n",
    "transaction_url = \"https://bit.ly/dsa-transaction\"\n",
    "transaction = pd.read_csv(transaction_url, index_col = \"Name\")\n",
    "transaction"
   ]
  },
  {
   "cell_type": "code",
   "execution_count": 25,
   "metadata": {},
   "outputs": [
    {
     "data": {
      "text/plain": [
       "Index(['Kang', 'Kim', 'Choi', 'Park', 'Lee', 'Yoon', 'Jang', 'Ko'], dtype='object', name='Name')"
      ]
     },
     "execution_count": 25,
     "metadata": {},
     "output_type": "execute_result"
    }
   ],
   "source": [
    "# transaction 이라는 변수에 담긴 데이터프레임의 index 값을 가져옵니다.\n",
    "\n",
    "transaction.index"
   ]
  },
  {
   "cell_type": "code",
   "execution_count": 26,
   "metadata": {},
   "outputs": [
    {
     "data": {
      "text/plain": [
       "Index(['date', 'price', 'state'], dtype='object')"
      ]
     },
     "execution_count": 26,
     "metadata": {},
     "output_type": "execute_result"
    }
   ],
   "source": [
    "# transaction 이라는 변수에 담긴 데이터프레임의 columns 값을 가져옵니다.\n",
    "\n",
    "transaction.columns"
   ]
  },
  {
   "cell_type": "code",
   "execution_count": 27,
   "metadata": {},
   "outputs": [
    {
     "data": {
      "text/plain": [
       "array([['2017-01-01', 500, 'confirmed'],\n",
       "       ['2017-01-03', 700, 'confirmed'],\n",
       "       ['2017-01-03', 900, 'confirmed'],\n",
       "       ['2017-01-05', 800, 'confirmed'],\n",
       "       ['2017-01-07', 500, 'canceled'],\n",
       "       ['2017-01-09', 700, 'confirmed'],\n",
       "       ['2017-01-09', 600, 'canceled'],\n",
       "       ['2017-01-10', 200, 'canceled']], dtype=object)"
      ]
     },
     "execution_count": 27,
     "metadata": {},
     "output_type": "execute_result"
    }
   ],
   "source": [
    "# transaction 이라는 변수에 담긴 데이터프레임의 값만 가져옵니다.\n",
    "# 이전에 실습했던 numbers에 담긴 리스트 값과 비교해 보시면 좋습니다.\n",
    "# dtype=object, str을 의미한다.\n",
    "\n",
    "transaction.values"
   ]
  },
  {
   "cell_type": "code",
   "execution_count": 28,
   "metadata": {},
   "outputs": [
    {
     "data": {
      "text/plain": [
       "[[1, 2, 3], [4, 5, 6], [7, 8, 9]]"
      ]
     },
     "execution_count": 28,
     "metadata": {},
     "output_type": "execute_result"
    }
   ],
   "source": [
    "numbers"
   ]
  },
  {
   "cell_type": "code",
   "execution_count": 29,
   "metadata": {},
   "outputs": [
    {
     "data": {
      "text/html": [
       "<div>\n",
       "<style scoped>\n",
       "    .dataframe tbody tr th:only-of-type {\n",
       "        vertical-align: middle;\n",
       "    }\n",
       "\n",
       "    .dataframe tbody tr th {\n",
       "        vertical-align: top;\n",
       "    }\n",
       "\n",
       "    .dataframe thead th {\n",
       "        text-align: right;\n",
       "    }\n",
       "</style>\n",
       "<table border=\"1\" class=\"dataframe\">\n",
       "  <thead>\n",
       "    <tr style=\"text-align: right;\">\n",
       "      <th></th>\n",
       "      <th>date</th>\n",
       "      <th>price</th>\n",
       "      <th>state</th>\n",
       "    </tr>\n",
       "    <tr>\n",
       "      <th>Name</th>\n",
       "      <th></th>\n",
       "      <th></th>\n",
       "      <th></th>\n",
       "    </tr>\n",
       "  </thead>\n",
       "  <tbody>\n",
       "    <tr>\n",
       "      <th>Kang</th>\n",
       "      <td>2017-01-01</td>\n",
       "      <td>500</td>\n",
       "      <td>confirmed</td>\n",
       "    </tr>\n",
       "    <tr>\n",
       "      <th>Kim</th>\n",
       "      <td>2017-01-03</td>\n",
       "      <td>700</td>\n",
       "      <td>confirmed</td>\n",
       "    </tr>\n",
       "    <tr>\n",
       "      <th>Choi</th>\n",
       "      <td>2017-01-03</td>\n",
       "      <td>900</td>\n",
       "      <td>confirmed</td>\n",
       "    </tr>\n",
       "    <tr>\n",
       "      <th>Park</th>\n",
       "      <td>2017-01-05</td>\n",
       "      <td>800</td>\n",
       "      <td>confirmed</td>\n",
       "    </tr>\n",
       "    <tr>\n",
       "      <th>Lee</th>\n",
       "      <td>2017-01-07</td>\n",
       "      <td>500</td>\n",
       "      <td>canceled</td>\n",
       "    </tr>\n",
       "  </tbody>\n",
       "</table>\n",
       "</div>"
      ],
      "text/plain": [
       "            date  price      state\n",
       "Name                              \n",
       "Kang  2017-01-01    500  confirmed\n",
       "Kim   2017-01-03    700  confirmed\n",
       "Choi  2017-01-03    900  confirmed\n",
       "Park  2017-01-05    800  confirmed\n",
       "Lee   2017-01-07    500   canceled"
      ]
     },
     "execution_count": 29,
     "metadata": {},
     "output_type": "execute_result"
    }
   ],
   "source": [
    "# transaction.head? 파이썬의 자기호출 기능을 사용해서 문서를 보실 수 있습니다.\n",
    "# shift + tab 키를 매소드의 소괄호 안에서 누르면\n",
    "# 위에서 보신 동일한 문서를 툴팁으로 보실 수 있습니다.\n",
    "\n",
    "transaction.head()"
   ]
  },
  {
   "cell_type": "code",
   "execution_count": 30,
   "metadata": {},
   "outputs": [
    {
     "data": {
      "text/html": [
       "<div>\n",
       "<style scoped>\n",
       "    .dataframe tbody tr th:only-of-type {\n",
       "        vertical-align: middle;\n",
       "    }\n",
       "\n",
       "    .dataframe tbody tr th {\n",
       "        vertical-align: top;\n",
       "    }\n",
       "\n",
       "    .dataframe thead th {\n",
       "        text-align: right;\n",
       "    }\n",
       "</style>\n",
       "<table border=\"1\" class=\"dataframe\">\n",
       "  <thead>\n",
       "    <tr style=\"text-align: right;\">\n",
       "      <th></th>\n",
       "      <th>date</th>\n",
       "      <th>price</th>\n",
       "      <th>state</th>\n",
       "    </tr>\n",
       "    <tr>\n",
       "      <th>Name</th>\n",
       "      <th></th>\n",
       "      <th></th>\n",
       "      <th></th>\n",
       "    </tr>\n",
       "  </thead>\n",
       "  <tbody>\n",
       "    <tr>\n",
       "      <th>Park</th>\n",
       "      <td>2017-01-05</td>\n",
       "      <td>800</td>\n",
       "      <td>confirmed</td>\n",
       "    </tr>\n",
       "    <tr>\n",
       "      <th>Lee</th>\n",
       "      <td>2017-01-07</td>\n",
       "      <td>500</td>\n",
       "      <td>canceled</td>\n",
       "    </tr>\n",
       "    <tr>\n",
       "      <th>Yoon</th>\n",
       "      <td>2017-01-09</td>\n",
       "      <td>700</td>\n",
       "      <td>confirmed</td>\n",
       "    </tr>\n",
       "    <tr>\n",
       "      <th>Jang</th>\n",
       "      <td>2017-01-09</td>\n",
       "      <td>600</td>\n",
       "      <td>canceled</td>\n",
       "    </tr>\n",
       "    <tr>\n",
       "      <th>Ko</th>\n",
       "      <td>2017-01-10</td>\n",
       "      <td>200</td>\n",
       "      <td>canceled</td>\n",
       "    </tr>\n",
       "  </tbody>\n",
       "</table>\n",
       "</div>"
      ],
      "text/plain": [
       "            date  price      state\n",
       "Name                              \n",
       "Park  2017-01-05    800  confirmed\n",
       "Lee   2017-01-07    500   canceled\n",
       "Yoon  2017-01-09    700  confirmed\n",
       "Jang  2017-01-09    600   canceled\n",
       "Ko    2017-01-10    200   canceled"
      ]
     },
     "execution_count": 30,
     "metadata": {},
     "output_type": "execute_result"
    }
   ],
   "source": [
    "transaction.tail()"
   ]
  },
  {
   "cell_type": "code",
   "execution_count": 31,
   "metadata": {},
   "outputs": [
    {
     "data": {
      "text/plain": [
       "Name\n",
       "Kang    2017-01-01\n",
       "Kim     2017-01-03\n",
       "Choi    2017-01-03\n",
       "Park    2017-01-05\n",
       "Lee     2017-01-07\n",
       "Name: date, dtype: object"
      ]
     },
     "execution_count": 31,
     "metadata": {},
     "output_type": "execute_result"
    }
   ],
   "source": [
    "# 데이터 프레임 뿐만 아니라 시리즈 테이터도 미리보기가 가능하다.\n",
    "\n",
    "transaction[\"date\"].head()"
   ]
  },
  {
   "cell_type": "code",
   "execution_count": 37,
   "metadata": {},
   "outputs": [
    {
     "data": {
      "text/plain": [
       "Index(['date', 'amount', 'result'], dtype='object')"
      ]
     },
     "execution_count": 37,
     "metadata": {},
     "output_type": "execute_result"
    }
   ],
   "source": [
    "transaction.columns"
   ]
  },
  {
   "cell_type": "code",
   "execution_count": 38,
   "metadata": {},
   "outputs": [
    {
     "data": {
      "text/html": [
       "<div>\n",
       "<style scoped>\n",
       "    .dataframe tbody tr th:only-of-type {\n",
       "        vertical-align: middle;\n",
       "    }\n",
       "\n",
       "    .dataframe tbody tr th {\n",
       "        vertical-align: top;\n",
       "    }\n",
       "\n",
       "    .dataframe thead th {\n",
       "        text-align: right;\n",
       "    }\n",
       "</style>\n",
       "<table border=\"1\" class=\"dataframe\">\n",
       "  <thead>\n",
       "    <tr style=\"text-align: right;\">\n",
       "      <th></th>\n",
       "      <th>date</th>\n",
       "      <th>amount</th>\n",
       "      <th>result</th>\n",
       "    </tr>\n",
       "    <tr>\n",
       "      <th>Name</th>\n",
       "      <th></th>\n",
       "      <th></th>\n",
       "      <th></th>\n",
       "    </tr>\n",
       "  </thead>\n",
       "  <tbody>\n",
       "    <tr>\n",
       "      <th>Kang</th>\n",
       "      <td>2017-01-01</td>\n",
       "      <td>500</td>\n",
       "      <td>confirmed</td>\n",
       "    </tr>\n",
       "    <tr>\n",
       "      <th>Kim</th>\n",
       "      <td>2017-01-03</td>\n",
       "      <td>700</td>\n",
       "      <td>confirmed</td>\n",
       "    </tr>\n",
       "    <tr>\n",
       "      <th>Choi</th>\n",
       "      <td>2017-01-03</td>\n",
       "      <td>900</td>\n",
       "      <td>confirmed</td>\n",
       "    </tr>\n",
       "    <tr>\n",
       "      <th>Park</th>\n",
       "      <td>2017-01-05</td>\n",
       "      <td>800</td>\n",
       "      <td>confirmed</td>\n",
       "    </tr>\n",
       "    <tr>\n",
       "      <th>Lee</th>\n",
       "      <td>2017-01-07</td>\n",
       "      <td>500</td>\n",
       "      <td>canceled</td>\n",
       "    </tr>\n",
       "    <tr>\n",
       "      <th>Yoon</th>\n",
       "      <td>2017-01-09</td>\n",
       "      <td>700</td>\n",
       "      <td>confirmed</td>\n",
       "    </tr>\n",
       "    <tr>\n",
       "      <th>Jang</th>\n",
       "      <td>2017-01-09</td>\n",
       "      <td>600</td>\n",
       "      <td>canceled</td>\n",
       "    </tr>\n",
       "    <tr>\n",
       "      <th>Ko</th>\n",
       "      <td>2017-01-10</td>\n",
       "      <td>200</td>\n",
       "      <td>canceled</td>\n",
       "    </tr>\n",
       "  </tbody>\n",
       "</table>\n",
       "</div>"
      ],
      "text/plain": [
       "            date  amount     result\n",
       "Name                               \n",
       "Kang  2017-01-01     500  confirmed\n",
       "Kim   2017-01-03     700  confirmed\n",
       "Choi  2017-01-03     900  confirmed\n",
       "Park  2017-01-05     800  confirmed\n",
       "Lee   2017-01-07     500   canceled\n",
       "Yoon  2017-01-09     700  confirmed\n",
       "Jang  2017-01-09     600   canceled\n",
       "Ko    2017-01-10     200   canceled"
      ]
     },
     "execution_count": 38,
     "metadata": {},
     "output_type": "execute_result"
    }
   ],
   "source": [
    "# 컬럼명을 변경해 줍니다.\n",
    "\n",
    "transaction.columns = [\"date\", \"amount\", \"result\"]\n",
    "transaction"
   ]
  },
  {
   "cell_type": "markdown",
   "metadata": {},
   "source": [
    "## 기본연산"
   ]
  },
  {
   "cell_type": "code",
   "execution_count": 41,
   "metadata": {},
   "outputs": [
    {
     "data": {
      "text/plain": [
       "612.5"
      ]
     },
     "execution_count": 41,
     "metadata": {},
     "output_type": "execute_result"
    }
   ],
   "source": [
    "# 평균값을 구해옵니다.\n",
    "\n",
    "transaction[\"amount\"].mean()"
   ]
  },
  {
   "cell_type": "code",
   "execution_count": 43,
   "metadata": {},
   "outputs": [
    {
     "data": {
      "text/plain": [
       "200"
      ]
     },
     "execution_count": 43,
     "metadata": {},
     "output_type": "execute_result"
    }
   ],
   "source": [
    "# 최소값\n",
    "\n",
    "transaction[\"amount\"].min()"
   ]
  },
  {
   "cell_type": "code",
   "execution_count": 44,
   "metadata": {},
   "outputs": [
    {
     "data": {
      "text/plain": [
       "900"
      ]
     },
     "execution_count": 44,
     "metadata": {},
     "output_type": "execute_result"
    }
   ],
   "source": [
    "# 최대값\n",
    "\n",
    "transaction[\"amount\"].max()"
   ]
  },
  {
   "cell_type": "code",
   "execution_count": 51,
   "metadata": {},
   "outputs": [
    {
     "data": {
      "text/plain": [
       "650.0"
      ]
     },
     "execution_count": 51,
     "metadata": {},
     "output_type": "execute_result"
    }
   ],
   "source": [
    "# 중간값\n",
    "\n",
    "transaction[\"amount\"].median()"
   ]
  },
  {
   "cell_type": "code",
   "execution_count": 53,
   "metadata": {},
   "outputs": [
    {
     "data": {
      "text/plain": [
       "count      8.000000\n",
       "mean     612.500000\n",
       "std      216.712449\n",
       "min      200.000000\n",
       "25%      500.000000\n",
       "50%      650.000000\n",
       "75%      725.000000\n",
       "max      900.000000\n",
       "Name: amount, dtype: float64"
      ]
     },
     "execution_count": 53,
     "metadata": {},
     "output_type": "execute_result"
    }
   ],
   "source": [
    "transaction[\"amount\"].describe()\n",
    "\n",
    "# std 표준편차\n",
    "# 50%를 중간값으로 봐도 됨\n",
    "# 최대값, 최소값의 편향이 너무 심하면 중간값 사용"
   ]
  },
  {
   "cell_type": "code",
   "execution_count": 46,
   "metadata": {},
   "outputs": [
    {
     "data": {
      "text/plain": [
       "array(['confirmed', 'canceled'], dtype=object)"
      ]
     },
     "execution_count": 46,
     "metadata": {},
     "output_type": "execute_result"
    }
   ],
   "source": [
    "# 깂이 몇개의 종류별로 나옴\n",
    "\n",
    "transaction[\"result\"].unique()"
   ]
  },
  {
   "cell_type": "code",
   "execution_count": 47,
   "metadata": {},
   "outputs": [
    {
     "data": {
      "text/plain": [
       "confirmed    5\n",
       "canceled     3\n",
       "Name: result, dtype: int64"
      ]
     },
     "execution_count": 47,
     "metadata": {},
     "output_type": "execute_result"
    }
   ],
   "source": [
    "# 카테고리를 그룹화 해서 갯수를 세어줍니다.\n",
    "\n",
    "transaction[\"result\"].value_counts()"
   ]
  },
  {
   "cell_type": "code",
   "execution_count": 48,
   "metadata": {},
   "outputs": [
    {
     "data": {
      "text/plain": [
       "confirmed    0.625\n",
       "canceled     0.375\n",
       "Name: result, dtype: float64"
      ]
     },
     "execution_count": 48,
     "metadata": {},
     "output_type": "execute_result"
    }
   ],
   "source": [
    "# 데이터에서 어느정도 비율을 차지하고 있는지 구해볼 수 있습니다.\n",
    "\n",
    "transaction[\"result\"].value_counts(normalize = True)"
   ]
  },
  {
   "cell_type": "code",
   "execution_count": 54,
   "metadata": {},
   "outputs": [
    {
     "data": {
      "text/plain": [
       "Name\n",
       "Kang    False\n",
       "Kim     False\n",
       "Choi     True\n",
       "Park    False\n",
       "Lee     False\n",
       "Yoon    False\n",
       "Jang    False\n",
       "Ko      False\n",
       "Name: amount, dtype: bool"
      ]
     },
     "execution_count": 54,
     "metadata": {},
     "output_type": "execute_result"
    }
   ],
   "source": [
    "# 전체 데이터에서 어떤 데이터가 최대값을 의미하는지 보고자 할 때\n",
    "\n",
    "transaction[\"amount\"] == transaction[\"amount\"].max()"
   ]
  },
  {
   "cell_type": "code",
   "execution_count": 55,
   "metadata": {},
   "outputs": [
    {
     "data": {
      "text/html": [
       "<div>\n",
       "<style scoped>\n",
       "    .dataframe tbody tr th:only-of-type {\n",
       "        vertical-align: middle;\n",
       "    }\n",
       "\n",
       "    .dataframe tbody tr th {\n",
       "        vertical-align: top;\n",
       "    }\n",
       "\n",
       "    .dataframe thead th {\n",
       "        text-align: right;\n",
       "    }\n",
       "</style>\n",
       "<table border=\"1\" class=\"dataframe\">\n",
       "  <thead>\n",
       "    <tr style=\"text-align: right;\">\n",
       "      <th></th>\n",
       "      <th>date</th>\n",
       "      <th>amount</th>\n",
       "      <th>result</th>\n",
       "    </tr>\n",
       "    <tr>\n",
       "      <th>Name</th>\n",
       "      <th></th>\n",
       "      <th></th>\n",
       "      <th></th>\n",
       "    </tr>\n",
       "  </thead>\n",
       "  <tbody>\n",
       "    <tr>\n",
       "      <th>Choi</th>\n",
       "      <td>2017-01-03</td>\n",
       "      <td>900</td>\n",
       "      <td>confirmed</td>\n",
       "    </tr>\n",
       "  </tbody>\n",
       "</table>\n",
       "</div>"
      ],
      "text/plain": [
       "            date  amount     result\n",
       "Name                               \n",
       "Choi  2017-01-03     900  confirmed"
      ]
     },
     "execution_count": 55,
     "metadata": {},
     "output_type": "execute_result"
    }
   ],
   "source": [
    "# 전체 데이터에서 어떤 데이터가 최대값을 의미하는지 보고자 할 때\n",
    "\n",
    "transaction[transaction[\"amount\"] == transaction[\"amount\"].max()]"
   ]
  },
  {
   "cell_type": "code",
   "execution_count": 56,
   "metadata": {},
   "outputs": [
    {
     "data": {
      "text/html": [
       "<div>\n",
       "<style scoped>\n",
       "    .dataframe tbody tr th:only-of-type {\n",
       "        vertical-align: middle;\n",
       "    }\n",
       "\n",
       "    .dataframe tbody tr th {\n",
       "        vertical-align: top;\n",
       "    }\n",
       "\n",
       "    .dataframe thead th {\n",
       "        text-align: right;\n",
       "    }\n",
       "</style>\n",
       "<table border=\"1\" class=\"dataframe\">\n",
       "  <thead>\n",
       "    <tr style=\"text-align: right;\">\n",
       "      <th></th>\n",
       "      <th>date</th>\n",
       "      <th>amount</th>\n",
       "      <th>result</th>\n",
       "    </tr>\n",
       "    <tr>\n",
       "      <th>Name</th>\n",
       "      <th></th>\n",
       "      <th></th>\n",
       "      <th></th>\n",
       "    </tr>\n",
       "  </thead>\n",
       "  <tbody>\n",
       "    <tr>\n",
       "      <th>Kang</th>\n",
       "      <td>2017-01-01</td>\n",
       "      <td>500</td>\n",
       "      <td>confirmed</td>\n",
       "    </tr>\n",
       "    <tr>\n",
       "      <th>Kim</th>\n",
       "      <td>2017-01-03</td>\n",
       "      <td>700</td>\n",
       "      <td>confirmed</td>\n",
       "    </tr>\n",
       "    <tr>\n",
       "      <th>Choi</th>\n",
       "      <td>2017-01-03</td>\n",
       "      <td>900</td>\n",
       "      <td>confirmed</td>\n",
       "    </tr>\n",
       "    <tr>\n",
       "      <th>Park</th>\n",
       "      <td>2017-01-05</td>\n",
       "      <td>800</td>\n",
       "      <td>confirmed</td>\n",
       "    </tr>\n",
       "    <tr>\n",
       "      <th>Lee</th>\n",
       "      <td>2017-01-07</td>\n",
       "      <td>500</td>\n",
       "      <td>canceled</td>\n",
       "    </tr>\n",
       "    <tr>\n",
       "      <th>Yoon</th>\n",
       "      <td>2017-01-09</td>\n",
       "      <td>700</td>\n",
       "      <td>confirmed</td>\n",
       "    </tr>\n",
       "    <tr>\n",
       "      <th>Jang</th>\n",
       "      <td>2017-01-09</td>\n",
       "      <td>600</td>\n",
       "      <td>canceled</td>\n",
       "    </tr>\n",
       "    <tr>\n",
       "      <th>Ko</th>\n",
       "      <td>2017-01-10</td>\n",
       "      <td>200</td>\n",
       "      <td>canceled</td>\n",
       "    </tr>\n",
       "  </tbody>\n",
       "</table>\n",
       "</div>"
      ],
      "text/plain": [
       "            date  amount     result\n",
       "Name                               \n",
       "Kang  2017-01-01     500  confirmed\n",
       "Kim   2017-01-03     700  confirmed\n",
       "Choi  2017-01-03     900  confirmed\n",
       "Park  2017-01-05     800  confirmed\n",
       "Lee   2017-01-07     500   canceled\n",
       "Yoon  2017-01-09     700  confirmed\n",
       "Jang  2017-01-09     600   canceled\n",
       "Ko    2017-01-10     200   canceled"
      ]
     },
     "execution_count": 56,
     "metadata": {},
     "output_type": "execute_result"
    }
   ],
   "source": [
    "transaction"
   ]
  },
  {
   "cell_type": "code",
   "execution_count": 64,
   "metadata": {},
   "outputs": [
    {
     "data": {
      "text/plain": [
       "Name\n",
       "Kang    confirm\n",
       "Kim     confirm\n",
       "Choi    confirm\n",
       "Park    confirm\n",
       "Lee      cancel\n",
       "Yoon    confirm\n",
       "Jang     cancel\n",
       "Ko       cancel\n",
       "Name: result, dtype: object"
      ]
     },
     "execution_count": 64,
     "metadata": {},
     "output_type": "execute_result"
    }
   ],
   "source": [
    "# confirmed => confirm\n",
    "# canceled => cancel\n",
    "# 코드 내에서 개행을 하고자 할 때는 역슬래시를 사용합니다.\n",
    "\n",
    "transaction[\"result\"] = transaction[\"result\"]\\\n",
    "                    .replace(\"confirmed\" , \"confirm\") \\\n",
    "                    .replace(\"canceled\", \"cancel\")\n",
    "\n",
    "transaction[\"result\"]"
   ]
  },
  {
   "cell_type": "code",
   "execution_count": 65,
   "metadata": {},
   "outputs": [
    {
     "data": {
      "text/plain": [
       "Name\n",
       "Kang    confirm\n",
       "Kim     confirm\n",
       "Choi    confirm\n",
       "Park    confirm\n",
       "Lee      cancel\n",
       "Yoon    confirm\n",
       "Jang     cancel\n",
       "Ko       cancel\n",
       "Name: result, dtype: object"
      ]
     },
     "execution_count": 65,
     "metadata": {},
     "output_type": "execute_result"
    }
   ],
   "source": [
    "transaction[\"result\"]"
   ]
  },
  {
   "cell_type": "markdown",
   "metadata": {},
   "source": [
    "## 날짜와 시간"
   ]
  },
  {
   "cell_type": "code",
   "execution_count": 66,
   "metadata": {},
   "outputs": [
    {
     "data": {
      "text/plain": [
       "Name\n",
       "Kang    2017-01-01\n",
       "Kim     2017-01-03\n",
       "Choi    2017-01-03\n",
       "Park    2017-01-05\n",
       "Lee     2017-01-07\n",
       "Yoon    2017-01-09\n",
       "Jang    2017-01-09\n",
       "Ko      2017-01-10\n",
       "Name: date, dtype: object"
      ]
     },
     "execution_count": 66,
     "metadata": {},
     "output_type": "execute_result"
    }
   ],
   "source": [
    "# object == string\n",
    "# datetime의 다양한 기능을 사용하기 위해\n",
    "# 데이터의 형식을 datetime 으로 바꿔줄 필요가 있습니다.\n",
    "\n",
    "transaction[\"date\"]"
   ]
  },
  {
   "cell_type": "code",
   "execution_count": 69,
   "metadata": {},
   "outputs": [],
   "source": [
    "# 데이터의 형식 변경후에는 꼭 사용하고자 하는 컬럼에 \n",
    "# 생성 & 변경으로 할당을 해주셔야 합니다.\n",
    "\n",
    "transaction[\"date\"] = pd.to_datetime(transaction[\"date\"])"
   ]
  },
  {
   "cell_type": "code",
   "execution_count": 73,
   "metadata": {},
   "outputs": [
    {
     "data": {
      "text/plain": [
       "Name\n",
       "Kang   2017-01-01\n",
       "Kim    2017-01-03\n",
       "Choi   2017-01-03\n",
       "Park   2017-01-05\n",
       "Lee    2017-01-07\n",
       "Yoon   2017-01-09\n",
       "Jang   2017-01-09\n",
       "Ko     2017-01-10\n",
       "Name: date, dtype: datetime64[ns]"
      ]
     },
     "execution_count": 73,
     "metadata": {},
     "output_type": "execute_result"
    }
   ],
   "source": [
    "transaction[\"date\"]"
   ]
  },
  {
   "cell_type": "code",
   "execution_count": 74,
   "metadata": {
    "scrolled": true
   },
   "outputs": [
    {
     "data": {
      "text/plain": [
       "Name\n",
       "Kang    2017\n",
       "Kim     2017\n",
       "Choi    2017\n",
       "Park    2017\n",
       "Lee     2017\n",
       "Yoon    2017\n",
       "Jang    2017\n",
       "Ko      2017\n",
       "Name: date, dtype: int64"
      ]
     },
     "execution_count": 74,
     "metadata": {},
     "output_type": "execute_result"
    }
   ],
   "source": [
    "transaction[\"date\"].dt.year"
   ]
  },
  {
   "cell_type": "code",
   "execution_count": 75,
   "metadata": {},
   "outputs": [
    {
     "data": {
      "text/plain": [
       "Name\n",
       "Kang    6\n",
       "Kim     1\n",
       "Choi    1\n",
       "Park    3\n",
       "Lee     5\n",
       "Yoon    0\n",
       "Jang    0\n",
       "Ko      1\n",
       "Name: date, dtype: int64"
      ]
     },
     "execution_count": 75,
     "metadata": {},
     "output_type": "execute_result"
    }
   ],
   "source": [
    "# 요일 표시\n",
    "\n",
    "transaction[\"date\"].dt.dayofweek"
   ]
  },
  {
   "cell_type": "markdown",
   "metadata": {},
   "source": [
    "## 행렬 접근하기"
   ]
  },
  {
   "cell_type": "code",
   "execution_count": 77,
   "metadata": {},
   "outputs": [
    {
     "data": {
      "text/plain": [
       "Name\n",
       "Kang   2017-01-01\n",
       "Kim    2017-01-03\n",
       "Choi   2017-01-03\n",
       "Park   2017-01-05\n",
       "Lee    2017-01-07\n",
       "Yoon   2017-01-09\n",
       "Jang   2017-01-09\n",
       "Ko     2017-01-10\n",
       "Name: date, dtype: datetime64[ns]"
      ]
     },
     "execution_count": 77,
     "metadata": {},
     "output_type": "execute_result"
    }
   ],
   "source": [
    "# series 의 형태\n",
    "\n",
    "transaction[\"date\"]"
   ]
  },
  {
   "cell_type": "code",
   "execution_count": 83,
   "metadata": {},
   "outputs": [
    {
     "data": {
      "text/html": [
       "<div>\n",
       "<style scoped>\n",
       "    .dataframe tbody tr th:only-of-type {\n",
       "        vertical-align: middle;\n",
       "    }\n",
       "\n",
       "    .dataframe tbody tr th {\n",
       "        vertical-align: top;\n",
       "    }\n",
       "\n",
       "    .dataframe thead th {\n",
       "        text-align: right;\n",
       "    }\n",
       "</style>\n",
       "<table border=\"1\" class=\"dataframe\">\n",
       "  <thead>\n",
       "    <tr style=\"text-align: right;\">\n",
       "      <th></th>\n",
       "      <th>date</th>\n",
       "    </tr>\n",
       "    <tr>\n",
       "      <th>Name</th>\n",
       "      <th></th>\n",
       "    </tr>\n",
       "  </thead>\n",
       "  <tbody>\n",
       "    <tr>\n",
       "      <th>Kang</th>\n",
       "      <td>2017-01-01</td>\n",
       "    </tr>\n",
       "    <tr>\n",
       "      <th>Kim</th>\n",
       "      <td>2017-01-03</td>\n",
       "    </tr>\n",
       "    <tr>\n",
       "      <th>Choi</th>\n",
       "      <td>2017-01-03</td>\n",
       "    </tr>\n",
       "    <tr>\n",
       "      <th>Park</th>\n",
       "      <td>2017-01-05</td>\n",
       "    </tr>\n",
       "    <tr>\n",
       "      <th>Lee</th>\n",
       "      <td>2017-01-07</td>\n",
       "    </tr>\n",
       "    <tr>\n",
       "      <th>Yoon</th>\n",
       "      <td>2017-01-09</td>\n",
       "    </tr>\n",
       "    <tr>\n",
       "      <th>Jang</th>\n",
       "      <td>2017-01-09</td>\n",
       "    </tr>\n",
       "    <tr>\n",
       "      <th>Ko</th>\n",
       "      <td>2017-01-10</td>\n",
       "    </tr>\n",
       "  </tbody>\n",
       "</table>\n",
       "</div>"
      ],
      "text/plain": [
       "           date\n",
       "Name           \n",
       "Kang 2017-01-01\n",
       "Kim  2017-01-03\n",
       "Choi 2017-01-03\n",
       "Park 2017-01-05\n",
       "Lee  2017-01-07\n",
       "Yoon 2017-01-09\n",
       "Jang 2017-01-09\n",
       "Ko   2017-01-10"
      ]
     },
     "execution_count": 83,
     "metadata": {},
     "output_type": "execute_result"
    }
   ],
   "source": [
    "# DateFrame 의 형태\n",
    "\n",
    "transaction[[\"date\"]]"
   ]
  },
  {
   "cell_type": "code",
   "execution_count": 84,
   "metadata": {},
   "outputs": [
    {
     "data": {
      "text/html": [
       "<div>\n",
       "<style scoped>\n",
       "    .dataframe tbody tr th:only-of-type {\n",
       "        vertical-align: middle;\n",
       "    }\n",
       "\n",
       "    .dataframe tbody tr th {\n",
       "        vertical-align: top;\n",
       "    }\n",
       "\n",
       "    .dataframe thead th {\n",
       "        text-align: right;\n",
       "    }\n",
       "</style>\n",
       "<table border=\"1\" class=\"dataframe\">\n",
       "  <thead>\n",
       "    <tr style=\"text-align: right;\">\n",
       "      <th></th>\n",
       "      <th>date</th>\n",
       "      <th>amount</th>\n",
       "    </tr>\n",
       "    <tr>\n",
       "      <th>Name</th>\n",
       "      <th></th>\n",
       "      <th></th>\n",
       "    </tr>\n",
       "  </thead>\n",
       "  <tbody>\n",
       "    <tr>\n",
       "      <th>Kang</th>\n",
       "      <td>2017-01-01</td>\n",
       "      <td>500</td>\n",
       "    </tr>\n",
       "    <tr>\n",
       "      <th>Kim</th>\n",
       "      <td>2017-01-03</td>\n",
       "      <td>700</td>\n",
       "    </tr>\n",
       "    <tr>\n",
       "      <th>Choi</th>\n",
       "      <td>2017-01-03</td>\n",
       "      <td>900</td>\n",
       "    </tr>\n",
       "    <tr>\n",
       "      <th>Park</th>\n",
       "      <td>2017-01-05</td>\n",
       "      <td>800</td>\n",
       "    </tr>\n",
       "    <tr>\n",
       "      <th>Lee</th>\n",
       "      <td>2017-01-07</td>\n",
       "      <td>500</td>\n",
       "    </tr>\n",
       "    <tr>\n",
       "      <th>Yoon</th>\n",
       "      <td>2017-01-09</td>\n",
       "      <td>700</td>\n",
       "    </tr>\n",
       "    <tr>\n",
       "      <th>Jang</th>\n",
       "      <td>2017-01-09</td>\n",
       "      <td>600</td>\n",
       "    </tr>\n",
       "    <tr>\n",
       "      <th>Ko</th>\n",
       "      <td>2017-01-10</td>\n",
       "      <td>200</td>\n",
       "    </tr>\n",
       "  </tbody>\n",
       "</table>\n",
       "</div>"
      ],
      "text/plain": [
       "           date  amount\n",
       "Name                   \n",
       "Kang 2017-01-01     500\n",
       "Kim  2017-01-03     700\n",
       "Choi 2017-01-03     900\n",
       "Park 2017-01-05     800\n",
       "Lee  2017-01-07     500\n",
       "Yoon 2017-01-09     700\n",
       "Jang 2017-01-09     600\n",
       "Ko   2017-01-10     200"
      ]
     },
     "execution_count": 84,
     "metadata": {},
     "output_type": "execute_result"
    }
   ],
   "source": [
    "# 파이썬에서 여러 개의 데이터를 다룰 때는 리스트를 사용합니다.\n",
    "# 하나의 컬럼을 가져올 때는 컬럼 이름을 지정해 주면 되지만\n",
    "# 여러개의 컬럼을 가져올 때는 리스트로 지정해 줍니다.\n",
    "\n",
    "transaction[[\"date\", \"amount\"]]"
   ]
  },
  {
   "cell_type": "code",
   "execution_count": 85,
   "metadata": {},
   "outputs": [
    {
     "data": {
      "text/html": [
       "<div>\n",
       "<style scoped>\n",
       "    .dataframe tbody tr th:only-of-type {\n",
       "        vertical-align: middle;\n",
       "    }\n",
       "\n",
       "    .dataframe tbody tr th {\n",
       "        vertical-align: top;\n",
       "    }\n",
       "\n",
       "    .dataframe thead th {\n",
       "        text-align: right;\n",
       "    }\n",
       "</style>\n",
       "<table border=\"1\" class=\"dataframe\">\n",
       "  <thead>\n",
       "    <tr style=\"text-align: right;\">\n",
       "      <th></th>\n",
       "      <th>date</th>\n",
       "      <th>amount</th>\n",
       "    </tr>\n",
       "    <tr>\n",
       "      <th>Name</th>\n",
       "      <th></th>\n",
       "      <th></th>\n",
       "    </tr>\n",
       "  </thead>\n",
       "  <tbody>\n",
       "    <tr>\n",
       "      <th>Kang</th>\n",
       "      <td>2017-01-01</td>\n",
       "      <td>500</td>\n",
       "    </tr>\n",
       "    <tr>\n",
       "      <th>Kim</th>\n",
       "      <td>2017-01-03</td>\n",
       "      <td>700</td>\n",
       "    </tr>\n",
       "    <tr>\n",
       "      <th>Choi</th>\n",
       "      <td>2017-01-03</td>\n",
       "      <td>900</td>\n",
       "    </tr>\n",
       "    <tr>\n",
       "      <th>Park</th>\n",
       "      <td>2017-01-05</td>\n",
       "      <td>800</td>\n",
       "    </tr>\n",
       "    <tr>\n",
       "      <th>Lee</th>\n",
       "      <td>2017-01-07</td>\n",
       "      <td>500</td>\n",
       "    </tr>\n",
       "    <tr>\n",
       "      <th>Yoon</th>\n",
       "      <td>2017-01-09</td>\n",
       "      <td>700</td>\n",
       "    </tr>\n",
       "    <tr>\n",
       "      <th>Jang</th>\n",
       "      <td>2017-01-09</td>\n",
       "      <td>600</td>\n",
       "    </tr>\n",
       "    <tr>\n",
       "      <th>Ko</th>\n",
       "      <td>2017-01-10</td>\n",
       "      <td>200</td>\n",
       "    </tr>\n",
       "  </tbody>\n",
       "</table>\n",
       "</div>"
      ],
      "text/plain": [
       "           date  amount\n",
       "Name                   \n",
       "Kang 2017-01-01     500\n",
       "Kim  2017-01-03     700\n",
       "Choi 2017-01-03     900\n",
       "Park 2017-01-05     800\n",
       "Lee  2017-01-07     500\n",
       "Yoon 2017-01-09     700\n",
       "Jang 2017-01-09     600\n",
       "Ko   2017-01-10     200"
      ]
     },
     "execution_count": 85,
     "metadata": {},
     "output_type": "execute_result"
    }
   ],
   "source": [
    "# 리스트에 사용할 컬럼며을 지정해 줍니다.\n",
    "\n",
    "columns = [\"date\", \"amount\"]\n",
    "transaction[columns]"
   ]
  },
  {
   "cell_type": "code",
   "execution_count": 87,
   "metadata": {},
   "outputs": [
    {
     "data": {
      "text/plain": [
       "pandas.core.series.Series"
      ]
     },
     "execution_count": 87,
     "metadata": {},
     "output_type": "execute_result"
    }
   ],
   "source": [
    "# 하나의 컬럼만 가져오면 Series == Vector == list\n",
    "\n",
    "type(transaction[\"date\"])"
   ]
  },
  {
   "cell_type": "code",
   "execution_count": 89,
   "metadata": {},
   "outputs": [
    {
     "data": {
      "text/plain": [
       "pandas.core.frame.DataFrame"
      ]
     },
     "execution_count": 89,
     "metadata": {},
     "output_type": "execute_result"
    }
   ],
   "source": [
    "# 여러 개의 컬럼을 가져오면 DataFrame == Matrix (행렬) == 다차원배열\n",
    "\n",
    "type(transaction[[\"date\"]])"
   ]
  },
  {
   "cell_type": "code",
   "execution_count": 88,
   "metadata": {},
   "outputs": [
    {
     "data": {
      "text/plain": [
       "pandas.core.frame.DataFrame"
      ]
     },
     "execution_count": 88,
     "metadata": {},
     "output_type": "execute_result"
    }
   ],
   "source": [
    "type(transaction[columns])"
   ]
  },
  {
   "cell_type": "code",
   "execution_count": 90,
   "metadata": {},
   "outputs": [
    {
     "data": {
      "text/plain": [
       "date      2017-01-01 00:00:00\n",
       "amount                    500\n",
       "result                confirm\n",
       "Name: Kang, dtype: object"
      ]
     },
     "execution_count": 90,
     "metadata": {},
     "output_type": "execute_result"
    }
   ],
   "source": [
    "# loc == locate\n",
    "# loc[행]\n",
    "# loc[행, 열]\n",
    "transaction.loc[\"Kang\"]"
   ]
  },
  {
   "cell_type": "code",
   "execution_count": 92,
   "metadata": {},
   "outputs": [
    {
     "data": {
      "text/html": [
       "<div>\n",
       "<style scoped>\n",
       "    .dataframe tbody tr th:only-of-type {\n",
       "        vertical-align: middle;\n",
       "    }\n",
       "\n",
       "    .dataframe tbody tr th {\n",
       "        vertical-align: top;\n",
       "    }\n",
       "\n",
       "    .dataframe thead th {\n",
       "        text-align: right;\n",
       "    }\n",
       "</style>\n",
       "<table border=\"1\" class=\"dataframe\">\n",
       "  <thead>\n",
       "    <tr style=\"text-align: right;\">\n",
       "      <th></th>\n",
       "      <th>date</th>\n",
       "      <th>amount</th>\n",
       "      <th>result</th>\n",
       "    </tr>\n",
       "    <tr>\n",
       "      <th>Name</th>\n",
       "      <th></th>\n",
       "      <th></th>\n",
       "      <th></th>\n",
       "    </tr>\n",
       "  </thead>\n",
       "  <tbody>\n",
       "    <tr>\n",
       "      <th>Kang</th>\n",
       "      <td>2017-01-01</td>\n",
       "      <td>500</td>\n",
       "      <td>confirm</td>\n",
       "    </tr>\n",
       "    <tr>\n",
       "      <th>Kim</th>\n",
       "      <td>2017-01-03</td>\n",
       "      <td>700</td>\n",
       "      <td>confirm</td>\n",
       "    </tr>\n",
       "    <tr>\n",
       "      <th>Choi</th>\n",
       "      <td>2017-01-03</td>\n",
       "      <td>900</td>\n",
       "      <td>confirm</td>\n",
       "    </tr>\n",
       "  </tbody>\n",
       "</table>\n",
       "</div>"
      ],
      "text/plain": [
       "           date  amount   result\n",
       "Name                            \n",
       "Kang 2017-01-01     500  confirm\n",
       "Kim  2017-01-03     700  confirm\n",
       "Choi 2017-01-03     900  confirm"
      ]
     },
     "execution_count": 92,
     "metadata": {},
     "output_type": "execute_result"
    }
   ],
   "source": [
    "transaction.loc[[\"Kang\", \"Kim\", \"Choi\"]]"
   ]
  },
  {
   "cell_type": "code",
   "execution_count": 93,
   "metadata": {},
   "outputs": [
    {
     "name": "stderr",
     "output_type": "stream",
     "text": [
      "C:\\Users\\jjcor\\Anaconda3\\lib\\site-packages\\ipykernel_launcher.py:1: FutureWarning: \n",
      "Passing list-likes to .loc or [] with any missing label will raise\n",
      "KeyError in the future, you can use .reindex() as an alternative.\n",
      "\n",
      "See the documentation here:\n",
      "https://pandas.pydata.org/pandas-docs/stable/indexing.html#deprecate-loc-reindex-listlike\n",
      "  \"\"\"Entry point for launching an IPython kernel.\n"
     ]
    },
    {
     "data": {
      "text/html": [
       "<div>\n",
       "<style scoped>\n",
       "    .dataframe tbody tr th:only-of-type {\n",
       "        vertical-align: middle;\n",
       "    }\n",
       "\n",
       "    .dataframe tbody tr th {\n",
       "        vertical-align: top;\n",
       "    }\n",
       "\n",
       "    .dataframe thead th {\n",
       "        text-align: right;\n",
       "    }\n",
       "</style>\n",
       "<table border=\"1\" class=\"dataframe\">\n",
       "  <thead>\n",
       "    <tr style=\"text-align: right;\">\n",
       "      <th></th>\n",
       "      <th>date</th>\n",
       "      <th>amount</th>\n",
       "      <th>result</th>\n",
       "    </tr>\n",
       "    <tr>\n",
       "      <th>Name</th>\n",
       "      <th></th>\n",
       "      <th></th>\n",
       "      <th></th>\n",
       "    </tr>\n",
       "  </thead>\n",
       "  <tbody>\n",
       "    <tr>\n",
       "      <th>Kang</th>\n",
       "      <td>2017-01-01</td>\n",
       "      <td>500.0</td>\n",
       "      <td>confirm</td>\n",
       "    </tr>\n",
       "    <tr>\n",
       "      <th>kim</th>\n",
       "      <td>NaT</td>\n",
       "      <td>NaN</td>\n",
       "      <td>NaN</td>\n",
       "    </tr>\n",
       "    <tr>\n",
       "      <th>Choi</th>\n",
       "      <td>2017-01-03</td>\n",
       "      <td>900.0</td>\n",
       "      <td>confirm</td>\n",
       "    </tr>\n",
       "  </tbody>\n",
       "</table>\n",
       "</div>"
      ],
      "text/plain": [
       "           date  amount   result\n",
       "Name                            \n",
       "Kang 2017-01-01   500.0  confirm\n",
       "kim         NaT     NaN      NaN\n",
       "Choi 2017-01-03   900.0  confirm"
      ]
     },
     "execution_count": 93,
     "metadata": {},
     "output_type": "execute_result"
    }
   ],
   "source": [
    "# 대소문자에 유의해서 가져옵니다.\n",
    "\n",
    "transaction.loc[[\"Kang\", \"kim\", \"Choi\"]]"
   ]
  },
  {
   "cell_type": "code",
   "execution_count": 94,
   "metadata": {},
   "outputs": [
    {
     "data": {
      "text/plain": [
       "['Kang', 'Kim', 'Choi']"
      ]
     },
     "execution_count": 94,
     "metadata": {},
     "output_type": "execute_result"
    }
   ],
   "source": [
    "names = [\"Kang\", \"Kim\", \"Choi\"]\n",
    "names"
   ]
  },
  {
   "cell_type": "code",
   "execution_count": 96,
   "metadata": {},
   "outputs": [
    {
     "data": {
      "text/html": [
       "<div>\n",
       "<style scoped>\n",
       "    .dataframe tbody tr th:only-of-type {\n",
       "        vertical-align: middle;\n",
       "    }\n",
       "\n",
       "    .dataframe tbody tr th {\n",
       "        vertical-align: top;\n",
       "    }\n",
       "\n",
       "    .dataframe thead th {\n",
       "        text-align: right;\n",
       "    }\n",
       "</style>\n",
       "<table border=\"1\" class=\"dataframe\">\n",
       "  <thead>\n",
       "    <tr style=\"text-align: right;\">\n",
       "      <th></th>\n",
       "      <th>date</th>\n",
       "      <th>amount</th>\n",
       "      <th>result</th>\n",
       "    </tr>\n",
       "    <tr>\n",
       "      <th>Name</th>\n",
       "      <th></th>\n",
       "      <th></th>\n",
       "      <th></th>\n",
       "    </tr>\n",
       "  </thead>\n",
       "  <tbody>\n",
       "    <tr>\n",
       "      <th>Kang</th>\n",
       "      <td>2017-01-01</td>\n",
       "      <td>500</td>\n",
       "      <td>confirm</td>\n",
       "    </tr>\n",
       "    <tr>\n",
       "      <th>Kim</th>\n",
       "      <td>2017-01-03</td>\n",
       "      <td>700</td>\n",
       "      <td>confirm</td>\n",
       "    </tr>\n",
       "    <tr>\n",
       "      <th>Choi</th>\n",
       "      <td>2017-01-03</td>\n",
       "      <td>900</td>\n",
       "      <td>confirm</td>\n",
       "    </tr>\n",
       "  </tbody>\n",
       "</table>\n",
       "</div>"
      ],
      "text/plain": [
       "           date  amount   result\n",
       "Name                            \n",
       "Kang 2017-01-01     500  confirm\n",
       "Kim  2017-01-03     700  confirm\n",
       "Choi 2017-01-03     900  confirm"
      ]
     },
     "execution_count": 96,
     "metadata": {},
     "output_type": "execute_result"
    }
   ],
   "source": [
    "transaction.loc[names]"
   ]
  },
  {
   "cell_type": "markdown",
   "metadata": {},
   "source": [
    "## 성능\n",
    " * timeit 으로 프로파일링 해봅니다."
   ]
  },
  {
   "cell_type": "code",
   "execution_count": 99,
   "metadata": {},
   "outputs": [
    {
     "data": {
      "text/plain": [
       "Timestamp('2017-01-01 00:00:00')"
      ]
     },
     "execution_count": 99,
     "metadata": {},
     "output_type": "execute_result"
    }
   ],
   "source": [
    "# bad practice\n",
    "\n",
    "transaction.loc[\"Kang\"][\"date\"]"
   ]
  },
  {
   "cell_type": "code",
   "execution_count": 100,
   "metadata": {},
   "outputs": [
    {
     "data": {
      "text/plain": [
       "Timestamp('2017-01-01 00:00:00')"
      ]
     },
     "execution_count": 100,
     "metadata": {},
     "output_type": "execute_result"
    }
   ],
   "source": [
    "# good practice\n",
    "\n",
    "transaction.loc[\"Kang\", \"date\"]"
   ]
  },
  {
   "cell_type": "code",
   "execution_count": 101,
   "metadata": {},
   "outputs": [
    {
     "name": "stdout",
     "output_type": "stream",
     "text": [
      "140 µs ± 857 ns per loop (mean ± std. dev. of 7 runs, 10000 loops each)\n"
     ]
    }
   ],
   "source": [
    "%timeit transaction.loc[\"Kang\"][\"date\"]"
   ]
  },
  {
   "cell_type": "code",
   "execution_count": 102,
   "metadata": {},
   "outputs": [
    {
     "name": "stdout",
     "output_type": "stream",
     "text": [
      "6.92 µs ± 35.6 ns per loop (mean ± std. dev. of 7 runs, 100000 loops each)\n"
     ]
    }
   ],
   "source": [
    "%timeit transaction.loc[\"Kang\", \"date\"]"
   ]
  },
  {
   "cell_type": "markdown",
   "metadata": {},
   "source": [
    "## 색인"
   ]
  },
  {
   "cell_type": "code",
   "execution_count": 104,
   "metadata": {},
   "outputs": [
    {
     "data": {
      "text/html": [
       "<div>\n",
       "<style scoped>\n",
       "    .dataframe tbody tr th:only-of-type {\n",
       "        vertical-align: middle;\n",
       "    }\n",
       "\n",
       "    .dataframe tbody tr th {\n",
       "        vertical-align: top;\n",
       "    }\n",
       "\n",
       "    .dataframe thead th {\n",
       "        text-align: right;\n",
       "    }\n",
       "</style>\n",
       "<table border=\"1\" class=\"dataframe\">\n",
       "  <thead>\n",
       "    <tr style=\"text-align: right;\">\n",
       "      <th></th>\n",
       "      <th>date</th>\n",
       "      <th>amount</th>\n",
       "      <th>result</th>\n",
       "    </tr>\n",
       "    <tr>\n",
       "      <th>Name</th>\n",
       "      <th></th>\n",
       "      <th></th>\n",
       "      <th></th>\n",
       "    </tr>\n",
       "  </thead>\n",
       "  <tbody>\n",
       "    <tr>\n",
       "      <th>Kim</th>\n",
       "      <td>2017-01-03</td>\n",
       "      <td>700</td>\n",
       "      <td>confirm</td>\n",
       "    </tr>\n",
       "    <tr>\n",
       "      <th>Choi</th>\n",
       "      <td>2017-01-03</td>\n",
       "      <td>900</td>\n",
       "      <td>confirm</td>\n",
       "    </tr>\n",
       "  </tbody>\n",
       "</table>\n",
       "</div>"
      ],
      "text/plain": [
       "           date  amount   result\n",
       "Name                            \n",
       "Kim  2017-01-03     700  confirm\n",
       "Choi 2017-01-03     900  confirm"
      ]
     },
     "execution_count": 104,
     "metadata": {},
     "output_type": "execute_result"
    }
   ],
   "source": [
    "# 조건을 작성하면 True, False 불리언 값으로 데이터를 가져오고\n",
    "# 데이터프레임으로 그 결과를 감싸주면 해당되는 데이터만 색인해 옵니다.\n",
    "\n",
    "transaction[transaction[\"date\"] == \"2017-01-03\"]"
   ]
  },
  {
   "cell_type": "code",
   "execution_count": 105,
   "metadata": {},
   "outputs": [
    {
     "data": {
      "text/plain": [
       "Name\n",
       "Kang     True\n",
       "Kim      True\n",
       "Choi     True\n",
       "Park     True\n",
       "Lee      True\n",
       "Yoon     True\n",
       "Jang     True\n",
       "Ko      False\n",
       "Name: amount, dtype: bool"
      ]
     },
     "execution_count": 105,
     "metadata": {},
     "output_type": "execute_result"
    }
   ],
   "source": [
    "transaction[\"amount\"] >= 500"
   ]
  },
  {
   "cell_type": "code",
   "execution_count": 106,
   "metadata": {},
   "outputs": [
    {
     "data": {
      "text/html": [
       "<div>\n",
       "<style scoped>\n",
       "    .dataframe tbody tr th:only-of-type {\n",
       "        vertical-align: middle;\n",
       "    }\n",
       "\n",
       "    .dataframe tbody tr th {\n",
       "        vertical-align: top;\n",
       "    }\n",
       "\n",
       "    .dataframe thead th {\n",
       "        text-align: right;\n",
       "    }\n",
       "</style>\n",
       "<table border=\"1\" class=\"dataframe\">\n",
       "  <thead>\n",
       "    <tr style=\"text-align: right;\">\n",
       "      <th></th>\n",
       "      <th>date</th>\n",
       "      <th>amount</th>\n",
       "      <th>result</th>\n",
       "    </tr>\n",
       "    <tr>\n",
       "      <th>Name</th>\n",
       "      <th></th>\n",
       "      <th></th>\n",
       "      <th></th>\n",
       "    </tr>\n",
       "  </thead>\n",
       "  <tbody>\n",
       "    <tr>\n",
       "      <th>Kang</th>\n",
       "      <td>2017-01-01</td>\n",
       "      <td>500</td>\n",
       "      <td>confirm</td>\n",
       "    </tr>\n",
       "    <tr>\n",
       "      <th>Kim</th>\n",
       "      <td>2017-01-03</td>\n",
       "      <td>700</td>\n",
       "      <td>confirm</td>\n",
       "    </tr>\n",
       "    <tr>\n",
       "      <th>Choi</th>\n",
       "      <td>2017-01-03</td>\n",
       "      <td>900</td>\n",
       "      <td>confirm</td>\n",
       "    </tr>\n",
       "    <tr>\n",
       "      <th>Park</th>\n",
       "      <td>2017-01-05</td>\n",
       "      <td>800</td>\n",
       "      <td>confirm</td>\n",
       "    </tr>\n",
       "    <tr>\n",
       "      <th>Lee</th>\n",
       "      <td>2017-01-07</td>\n",
       "      <td>500</td>\n",
       "      <td>cancel</td>\n",
       "    </tr>\n",
       "    <tr>\n",
       "      <th>Yoon</th>\n",
       "      <td>2017-01-09</td>\n",
       "      <td>700</td>\n",
       "      <td>confirm</td>\n",
       "    </tr>\n",
       "    <tr>\n",
       "      <th>Jang</th>\n",
       "      <td>2017-01-09</td>\n",
       "      <td>600</td>\n",
       "      <td>cancel</td>\n",
       "    </tr>\n",
       "  </tbody>\n",
       "</table>\n",
       "</div>"
      ],
      "text/plain": [
       "           date  amount   result\n",
       "Name                            \n",
       "Kang 2017-01-01     500  confirm\n",
       "Kim  2017-01-03     700  confirm\n",
       "Choi 2017-01-03     900  confirm\n",
       "Park 2017-01-05     800  confirm\n",
       "Lee  2017-01-07     500   cancel\n",
       "Yoon 2017-01-09     700  confirm\n",
       "Jang 2017-01-09     600   cancel"
      ]
     },
     "execution_count": 106,
     "metadata": {},
     "output_type": "execute_result"
    }
   ],
   "source": [
    "# 조건에 True 로 표시되는 값만 색인해 옵니다.\n",
    "\n",
    "transaction[transaction[\"amount\"] >= 500]"
   ]
  },
  {
   "cell_type": "code",
   "execution_count": 112,
   "metadata": {},
   "outputs": [
    {
     "data": {
      "text/html": [
       "<div>\n",
       "<style scoped>\n",
       "    .dataframe tbody tr th:only-of-type {\n",
       "        vertical-align: middle;\n",
       "    }\n",
       "\n",
       "    .dataframe tbody tr th {\n",
       "        vertical-align: top;\n",
       "    }\n",
       "\n",
       "    .dataframe thead th {\n",
       "        text-align: right;\n",
       "    }\n",
       "</style>\n",
       "<table border=\"1\" class=\"dataframe\">\n",
       "  <thead>\n",
       "    <tr style=\"text-align: right;\">\n",
       "      <th></th>\n",
       "      <th>date</th>\n",
       "      <th>amount</th>\n",
       "      <th>result</th>\n",
       "    </tr>\n",
       "    <tr>\n",
       "      <th>Name</th>\n",
       "      <th></th>\n",
       "      <th></th>\n",
       "      <th></th>\n",
       "    </tr>\n",
       "  </thead>\n",
       "  <tbody>\n",
       "    <tr>\n",
       "      <th>Yoon</th>\n",
       "      <td>2017-01-09</td>\n",
       "      <td>700</td>\n",
       "      <td>confirm</td>\n",
       "    </tr>\n",
       "    <tr>\n",
       "      <th>Jang</th>\n",
       "      <td>2017-01-09</td>\n",
       "      <td>600</td>\n",
       "      <td>cancel</td>\n",
       "    </tr>\n",
       "  </tbody>\n",
       "</table>\n",
       "</div>"
      ],
      "text/plain": [
       "           date  amount   result\n",
       "Name                            \n",
       "Yoon 2017-01-09     700  confirm\n",
       "Jang 2017-01-09     600   cancel"
      ]
     },
     "execution_count": 112,
     "metadata": {},
     "output_type": "execute_result"
    }
   ],
   "source": [
    "# == 값은 값을 가져옵니다.\n",
    "# != 다른 값을 가져옵니다.\n",
    "\n",
    "transaction[transaction[\"date\"] == \"2017-01-09\"]"
   ]
  },
  {
   "cell_type": "code",
   "execution_count": 113,
   "metadata": {},
   "outputs": [
    {
     "data": {
      "text/html": [
       "<div>\n",
       "<style scoped>\n",
       "    .dataframe tbody tr th:only-of-type {\n",
       "        vertical-align: middle;\n",
       "    }\n",
       "\n",
       "    .dataframe tbody tr th {\n",
       "        vertical-align: top;\n",
       "    }\n",
       "\n",
       "    .dataframe thead th {\n",
       "        text-align: right;\n",
       "    }\n",
       "</style>\n",
       "<table border=\"1\" class=\"dataframe\">\n",
       "  <thead>\n",
       "    <tr style=\"text-align: right;\">\n",
       "      <th></th>\n",
       "      <th>date</th>\n",
       "      <th>amount</th>\n",
       "      <th>result</th>\n",
       "    </tr>\n",
       "    <tr>\n",
       "      <th>Name</th>\n",
       "      <th></th>\n",
       "      <th></th>\n",
       "      <th></th>\n",
       "    </tr>\n",
       "  </thead>\n",
       "  <tbody>\n",
       "    <tr>\n",
       "      <th>Kang</th>\n",
       "      <td>2017-01-01</td>\n",
       "      <td>500</td>\n",
       "      <td>confirm</td>\n",
       "    </tr>\n",
       "    <tr>\n",
       "      <th>Kim</th>\n",
       "      <td>2017-01-03</td>\n",
       "      <td>700</td>\n",
       "      <td>confirm</td>\n",
       "    </tr>\n",
       "    <tr>\n",
       "      <th>Choi</th>\n",
       "      <td>2017-01-03</td>\n",
       "      <td>900</td>\n",
       "      <td>confirm</td>\n",
       "    </tr>\n",
       "    <tr>\n",
       "      <th>Park</th>\n",
       "      <td>2017-01-05</td>\n",
       "      <td>800</td>\n",
       "      <td>confirm</td>\n",
       "    </tr>\n",
       "    <tr>\n",
       "      <th>Lee</th>\n",
       "      <td>2017-01-07</td>\n",
       "      <td>500</td>\n",
       "      <td>cancel</td>\n",
       "    </tr>\n",
       "    <tr>\n",
       "      <th>Ko</th>\n",
       "      <td>2017-01-10</td>\n",
       "      <td>200</td>\n",
       "      <td>cancel</td>\n",
       "    </tr>\n",
       "  </tbody>\n",
       "</table>\n",
       "</div>"
      ],
      "text/plain": [
       "           date  amount   result\n",
       "Name                            \n",
       "Kang 2017-01-01     500  confirm\n",
       "Kim  2017-01-03     700  confirm\n",
       "Choi 2017-01-03     900  confirm\n",
       "Park 2017-01-05     800  confirm\n",
       "Lee  2017-01-07     500   cancel\n",
       "Ko   2017-01-10     200   cancel"
      ]
     },
     "execution_count": 113,
     "metadata": {},
     "output_type": "execute_result"
    }
   ],
   "source": [
    "transaction[transaction[\"date\"] != \"2017-01-09\"]"
   ]
  },
  {
   "cell_type": "code",
   "execution_count": 120,
   "metadata": {
    "scrolled": true
   },
   "outputs": [
    {
     "data": {
      "text/plain": [
       "Name\n",
       "Kang     True\n",
       "Kim     False\n",
       "Choi    False\n",
       "Park     True\n",
       "Lee     False\n",
       "Yoon    False\n",
       "Jang    False\n",
       "Ko       True\n",
       "Name: date, dtype: bool"
      ]
     },
     "execution_count": 120,
     "metadata": {},
     "output_type": "execute_result"
    }
   ],
   "source": [
    "# isin 구문은 열이 list의 값들을 포함하고 있는 모든 행들을 골라낼 때 주로 쓰인다. \n",
    "\n",
    "date_candidate = [\"2017-01-01\", \"2017-01-05\", \"2017-01-10\"]\n",
    "transaction[\"date\"].isin(date_candidate)"
   ]
  },
  {
   "cell_type": "code",
   "execution_count": 123,
   "metadata": {},
   "outputs": [
    {
     "data": {
      "text/plain": [
       "Name\n",
       "Kang    False\n",
       "Kim      True\n",
       "Choi     True\n",
       "Park    False\n",
       "Lee      True\n",
       "Yoon     True\n",
       "Jang     True\n",
       "Ko      False\n",
       "Name: date, dtype: bool"
      ]
     },
     "execution_count": 123,
     "metadata": {},
     "output_type": "execute_result"
    }
   ],
   "source": [
    "# ~ 표시를 해주면 not의 의미를 갖습니다.\n",
    "# 해당되지 않는 데이터만 가져옵니다.\n",
    "\n",
    "~transaction[\"date\"].isin(date_candidate)"
   ]
  },
  {
   "cell_type": "code",
   "execution_count": 121,
   "metadata": {},
   "outputs": [
    {
     "data": {
      "text/html": [
       "<div>\n",
       "<style scoped>\n",
       "    .dataframe tbody tr th:only-of-type {\n",
       "        vertical-align: middle;\n",
       "    }\n",
       "\n",
       "    .dataframe tbody tr th {\n",
       "        vertical-align: top;\n",
       "    }\n",
       "\n",
       "    .dataframe thead th {\n",
       "        text-align: right;\n",
       "    }\n",
       "</style>\n",
       "<table border=\"1\" class=\"dataframe\">\n",
       "  <thead>\n",
       "    <tr style=\"text-align: right;\">\n",
       "      <th></th>\n",
       "      <th>date</th>\n",
       "      <th>amount</th>\n",
       "      <th>result</th>\n",
       "    </tr>\n",
       "    <tr>\n",
       "      <th>Name</th>\n",
       "      <th></th>\n",
       "      <th></th>\n",
       "      <th></th>\n",
       "    </tr>\n",
       "  </thead>\n",
       "  <tbody>\n",
       "    <tr>\n",
       "      <th>Kang</th>\n",
       "      <td>2017-01-01</td>\n",
       "      <td>500</td>\n",
       "      <td>confirm</td>\n",
       "    </tr>\n",
       "    <tr>\n",
       "      <th>Park</th>\n",
       "      <td>2017-01-05</td>\n",
       "      <td>800</td>\n",
       "      <td>confirm</td>\n",
       "    </tr>\n",
       "    <tr>\n",
       "      <th>Ko</th>\n",
       "      <td>2017-01-10</td>\n",
       "      <td>200</td>\n",
       "      <td>cancel</td>\n",
       "    </tr>\n",
       "  </tbody>\n",
       "</table>\n",
       "</div>"
      ],
      "text/plain": [
       "           date  amount   result\n",
       "Name                            \n",
       "Kang 2017-01-01     500  confirm\n",
       "Park 2017-01-05     800  confirm\n",
       "Ko   2017-01-10     200   cancel"
      ]
     },
     "execution_count": 121,
     "metadata": {},
     "output_type": "execute_result"
    }
   ],
   "source": [
    "transaction[transaction[\"date\"].isin(date_candidate)]"
   ]
  },
  {
   "cell_type": "code",
   "execution_count": 122,
   "metadata": {},
   "outputs": [
    {
     "data": {
      "text/html": [
       "<div>\n",
       "<style scoped>\n",
       "    .dataframe tbody tr th:only-of-type {\n",
       "        vertical-align: middle;\n",
       "    }\n",
       "\n",
       "    .dataframe tbody tr th {\n",
       "        vertical-align: top;\n",
       "    }\n",
       "\n",
       "    .dataframe thead th {\n",
       "        text-align: right;\n",
       "    }\n",
       "</style>\n",
       "<table border=\"1\" class=\"dataframe\">\n",
       "  <thead>\n",
       "    <tr style=\"text-align: right;\">\n",
       "      <th></th>\n",
       "      <th>date</th>\n",
       "      <th>amount</th>\n",
       "      <th>result</th>\n",
       "    </tr>\n",
       "    <tr>\n",
       "      <th>Name</th>\n",
       "      <th></th>\n",
       "      <th></th>\n",
       "      <th></th>\n",
       "    </tr>\n",
       "  </thead>\n",
       "  <tbody>\n",
       "    <tr>\n",
       "      <th>Kim</th>\n",
       "      <td>2017-01-03</td>\n",
       "      <td>700</td>\n",
       "      <td>confirm</td>\n",
       "    </tr>\n",
       "    <tr>\n",
       "      <th>Choi</th>\n",
       "      <td>2017-01-03</td>\n",
       "      <td>900</td>\n",
       "      <td>confirm</td>\n",
       "    </tr>\n",
       "    <tr>\n",
       "      <th>Lee</th>\n",
       "      <td>2017-01-07</td>\n",
       "      <td>500</td>\n",
       "      <td>cancel</td>\n",
       "    </tr>\n",
       "    <tr>\n",
       "      <th>Yoon</th>\n",
       "      <td>2017-01-09</td>\n",
       "      <td>700</td>\n",
       "      <td>confirm</td>\n",
       "    </tr>\n",
       "    <tr>\n",
       "      <th>Jang</th>\n",
       "      <td>2017-01-09</td>\n",
       "      <td>600</td>\n",
       "      <td>cancel</td>\n",
       "    </tr>\n",
       "  </tbody>\n",
       "</table>\n",
       "</div>"
      ],
      "text/plain": [
       "           date  amount   result\n",
       "Name                            \n",
       "Kim  2017-01-03     700  confirm\n",
       "Choi 2017-01-03     900  confirm\n",
       "Lee  2017-01-07     500   cancel\n",
       "Yoon 2017-01-09     700  confirm\n",
       "Jang 2017-01-09     600   cancel"
      ]
     },
     "execution_count": 122,
     "metadata": {},
     "output_type": "execute_result"
    }
   ],
   "source": [
    "# ~ 표시를 해주면 not의 의미를 갖습니다.\n",
    "# 해당되지 않는 데이터만 가져옵니다.\n",
    "\n",
    "transaction[~transaction[\"date\"].isin(date_candidate)]"
   ]
  },
  {
   "cell_type": "code",
   "execution_count": 130,
   "metadata": {},
   "outputs": [
    {
     "data": {
      "text/html": [
       "<div>\n",
       "<style scoped>\n",
       "    .dataframe tbody tr th:only-of-type {\n",
       "        vertical-align: middle;\n",
       "    }\n",
       "\n",
       "    .dataframe tbody tr th {\n",
       "        vertical-align: top;\n",
       "    }\n",
       "\n",
       "    .dataframe thead th {\n",
       "        text-align: right;\n",
       "    }\n",
       "</style>\n",
       "<table border=\"1\" class=\"dataframe\">\n",
       "  <thead>\n",
       "    <tr style=\"text-align: right;\">\n",
       "      <th></th>\n",
       "      <th>date</th>\n",
       "      <th>amount</th>\n",
       "      <th>result</th>\n",
       "    </tr>\n",
       "    <tr>\n",
       "      <th>Name</th>\n",
       "      <th></th>\n",
       "      <th></th>\n",
       "      <th></th>\n",
       "    </tr>\n",
       "  </thead>\n",
       "  <tbody>\n",
       "    <tr>\n",
       "      <th>Kang</th>\n",
       "      <td>2017-01-01</td>\n",
       "      <td>500</td>\n",
       "      <td>confirm</td>\n",
       "    </tr>\n",
       "    <tr>\n",
       "      <th>Kim</th>\n",
       "      <td>2017-01-03</td>\n",
       "      <td>700</td>\n",
       "      <td>confirm</td>\n",
       "    </tr>\n",
       "    <tr>\n",
       "      <th>Choi</th>\n",
       "      <td>2017-01-03</td>\n",
       "      <td>900</td>\n",
       "      <td>confirm</td>\n",
       "    </tr>\n",
       "    <tr>\n",
       "      <th>Park</th>\n",
       "      <td>2017-01-05</td>\n",
       "      <td>800</td>\n",
       "      <td>confirm</td>\n",
       "    </tr>\n",
       "    <tr>\n",
       "      <th>Yoon</th>\n",
       "      <td>2017-01-09</td>\n",
       "      <td>700</td>\n",
       "      <td>confirm</td>\n",
       "    </tr>\n",
       "  </tbody>\n",
       "</table>\n",
       "</div>"
      ],
      "text/plain": [
       "           date  amount   result\n",
       "Name                            \n",
       "Kang 2017-01-01     500  confirm\n",
       "Kim  2017-01-03     700  confirm\n",
       "Choi 2017-01-03     900  confirm\n",
       "Park 2017-01-05     800  confirm\n",
       "Yoon 2017-01-09     700  confirm"
      ]
     },
     "execution_count": 130,
     "metadata": {},
     "output_type": "execute_result"
    }
   ],
   "source": [
    "# 연산자의 우선순위 때문에 오류가 나기 때문에 조건을 소괄호로 묶어줍니다.\n",
    "\n",
    "transaction[(transaction[\"amount\"] >= 500) \n",
    "            & (transaction[\"result\"] == \"confirm\")]"
   ]
  },
  {
   "cell_type": "code",
   "execution_count": 131,
   "metadata": {
    "scrolled": true
   },
   "outputs": [
    {
     "data": {
      "text/plain": [
       "Name\n",
       "Kang     True\n",
       "Kim      True\n",
       "Choi     True\n",
       "Park     True\n",
       "Lee     False\n",
       "Yoon     True\n",
       "Jang    False\n",
       "Ko      False\n",
       "dtype: bool"
      ]
     },
     "execution_count": 131,
     "metadata": {},
     "output_type": "execute_result"
    }
   ],
   "source": [
    "# 위의 코드와 동일하지만 변수에 담아서 사용하시면\n",
    "# 조건이 많아 질때 코드를 간결하고 가독성있게 작성하실 수 있습니다.\n",
    "\n",
    "high = transaction[\"amount\"] >= 500\n",
    "confirm = transaction[\"result\"] == \"confirm\"\n",
    "\n",
    "high & confirm"
   ]
  },
  {
   "cell_type": "code",
   "execution_count": 132,
   "metadata": {},
   "outputs": [
    {
     "data": {
      "text/html": [
       "<div>\n",
       "<style scoped>\n",
       "    .dataframe tbody tr th:only-of-type {\n",
       "        vertical-align: middle;\n",
       "    }\n",
       "\n",
       "    .dataframe tbody tr th {\n",
       "        vertical-align: top;\n",
       "    }\n",
       "\n",
       "    .dataframe thead th {\n",
       "        text-align: right;\n",
       "    }\n",
       "</style>\n",
       "<table border=\"1\" class=\"dataframe\">\n",
       "  <thead>\n",
       "    <tr style=\"text-align: right;\">\n",
       "      <th></th>\n",
       "      <th>date</th>\n",
       "      <th>amount</th>\n",
       "      <th>result</th>\n",
       "    </tr>\n",
       "    <tr>\n",
       "      <th>Name</th>\n",
       "      <th></th>\n",
       "      <th></th>\n",
       "      <th></th>\n",
       "    </tr>\n",
       "  </thead>\n",
       "  <tbody>\n",
       "    <tr>\n",
       "      <th>Kang</th>\n",
       "      <td>2017-01-01</td>\n",
       "      <td>500</td>\n",
       "      <td>confirm</td>\n",
       "    </tr>\n",
       "    <tr>\n",
       "      <th>Kim</th>\n",
       "      <td>2017-01-03</td>\n",
       "      <td>700</td>\n",
       "      <td>confirm</td>\n",
       "    </tr>\n",
       "    <tr>\n",
       "      <th>Choi</th>\n",
       "      <td>2017-01-03</td>\n",
       "      <td>900</td>\n",
       "      <td>confirm</td>\n",
       "    </tr>\n",
       "    <tr>\n",
       "      <th>Park</th>\n",
       "      <td>2017-01-05</td>\n",
       "      <td>800</td>\n",
       "      <td>confirm</td>\n",
       "    </tr>\n",
       "    <tr>\n",
       "      <th>Yoon</th>\n",
       "      <td>2017-01-09</td>\n",
       "      <td>700</td>\n",
       "      <td>confirm</td>\n",
       "    </tr>\n",
       "  </tbody>\n",
       "</table>\n",
       "</div>"
      ],
      "text/plain": [
       "           date  amount   result\n",
       "Name                            \n",
       "Kang 2017-01-01     500  confirm\n",
       "Kim  2017-01-03     700  confirm\n",
       "Choi 2017-01-03     900  confirm\n",
       "Park 2017-01-05     800  confirm\n",
       "Yoon 2017-01-09     700  confirm"
      ]
     },
     "execution_count": 132,
     "metadata": {},
     "output_type": "execute_result"
    }
   ],
   "source": [
    "# 둘다 True 인 값만 가져옵니다.\n",
    "\n",
    "transaction[high & confirm]"
   ]
  },
  {
   "cell_type": "code",
   "execution_count": 134,
   "metadata": {},
   "outputs": [
    {
     "data": {
      "text/html": [
       "<div>\n",
       "<style scoped>\n",
       "    .dataframe tbody tr th:only-of-type {\n",
       "        vertical-align: middle;\n",
       "    }\n",
       "\n",
       "    .dataframe tbody tr th {\n",
       "        vertical-align: top;\n",
       "    }\n",
       "\n",
       "    .dataframe thead th {\n",
       "        text-align: right;\n",
       "    }\n",
       "</style>\n",
       "<table border=\"1\" class=\"dataframe\">\n",
       "  <thead>\n",
       "    <tr style=\"text-align: right;\">\n",
       "      <th></th>\n",
       "      <th>date</th>\n",
       "      <th>amount</th>\n",
       "      <th>result</th>\n",
       "    </tr>\n",
       "    <tr>\n",
       "      <th>Name</th>\n",
       "      <th></th>\n",
       "      <th></th>\n",
       "      <th></th>\n",
       "    </tr>\n",
       "  </thead>\n",
       "  <tbody>\n",
       "    <tr>\n",
       "      <th>Kang</th>\n",
       "      <td>2017-01-01</td>\n",
       "      <td>500</td>\n",
       "      <td>confirm</td>\n",
       "    </tr>\n",
       "    <tr>\n",
       "      <th>Kim</th>\n",
       "      <td>2017-01-03</td>\n",
       "      <td>700</td>\n",
       "      <td>confirm</td>\n",
       "    </tr>\n",
       "    <tr>\n",
       "      <th>Choi</th>\n",
       "      <td>2017-01-03</td>\n",
       "      <td>900</td>\n",
       "      <td>confirm</td>\n",
       "    </tr>\n",
       "    <tr>\n",
       "      <th>Park</th>\n",
       "      <td>2017-01-05</td>\n",
       "      <td>800</td>\n",
       "      <td>confirm</td>\n",
       "    </tr>\n",
       "    <tr>\n",
       "      <th>Lee</th>\n",
       "      <td>2017-01-07</td>\n",
       "      <td>500</td>\n",
       "      <td>cancel</td>\n",
       "    </tr>\n",
       "    <tr>\n",
       "      <th>Yoon</th>\n",
       "      <td>2017-01-09</td>\n",
       "      <td>700</td>\n",
       "      <td>confirm</td>\n",
       "    </tr>\n",
       "    <tr>\n",
       "      <th>Jang</th>\n",
       "      <td>2017-01-09</td>\n",
       "      <td>600</td>\n",
       "      <td>cancel</td>\n",
       "    </tr>\n",
       "  </tbody>\n",
       "</table>\n",
       "</div>"
      ],
      "text/plain": [
       "           date  amount   result\n",
       "Name                            \n",
       "Kang 2017-01-01     500  confirm\n",
       "Kim  2017-01-03     700  confirm\n",
       "Choi 2017-01-03     900  confirm\n",
       "Park 2017-01-05     800  confirm\n",
       "Lee  2017-01-07     500   cancel\n",
       "Yoon 2017-01-09     700  confirm\n",
       "Jang 2017-01-09     600   cancel"
      ]
     },
     "execution_count": 134,
     "metadata": {},
     "output_type": "execute_result"
    }
   ],
   "source": [
    "# 둘 중 하나 이상 True 일때 값을 가져옵니다.\n",
    "\n",
    "transaction[high | confirm]"
   ]
  },
  {
   "cell_type": "code",
   "execution_count": 140,
   "metadata": {},
   "outputs": [
    {
     "data": {
      "text/plain": [
       "Name\n",
       "Kang    500\n",
       "Kim     700\n",
       "Choi    900\n",
       "Park    800\n",
       "Yoon    700\n",
       "Name: amount, dtype: int64"
      ]
     },
     "execution_count": 140,
     "metadata": {},
     "output_type": "execute_result"
    }
   ],
   "source": [
    "# loc[행]\n",
    "# loc[행, 열]\n",
    "\n",
    "transaction.loc[transaction[\"result\"] == \"confirm\", \"amount\"]"
   ]
  },
  {
   "cell_type": "markdown",
   "metadata": {},
   "source": [
    "## 컬럼 추가 & 수정하기"
   ]
  },
  {
   "cell_type": "code",
   "execution_count": 142,
   "metadata": {},
   "outputs": [
    {
     "data": {
      "text/html": [
       "<div>\n",
       "<style scoped>\n",
       "    .dataframe tbody tr th:only-of-type {\n",
       "        vertical-align: middle;\n",
       "    }\n",
       "\n",
       "    .dataframe tbody tr th {\n",
       "        vertical-align: top;\n",
       "    }\n",
       "\n",
       "    .dataframe thead th {\n",
       "        text-align: right;\n",
       "    }\n",
       "</style>\n",
       "<table border=\"1\" class=\"dataframe\">\n",
       "  <thead>\n",
       "    <tr style=\"text-align: right;\">\n",
       "      <th></th>\n",
       "      <th>date</th>\n",
       "      <th>amount</th>\n",
       "      <th>result</th>\n",
       "      <th>card-holder</th>\n",
       "    </tr>\n",
       "    <tr>\n",
       "      <th>Name</th>\n",
       "      <th></th>\n",
       "      <th></th>\n",
       "      <th></th>\n",
       "      <th></th>\n",
       "    </tr>\n",
       "  </thead>\n",
       "  <tbody>\n",
       "    <tr>\n",
       "      <th>Kang</th>\n",
       "      <td>2017-01-01</td>\n",
       "      <td>500</td>\n",
       "      <td>confirm</td>\n",
       "      <td>KB Card</td>\n",
       "    </tr>\n",
       "    <tr>\n",
       "      <th>Kim</th>\n",
       "      <td>2017-01-03</td>\n",
       "      <td>700</td>\n",
       "      <td>confirm</td>\n",
       "      <td>KB Card</td>\n",
       "    </tr>\n",
       "    <tr>\n",
       "      <th>Choi</th>\n",
       "      <td>2017-01-03</td>\n",
       "      <td>900</td>\n",
       "      <td>confirm</td>\n",
       "      <td>KB Card</td>\n",
       "    </tr>\n",
       "    <tr>\n",
       "      <th>Park</th>\n",
       "      <td>2017-01-05</td>\n",
       "      <td>800</td>\n",
       "      <td>confirm</td>\n",
       "      <td>KB Card</td>\n",
       "    </tr>\n",
       "    <tr>\n",
       "      <th>Lee</th>\n",
       "      <td>2017-01-07</td>\n",
       "      <td>500</td>\n",
       "      <td>cancel</td>\n",
       "      <td>KB Card</td>\n",
       "    </tr>\n",
       "    <tr>\n",
       "      <th>Yoon</th>\n",
       "      <td>2017-01-09</td>\n",
       "      <td>700</td>\n",
       "      <td>confirm</td>\n",
       "      <td>KB Card</td>\n",
       "    </tr>\n",
       "    <tr>\n",
       "      <th>Jang</th>\n",
       "      <td>2017-01-09</td>\n",
       "      <td>600</td>\n",
       "      <td>cancel</td>\n",
       "      <td>KB Card</td>\n",
       "    </tr>\n",
       "    <tr>\n",
       "      <th>Ko</th>\n",
       "      <td>2017-01-10</td>\n",
       "      <td>200</td>\n",
       "      <td>cancel</td>\n",
       "      <td>KB Card</td>\n",
       "    </tr>\n",
       "  </tbody>\n",
       "</table>\n",
       "</div>"
      ],
      "text/plain": [
       "           date  amount   result card-holder\n",
       "Name                                        \n",
       "Kang 2017-01-01     500  confirm     KB Card\n",
       "Kim  2017-01-03     700  confirm     KB Card\n",
       "Choi 2017-01-03     900  confirm     KB Card\n",
       "Park 2017-01-05     800  confirm     KB Card\n",
       "Lee  2017-01-07     500   cancel     KB Card\n",
       "Yoon 2017-01-09     700  confirm     KB Card\n",
       "Jang 2017-01-09     600   cancel     KB Card\n",
       "Ko   2017-01-10     200   cancel     KB Card"
      ]
     },
     "execution_count": 142,
     "metadata": {},
     "output_type": "execute_result"
    }
   ],
   "source": [
    "# 없는 컬럼명을 지정하고 값을 할당해 주면 새로운 컬럼이 생깁니다.\n",
    "\n",
    "transaction[\"card-holder\"] = \"KB Card\"\n",
    "transaction"
   ]
  },
  {
   "cell_type": "code",
   "execution_count": 143,
   "metadata": {},
   "outputs": [
    {
     "data": {
      "text/html": [
       "<div>\n",
       "<style scoped>\n",
       "    .dataframe tbody tr th:only-of-type {\n",
       "        vertical-align: middle;\n",
       "    }\n",
       "\n",
       "    .dataframe tbody tr th {\n",
       "        vertical-align: top;\n",
       "    }\n",
       "\n",
       "    .dataframe thead th {\n",
       "        text-align: right;\n",
       "    }\n",
       "</style>\n",
       "<table border=\"1\" class=\"dataframe\">\n",
       "  <thead>\n",
       "    <tr style=\"text-align: right;\">\n",
       "      <th></th>\n",
       "      <th>date</th>\n",
       "      <th>amount</th>\n",
       "      <th>result</th>\n",
       "      <th>card-holder</th>\n",
       "      <th>order</th>\n",
       "    </tr>\n",
       "    <tr>\n",
       "      <th>Name</th>\n",
       "      <th></th>\n",
       "      <th></th>\n",
       "      <th></th>\n",
       "      <th></th>\n",
       "      <th></th>\n",
       "    </tr>\n",
       "  </thead>\n",
       "  <tbody>\n",
       "    <tr>\n",
       "      <th>Kang</th>\n",
       "      <td>2017-01-01</td>\n",
       "      <td>500</td>\n",
       "      <td>confirm</td>\n",
       "      <td>KB Card</td>\n",
       "      <td>1</td>\n",
       "    </tr>\n",
       "    <tr>\n",
       "      <th>Kim</th>\n",
       "      <td>2017-01-03</td>\n",
       "      <td>700</td>\n",
       "      <td>confirm</td>\n",
       "      <td>KB Card</td>\n",
       "      <td>2</td>\n",
       "    </tr>\n",
       "    <tr>\n",
       "      <th>Choi</th>\n",
       "      <td>2017-01-03</td>\n",
       "      <td>900</td>\n",
       "      <td>confirm</td>\n",
       "      <td>KB Card</td>\n",
       "      <td>3</td>\n",
       "    </tr>\n",
       "    <tr>\n",
       "      <th>Park</th>\n",
       "      <td>2017-01-05</td>\n",
       "      <td>800</td>\n",
       "      <td>confirm</td>\n",
       "      <td>KB Card</td>\n",
       "      <td>4</td>\n",
       "    </tr>\n",
       "    <tr>\n",
       "      <th>Lee</th>\n",
       "      <td>2017-01-07</td>\n",
       "      <td>500</td>\n",
       "      <td>cancel</td>\n",
       "      <td>KB Card</td>\n",
       "      <td>5</td>\n",
       "    </tr>\n",
       "    <tr>\n",
       "      <th>Yoon</th>\n",
       "      <td>2017-01-09</td>\n",
       "      <td>700</td>\n",
       "      <td>confirm</td>\n",
       "      <td>KB Card</td>\n",
       "      <td>6</td>\n",
       "    </tr>\n",
       "    <tr>\n",
       "      <th>Jang</th>\n",
       "      <td>2017-01-09</td>\n",
       "      <td>600</td>\n",
       "      <td>cancel</td>\n",
       "      <td>KB Card</td>\n",
       "      <td>7</td>\n",
       "    </tr>\n",
       "    <tr>\n",
       "      <th>Ko</th>\n",
       "      <td>2017-01-10</td>\n",
       "      <td>200</td>\n",
       "      <td>cancel</td>\n",
       "      <td>KB Card</td>\n",
       "      <td>8</td>\n",
       "    </tr>\n",
       "  </tbody>\n",
       "</table>\n",
       "</div>"
      ],
      "text/plain": [
       "           date  amount   result card-holder  order\n",
       "Name                                               \n",
       "Kang 2017-01-01     500  confirm     KB Card      1\n",
       "Kim  2017-01-03     700  confirm     KB Card      2\n",
       "Choi 2017-01-03     900  confirm     KB Card      3\n",
       "Park 2017-01-05     800  confirm     KB Card      4\n",
       "Lee  2017-01-07     500   cancel     KB Card      5\n",
       "Yoon 2017-01-09     700  confirm     KB Card      6\n",
       "Jang 2017-01-09     600   cancel     KB Card      7\n",
       "Ko   2017-01-10     200   cancel     KB Card      8"
      ]
     },
     "execution_count": 143,
     "metadata": {},
     "output_type": "execute_result"
    }
   ],
   "source": [
    "# 리스트로 값을 넣어줄 때는 행의 갯수가 동일하게 맞아야 합니다.\n",
    "\n",
    "transaction[\"order\"] = [1, 2, 3, 4, 5, 6, 7, 8]\n",
    "transaction"
   ]
  },
  {
   "cell_type": "code",
   "execution_count": 147,
   "metadata": {},
   "outputs": [
    {
     "data": {
      "text/html": [
       "<div>\n",
       "<style scoped>\n",
       "    .dataframe tbody tr th:only-of-type {\n",
       "        vertical-align: middle;\n",
       "    }\n",
       "\n",
       "    .dataframe tbody tr th {\n",
       "        vertical-align: top;\n",
       "    }\n",
       "\n",
       "    .dataframe thead th {\n",
       "        text-align: right;\n",
       "    }\n",
       "</style>\n",
       "<table border=\"1\" class=\"dataframe\">\n",
       "  <thead>\n",
       "    <tr style=\"text-align: right;\">\n",
       "      <th></th>\n",
       "      <th>date</th>\n",
       "      <th>amount</th>\n",
       "      <th>result</th>\n",
       "      <th>card-holder</th>\n",
       "      <th>order</th>\n",
       "      <th>VIP</th>\n",
       "    </tr>\n",
       "    <tr>\n",
       "      <th>Name</th>\n",
       "      <th></th>\n",
       "      <th></th>\n",
       "      <th></th>\n",
       "      <th></th>\n",
       "      <th></th>\n",
       "      <th></th>\n",
       "    </tr>\n",
       "  </thead>\n",
       "  <tbody>\n",
       "    <tr>\n",
       "      <th>Kang</th>\n",
       "      <td>2017-01-01</td>\n",
       "      <td>500</td>\n",
       "      <td>confirm</td>\n",
       "      <td>KB Card</td>\n",
       "      <td>1</td>\n",
       "      <td>True</td>\n",
       "    </tr>\n",
       "    <tr>\n",
       "      <th>Kim</th>\n",
       "      <td>2017-01-03</td>\n",
       "      <td>700</td>\n",
       "      <td>confirm</td>\n",
       "      <td>KB Card</td>\n",
       "      <td>2</td>\n",
       "      <td>True</td>\n",
       "    </tr>\n",
       "    <tr>\n",
       "      <th>Choi</th>\n",
       "      <td>2017-01-03</td>\n",
       "      <td>900</td>\n",
       "      <td>confirm</td>\n",
       "      <td>KB Card</td>\n",
       "      <td>3</td>\n",
       "      <td>True</td>\n",
       "    </tr>\n",
       "    <tr>\n",
       "      <th>Park</th>\n",
       "      <td>2017-01-05</td>\n",
       "      <td>800</td>\n",
       "      <td>confirm</td>\n",
       "      <td>KB Card</td>\n",
       "      <td>4</td>\n",
       "      <td>True</td>\n",
       "    </tr>\n",
       "    <tr>\n",
       "      <th>Lee</th>\n",
       "      <td>2017-01-07</td>\n",
       "      <td>500</td>\n",
       "      <td>cancel</td>\n",
       "      <td>KB Card</td>\n",
       "      <td>5</td>\n",
       "      <td>True</td>\n",
       "    </tr>\n",
       "    <tr>\n",
       "      <th>Yoon</th>\n",
       "      <td>2017-01-09</td>\n",
       "      <td>700</td>\n",
       "      <td>confirm</td>\n",
       "      <td>KB Card</td>\n",
       "      <td>6</td>\n",
       "      <td>True</td>\n",
       "    </tr>\n",
       "    <tr>\n",
       "      <th>Jang</th>\n",
       "      <td>2017-01-09</td>\n",
       "      <td>600</td>\n",
       "      <td>cancel</td>\n",
       "      <td>KB Card</td>\n",
       "      <td>7</td>\n",
       "      <td>True</td>\n",
       "    </tr>\n",
       "    <tr>\n",
       "      <th>Ko</th>\n",
       "      <td>2017-01-10</td>\n",
       "      <td>200</td>\n",
       "      <td>cancel</td>\n",
       "      <td>KB Card</td>\n",
       "      <td>8</td>\n",
       "      <td>False</td>\n",
       "    </tr>\n",
       "  </tbody>\n",
       "</table>\n",
       "</div>"
      ],
      "text/plain": [
       "           date  amount   result card-holder  order    VIP\n",
       "Name                                                      \n",
       "Kang 2017-01-01     500  confirm     KB Card      1   True\n",
       "Kim  2017-01-03     700  confirm     KB Card      2   True\n",
       "Choi 2017-01-03     900  confirm     KB Card      3   True\n",
       "Park 2017-01-05     800  confirm     KB Card      4   True\n",
       "Lee  2017-01-07     500   cancel     KB Card      5   True\n",
       "Yoon 2017-01-09     700  confirm     KB Card      6   True\n",
       "Jang 2017-01-09     600   cancel     KB Card      7   True\n",
       "Ko   2017-01-10     200   cancel     KB Card      8  False"
      ]
     },
     "execution_count": 147,
     "metadata": {},
     "output_type": "execute_result"
    }
   ],
   "source": [
    "# 조건으로 색인해서 bool(True, False)로 나온 값을 그대로 담아줄 수 있습니다.\n",
    "\n",
    "transaction[\"VIP\"] = transaction[\"amount\"] >= 500\n",
    "transaction"
   ]
  },
  {
   "cell_type": "code",
   "execution_count": 150,
   "metadata": {},
   "outputs": [
    {
     "data": {
      "text/html": [
       "<div>\n",
       "<style scoped>\n",
       "    .dataframe tbody tr th:only-of-type {\n",
       "        vertical-align: middle;\n",
       "    }\n",
       "\n",
       "    .dataframe tbody tr th {\n",
       "        vertical-align: top;\n",
       "    }\n",
       "\n",
       "    .dataframe thead th {\n",
       "        text-align: right;\n",
       "    }\n",
       "</style>\n",
       "<table border=\"1\" class=\"dataframe\">\n",
       "  <thead>\n",
       "    <tr style=\"text-align: right;\">\n",
       "      <th></th>\n",
       "      <th>date</th>\n",
       "      <th>amount</th>\n",
       "      <th>result</th>\n",
       "      <th>card-holder</th>\n",
       "      <th>order</th>\n",
       "      <th>VIP</th>\n",
       "      <th>state</th>\n",
       "    </tr>\n",
       "    <tr>\n",
       "      <th>Name</th>\n",
       "      <th></th>\n",
       "      <th></th>\n",
       "      <th></th>\n",
       "      <th></th>\n",
       "      <th></th>\n",
       "      <th></th>\n",
       "      <th></th>\n",
       "    </tr>\n",
       "  </thead>\n",
       "  <tbody>\n",
       "    <tr>\n",
       "      <th>Kang</th>\n",
       "      <td>2017-01-01</td>\n",
       "      <td>500</td>\n",
       "      <td>confirm</td>\n",
       "      <td>KB Card</td>\n",
       "      <td>1</td>\n",
       "      <td>True</td>\n",
       "      <td>VIP</td>\n",
       "    </tr>\n",
       "    <tr>\n",
       "      <th>Kim</th>\n",
       "      <td>2017-01-03</td>\n",
       "      <td>700</td>\n",
       "      <td>confirm</td>\n",
       "      <td>KB Card</td>\n",
       "      <td>2</td>\n",
       "      <td>True</td>\n",
       "      <td>VIP</td>\n",
       "    </tr>\n",
       "    <tr>\n",
       "      <th>Choi</th>\n",
       "      <td>2017-01-03</td>\n",
       "      <td>900</td>\n",
       "      <td>confirm</td>\n",
       "      <td>KB Card</td>\n",
       "      <td>3</td>\n",
       "      <td>True</td>\n",
       "      <td>VIP</td>\n",
       "    </tr>\n",
       "    <tr>\n",
       "      <th>Park</th>\n",
       "      <td>2017-01-05</td>\n",
       "      <td>800</td>\n",
       "      <td>confirm</td>\n",
       "      <td>KB Card</td>\n",
       "      <td>4</td>\n",
       "      <td>True</td>\n",
       "      <td>VIP</td>\n",
       "    </tr>\n",
       "    <tr>\n",
       "      <th>Lee</th>\n",
       "      <td>2017-01-07</td>\n",
       "      <td>500</td>\n",
       "      <td>cancel</td>\n",
       "      <td>KB Card</td>\n",
       "      <td>5</td>\n",
       "      <td>True</td>\n",
       "      <td>VIP</td>\n",
       "    </tr>\n",
       "    <tr>\n",
       "      <th>Yoon</th>\n",
       "      <td>2017-01-09</td>\n",
       "      <td>700</td>\n",
       "      <td>confirm</td>\n",
       "      <td>KB Card</td>\n",
       "      <td>6</td>\n",
       "      <td>True</td>\n",
       "      <td>VIP</td>\n",
       "    </tr>\n",
       "    <tr>\n",
       "      <th>Jang</th>\n",
       "      <td>2017-01-09</td>\n",
       "      <td>600</td>\n",
       "      <td>cancel</td>\n",
       "      <td>KB Card</td>\n",
       "      <td>7</td>\n",
       "      <td>True</td>\n",
       "      <td>VIP</td>\n",
       "    </tr>\n",
       "    <tr>\n",
       "      <th>Ko</th>\n",
       "      <td>2017-01-10</td>\n",
       "      <td>200</td>\n",
       "      <td>cancel</td>\n",
       "      <td>KB Card</td>\n",
       "      <td>8</td>\n",
       "      <td>False</td>\n",
       "      <td>non-VIP</td>\n",
       "    </tr>\n",
       "  </tbody>\n",
       "</table>\n",
       "</div>"
      ],
      "text/plain": [
       "           date  amount   result card-holder  order    VIP    state\n",
       "Name                                                               \n",
       "Kang 2017-01-01     500  confirm     KB Card      1   True      VIP\n",
       "Kim  2017-01-03     700  confirm     KB Card      2   True      VIP\n",
       "Choi 2017-01-03     900  confirm     KB Card      3   True      VIP\n",
       "Park 2017-01-05     800  confirm     KB Card      4   True      VIP\n",
       "Lee  2017-01-07     500   cancel     KB Card      5   True      VIP\n",
       "Yoon 2017-01-09     700  confirm     KB Card      6   True      VIP\n",
       "Jang 2017-01-09     600   cancel     KB Card      7   True      VIP\n",
       "Ko   2017-01-10     200   cancel     KB Card      8  False  non-VIP"
      ]
     },
     "execution_count": 150,
     "metadata": {},
     "output_type": "execute_result"
    }
   ],
   "source": [
    "# loc[행, 열]\n",
    "\n",
    "transaction.loc[transaction[\"amount\"] >= 500, \"state\"] = \"VIP\"\n",
    "transaction.loc[transaction[\"amount\"] < 500, \"state\"] = \"non-VIP\"\n",
    "transaction"
   ]
  },
  {
   "cell_type": "markdown",
   "metadata": {},
   "source": [
    "## apply\n",
    "  * 함수와 함께 사용합니다."
   ]
  },
  {
   "cell_type": "code",
   "execution_count": 163,
   "metadata": {},
   "outputs": [],
   "source": [
    "# def == define\n",
    "# def로 함수를 정의합니다.\n",
    "\n",
    "def is_vip(amounts):\n",
    "    \"\"\"\n",
    "    amounts 값에 따라 VIP 여부를 반환하는 함수입니다.\n",
    "    파라메터로 받는 amounts라는 변수는 컬럼명과 달라도 상관 없습니다.\n",
    "    \"\"\"\n",
    "    if amounts >= 500:\n",
    "        return \"VIP\"\n",
    "    else:\n",
    "        return \"non-VIP\""
   ]
  },
  {
   "cell_type": "code",
   "execution_count": 164,
   "metadata": {},
   "outputs": [
    {
     "data": {
      "text/plain": [
       "'VIP'"
      ]
     },
     "execution_count": 164,
     "metadata": {},
     "output_type": "execute_result"
    }
   ],
   "source": [
    "# 만들어진 함수가 제대로 동작하는지만 확인합니다.\n",
    "# 테스트용 코드입니다.\n",
    "\n",
    "is_vip(500)"
   ]
  },
  {
   "cell_type": "code",
   "execution_count": 167,
   "metadata": {},
   "outputs": [
    {
     "data": {
      "text/html": [
       "<div>\n",
       "<style scoped>\n",
       "    .dataframe tbody tr th:only-of-type {\n",
       "        vertical-align: middle;\n",
       "    }\n",
       "\n",
       "    .dataframe tbody tr th {\n",
       "        vertical-align: top;\n",
       "    }\n",
       "\n",
       "    .dataframe thead th {\n",
       "        text-align: right;\n",
       "    }\n",
       "</style>\n",
       "<table border=\"1\" class=\"dataframe\">\n",
       "  <thead>\n",
       "    <tr style=\"text-align: right;\">\n",
       "      <th></th>\n",
       "      <th>date</th>\n",
       "      <th>amount</th>\n",
       "      <th>result</th>\n",
       "      <th>card-holder</th>\n",
       "      <th>order</th>\n",
       "      <th>VIP</th>\n",
       "      <th>state</th>\n",
       "      <th>sate</th>\n",
       "    </tr>\n",
       "    <tr>\n",
       "      <th>Name</th>\n",
       "      <th></th>\n",
       "      <th></th>\n",
       "      <th></th>\n",
       "      <th></th>\n",
       "      <th></th>\n",
       "      <th></th>\n",
       "      <th></th>\n",
       "      <th></th>\n",
       "    </tr>\n",
       "  </thead>\n",
       "  <tbody>\n",
       "    <tr>\n",
       "      <th>Kang</th>\n",
       "      <td>2017-01-01</td>\n",
       "      <td>500</td>\n",
       "      <td>confirm</td>\n",
       "      <td>KB Card</td>\n",
       "      <td>1</td>\n",
       "      <td>True</td>\n",
       "      <td>VIP</td>\n",
       "      <td>VIP</td>\n",
       "    </tr>\n",
       "    <tr>\n",
       "      <th>Kim</th>\n",
       "      <td>2017-01-03</td>\n",
       "      <td>700</td>\n",
       "      <td>confirm</td>\n",
       "      <td>KB Card</td>\n",
       "      <td>2</td>\n",
       "      <td>True</td>\n",
       "      <td>VIP</td>\n",
       "      <td>VIP</td>\n",
       "    </tr>\n",
       "    <tr>\n",
       "      <th>Choi</th>\n",
       "      <td>2017-01-03</td>\n",
       "      <td>900</td>\n",
       "      <td>confirm</td>\n",
       "      <td>KB Card</td>\n",
       "      <td>3</td>\n",
       "      <td>True</td>\n",
       "      <td>VIP</td>\n",
       "      <td>VIP</td>\n",
       "    </tr>\n",
       "    <tr>\n",
       "      <th>Park</th>\n",
       "      <td>2017-01-05</td>\n",
       "      <td>800</td>\n",
       "      <td>confirm</td>\n",
       "      <td>KB Card</td>\n",
       "      <td>4</td>\n",
       "      <td>True</td>\n",
       "      <td>VIP</td>\n",
       "      <td>VIP</td>\n",
       "    </tr>\n",
       "    <tr>\n",
       "      <th>Lee</th>\n",
       "      <td>2017-01-07</td>\n",
       "      <td>500</td>\n",
       "      <td>cancel</td>\n",
       "      <td>KB Card</td>\n",
       "      <td>5</td>\n",
       "      <td>True</td>\n",
       "      <td>VIP</td>\n",
       "      <td>VIP</td>\n",
       "    </tr>\n",
       "    <tr>\n",
       "      <th>Yoon</th>\n",
       "      <td>2017-01-09</td>\n",
       "      <td>700</td>\n",
       "      <td>confirm</td>\n",
       "      <td>KB Card</td>\n",
       "      <td>6</td>\n",
       "      <td>True</td>\n",
       "      <td>VIP</td>\n",
       "      <td>VIP</td>\n",
       "    </tr>\n",
       "    <tr>\n",
       "      <th>Jang</th>\n",
       "      <td>2017-01-09</td>\n",
       "      <td>600</td>\n",
       "      <td>cancel</td>\n",
       "      <td>KB Card</td>\n",
       "      <td>7</td>\n",
       "      <td>True</td>\n",
       "      <td>VIP</td>\n",
       "      <td>VIP</td>\n",
       "    </tr>\n",
       "    <tr>\n",
       "      <th>Ko</th>\n",
       "      <td>2017-01-10</td>\n",
       "      <td>200</td>\n",
       "      <td>cancel</td>\n",
       "      <td>KB Card</td>\n",
       "      <td>8</td>\n",
       "      <td>False</td>\n",
       "      <td>non-VIP</td>\n",
       "      <td>non-VIP</td>\n",
       "    </tr>\n",
       "  </tbody>\n",
       "</table>\n",
       "</div>"
      ],
      "text/plain": [
       "           date  amount   result card-holder  order    VIP    state     sate\n",
       "Name                                                                        \n",
       "Kang 2017-01-01     500  confirm     KB Card      1   True      VIP      VIP\n",
       "Kim  2017-01-03     700  confirm     KB Card      2   True      VIP      VIP\n",
       "Choi 2017-01-03     900  confirm     KB Card      3   True      VIP      VIP\n",
       "Park 2017-01-05     800  confirm     KB Card      4   True      VIP      VIP\n",
       "Lee  2017-01-07     500   cancel     KB Card      5   True      VIP      VIP\n",
       "Yoon 2017-01-09     700  confirm     KB Card      6   True      VIP      VIP\n",
       "Jang 2017-01-09     600   cancel     KB Card      7   True      VIP      VIP\n",
       "Ko   2017-01-10     200   cancel     KB Card      8  False  non-VIP  non-VIP"
      ]
     },
     "execution_count": 167,
     "metadata": {},
     "output_type": "execute_result"
    }
   ],
   "source": [
    "# 위에서 loc로 조건을 만들어서 값을 지정해 주었던 코드와 같은 결과가 됩니다.\n",
    "\n",
    "transaction[\"state\"] = transaction[\"amount\"].apply(is_vip)\n",
    "transaction"
   ]
  },
  {
   "cell_type": "code",
   "execution_count": null,
   "metadata": {},
   "outputs": [],
   "source": []
  },
  {
   "cell_type": "code",
   "execution_count": null,
   "metadata": {},
   "outputs": [],
   "source": []
  },
  {
   "cell_type": "code",
   "execution_count": null,
   "metadata": {},
   "outputs": [],
   "source": []
  },
  {
   "cell_type": "code",
   "execution_count": null,
   "metadata": {},
   "outputs": [],
   "source": []
  },
  {
   "cell_type": "code",
   "execution_count": null,
   "metadata": {},
   "outputs": [],
   "source": []
  }
 ],
 "metadata": {
  "kernelspec": {
   "display_name": "Python 3",
   "language": "python",
   "name": "python3"
  },
  "language_info": {
   "codemirror_mode": {
    "name": "ipython",
    "version": 3
   },
   "file_extension": ".py",
   "mimetype": "text/x-python",
   "name": "python",
   "nbconvert_exporter": "python",
   "pygments_lexer": "ipython3",
   "version": "3.7.3"
  }
 },
 "nbformat": 4,
 "nbformat_minor": 2
}
