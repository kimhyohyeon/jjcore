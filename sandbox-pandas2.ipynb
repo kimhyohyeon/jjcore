{
 "cells": [
  {
   "cell_type": "code",
   "execution_count": 5,
   "metadata": {},
   "outputs": [],
   "source": [
    "import pandas as pd"
   ]
  },
  {
   "cell_type": "markdown",
   "metadata": {},
   "source": [
    "## Data Type"
   ]
  },
  {
   "cell_type": "code",
   "execution_count": 2,
   "metadata": {},
   "outputs": [
    {
     "data": {
      "text/plain": [
       "1"
      ]
     },
     "execution_count": 2,
     "metadata": {},
     "output_type": "execute_result"
    }
   ],
   "source": [
    "1"
   ]
  },
  {
   "cell_type": "code",
   "execution_count": 3,
   "metadata": {},
   "outputs": [
    {
     "data": {
      "text/plain": [
       "int"
      ]
     },
     "execution_count": 3,
     "metadata": {},
     "output_type": "execute_result"
    }
   ],
   "source": [
    "# int == integer == 정수형\n",
    "\n",
    "type(1)"
   ]
  },
  {
   "cell_type": "code",
   "execution_count": 4,
   "metadata": {},
   "outputs": [
    {
     "data": {
      "text/plain": [
       "1.0"
      ]
     },
     "execution_count": 4,
     "metadata": {},
     "output_type": "execute_result"
    }
   ],
   "source": [
    "1.0"
   ]
  },
  {
   "cell_type": "code",
   "execution_count": 5,
   "metadata": {},
   "outputs": [
    {
     "data": {
      "text/plain": [
       "float"
      ]
     },
     "execution_count": 5,
     "metadata": {},
     "output_type": "execute_result"
    }
   ],
   "source": [
    "# float == 실수형\n",
    "\n",
    "type(1.0)"
   ]
  },
  {
   "cell_type": "code",
   "execution_count": 7,
   "metadata": {},
   "outputs": [
    {
     "data": {
      "text/plain": [
       "str"
      ]
     },
     "execution_count": 7,
     "metadata": {},
     "output_type": "execute_result"
    }
   ],
   "source": [
    "# str == string == 문자열\n",
    "# type은 파이선 기능\n",
    "\n",
    "type(\"Hello World\")"
   ]
  },
  {
   "cell_type": "code",
   "execution_count": 14,
   "metadata": {},
   "outputs": [
    {
     "data": {
      "text/plain": [
       "dtype('int64')"
      ]
     },
     "execution_count": 14,
     "metadata": {},
     "output_type": "execute_result"
    }
   ],
   "source": [
    "# 리스트에 int type만 있을 때\n",
    "# dtyes는 판다스 기능\n",
    "\n",
    "data = [1, 3, 5, 7, 9]\n",
    "data = pd.Series(data)\n",
    "\n",
    "data.dtypes"
   ]
  },
  {
   "cell_type": "code",
   "execution_count": 16,
   "metadata": {},
   "outputs": [
    {
     "data": {
      "text/plain": [
       "dtype('float64')"
      ]
     },
     "execution_count": 16,
     "metadata": {},
     "output_type": "execute_result"
    }
   ],
   "source": [
    "# 7.0을 추가하고난 뒤 타입이 float 으로 변경\n",
    "\n",
    "data = [1, 3, 5, 7.0, 9]\n",
    "data = pd.Series(data)\n",
    "\n",
    "data.dtypes"
   ]
  },
  {
   "cell_type": "code",
   "execution_count": 17,
   "metadata": {},
   "outputs": [
    {
     "data": {
      "text/plain": [
       "dtype('O')"
      ]
     },
     "execution_count": 17,
     "metadata": {},
     "output_type": "execute_result"
    }
   ],
   "source": [
    "# O == object == str == 문자열\n",
    "\n",
    "data = [1, 3, 5, 7.0, 9, 'hello']\n",
    "data = pd.Series(data)\n",
    "\n",
    "data.dtypes"
   ]
  },
  {
   "cell_type": "code",
   "execution_count": 19,
   "metadata": {},
   "outputs": [
    {
     "data": {
      "text/plain": [
       "[1, 3, 5, 7.0, 9, 'hello']"
      ]
     },
     "execution_count": 19,
     "metadata": {},
     "output_type": "execute_result"
    }
   ],
   "source": [
    "data = [1, 3, 5, 7.0, 9, 'hello']\n",
    "data"
   ]
  },
  {
   "cell_type": "code",
   "execution_count": 20,
   "metadata": {},
   "outputs": [
    {
     "data": {
      "text/plain": [
       "list"
      ]
     },
     "execution_count": 20,
     "metadata": {},
     "output_type": "execute_result"
    }
   ],
   "source": [
    "type(data)"
   ]
  },
  {
   "cell_type": "code",
   "execution_count": 22,
   "metadata": {},
   "outputs": [
    {
     "data": {
      "text/plain": [
       "0        1\n",
       "1        3\n",
       "2        5\n",
       "3        7\n",
       "4        9\n",
       "5    hello\n",
       "dtype: object"
      ]
     },
     "execution_count": 22,
     "metadata": {},
     "output_type": "execute_result"
    }
   ],
   "source": [
    "# object 라고 하더라도 숫자는 int, 문자는 str\n",
    "\n",
    "data = [1, 3, 5, 7.0, 9, 'hello']\n",
    "data = pd.Series(data)\n",
    "\n",
    "data"
   ]
  },
  {
   "cell_type": "code",
   "execution_count": 23,
   "metadata": {},
   "outputs": [
    {
     "data": {
      "text/plain": [
       "True"
      ]
     },
     "execution_count": 23,
     "metadata": {},
     "output_type": "execute_result"
    }
   ],
   "source": [
    "5 == 5 and '5' == '5'"
   ]
  },
  {
   "cell_type": "code",
   "execution_count": 25,
   "metadata": {},
   "outputs": [
    {
     "data": {
      "text/plain": [
       "dtype('O')"
      ]
     },
     "execution_count": 25,
     "metadata": {},
     "output_type": "execute_result"
    }
   ],
   "source": [
    "data = [1, 3, 5, 7.0, 9, '5']\n",
    "data = pd.Series(data)\n",
    "\n",
    "data.dtypes"
   ]
  },
  {
   "cell_type": "code",
   "execution_count": 26,
   "metadata": {},
   "outputs": [],
   "source": [
    "# 파이썬에서 사용할 수 있는 공학용 계산기 입니다.\n",
    "\n",
    "import numpy as np"
   ]
  },
  {
   "cell_type": "code",
   "execution_count": 32,
   "metadata": {},
   "outputs": [
    {
     "data": {
      "text/plain": [
       "dtype('int64')"
      ]
     },
     "execution_count": 32,
     "metadata": {},
     "output_type": "execute_result"
    }
   ],
   "source": [
    "data = [1]\n",
    "data = pd.Series(data)\n",
    "\n",
    "data.dtypes"
   ]
  },
  {
   "cell_type": "code",
   "execution_count": 33,
   "metadata": {},
   "outputs": [
    {
     "data": {
      "text/plain": [
       "dtype('float64')"
      ]
     },
     "execution_count": 33,
     "metadata": {},
     "output_type": "execute_result"
    }
   ],
   "source": [
    "# np.nan 은 결측치르 의미한다.\n",
    "# nan == not a number 의 약자 입니다.\n",
    "# 비어있는 값을 의미합니다.\n",
    "# 결측치는 float 타입니다.\n",
    "\n",
    "data = [1, np.nan]\n",
    "data = pd.Series(data)\n",
    "\n",
    "data.dtypes"
   ]
  },
  {
   "cell_type": "code",
   "execution_count": 34,
   "metadata": {},
   "outputs": [
    {
     "data": {
      "text/plain": [
       "dtype('float64')"
      ]
     },
     "execution_count": 34,
     "metadata": {},
     "output_type": "execute_result"
    }
   ],
   "source": [
    "data = [1, np.nan, 5, 7, 9]\n",
    "data = pd.Series(data)\n",
    "\n",
    "data.dtypes"
   ]
  },
  {
   "cell_type": "code",
   "execution_count": 37,
   "metadata": {},
   "outputs": [
    {
     "data": {
      "text/plain": [
       "0    False\n",
       "1     True\n",
       "2    False\n",
       "3    False\n",
       "4    False\n",
       "dtype: bool"
      ]
     },
     "execution_count": 37,
     "metadata": {},
     "output_type": "execute_result"
    }
   ],
   "source": [
    "# 결측치 유뮤를 보고자 할 때\n",
    "\n",
    "data.isnull()"
   ]
  },
  {
   "cell_type": "code",
   "execution_count": 38,
   "metadata": {},
   "outputs": [
    {
     "data": {
      "text/plain": [
       "False"
      ]
     },
     "execution_count": 38,
     "metadata": {},
     "output_type": "execute_result"
    }
   ],
   "source": [
    "# 비어있는 값은 결측치가 아닙니다.\n",
    "# 아래 테이터는 빈 문자열 입니다.\n",
    "\n",
    "pd.isnull('')"
   ]
  },
  {
   "cell_type": "code",
   "execution_count": 40,
   "metadata": {},
   "outputs": [
    {
     "data": {
      "text/plain": [
       "False"
      ]
     },
     "execution_count": 40,
     "metadata": {},
     "output_type": "execute_result"
    }
   ],
   "source": [
    "pd.isnull(' ')"
   ]
  },
  {
   "cell_type": "code",
   "execution_count": 39,
   "metadata": {},
   "outputs": [
    {
     "data": {
      "text/plain": [
       "True"
      ]
     },
     "execution_count": 39,
     "metadata": {},
     "output_type": "execute_result"
    }
   ],
   "source": [
    "# 결측치\n",
    "\n",
    "pd.isnull(np.nan)"
   ]
  },
  {
   "cell_type": "code",
   "execution_count": 41,
   "metadata": {},
   "outputs": [
    {
     "data": {
      "text/plain": [
       "0     True\n",
       "1    False\n",
       "2     True\n",
       "3     True\n",
       "4     True\n",
       "dtype: bool"
      ]
     },
     "execution_count": 41,
     "metadata": {},
     "output_type": "execute_result"
    }
   ],
   "source": [
    "# 비어있지 않은 값을 가져옵니다.\n",
    "\n",
    "data.notnull()"
   ]
  },
  {
   "cell_type": "code",
   "execution_count": 43,
   "metadata": {},
   "outputs": [
    {
     "data": {
      "text/plain": [
       "nan"
      ]
     },
     "execution_count": 43,
     "metadata": {},
     "output_type": "execute_result"
    }
   ],
   "source": [
    "# a라는 변수에 결측치를 할당했습니다.\n",
    "\n",
    "a = np.nan\n",
    "a"
   ]
  },
  {
   "cell_type": "code",
   "execution_count": 44,
   "metadata": {},
   "outputs": [
    {
     "data": {
      "text/plain": [
       "False"
      ]
     },
     "execution_count": 44,
     "metadata": {},
     "output_type": "execute_result"
    }
   ],
   "source": [
    "# 결측치를 출력했을 때 nan 이라는 값이 출력된다고 해서 그 값이 nan은 아닙니다.\n",
    "\n",
    "a == 'nan'"
   ]
  },
  {
   "cell_type": "code",
   "execution_count": 45,
   "metadata": {},
   "outputs": [
    {
     "data": {
      "text/plain": [
       "False"
      ]
     },
     "execution_count": 45,
     "metadata": {},
     "output_type": "execute_result"
    }
   ],
   "source": [
    "# 결측치는 연산응로 비교할 수 없습니다.\n",
    "\n",
    "a == np.nan"
   ]
  },
  {
   "cell_type": "code",
   "execution_count": 46,
   "metadata": {},
   "outputs": [
    {
     "data": {
      "text/plain": [
       "True"
      ]
     },
     "execution_count": 46,
     "metadata": {},
     "output_type": "execute_result"
    }
   ],
   "source": [
    "pd.isnull(a)"
   ]
  },
  {
   "cell_type": "code",
   "execution_count": 48,
   "metadata": {},
   "outputs": [
    {
     "data": {
      "text/plain": [
       "False"
      ]
     },
     "execution_count": 48,
     "metadata": {},
     "output_type": "execute_result"
    }
   ],
   "source": [
    "pd.notnull(a)"
   ]
  },
  {
   "cell_type": "code",
   "execution_count": 50,
   "metadata": {},
   "outputs": [
    {
     "data": {
      "text/plain": [
       "[]"
      ]
     },
     "execution_count": 50,
     "metadata": {},
     "output_type": "execute_result"
    }
   ],
   "source": [
    "data = []\n",
    "data"
   ]
  },
  {
   "cell_type": "code",
   "execution_count": 55,
   "metadata": {},
   "outputs": [
    {
     "data": {
      "text/plain": [
       "5.25"
      ]
     },
     "execution_count": 55,
     "metadata": {},
     "output_type": "execute_result"
    }
   ],
   "source": [
    "# 판다스에서 통계연산을 할 때는 결측치를 제외하고 연산합니다.\n",
    "\n",
    "data = [1, np.nan, 5, 7, 8]\n",
    "data = pd.Series(data)\n",
    "data.mean()\n",
    "#data"
   ]
  },
  {
   "cell_type": "code",
   "execution_count": 56,
   "metadata": {},
   "outputs": [
    {
     "data": {
      "text/plain": [
       "4.2"
      ]
     },
     "execution_count": 56,
     "metadata": {},
     "output_type": "execute_result"
    }
   ],
   "source": [
    "# 결측치에 임의의 값을 써주게 되면 통계수치가 잘못될 수 있습니다.\n",
    "\n",
    "data = [1, 0, 5, 7, 8]\n",
    "data = pd.Series(data)\n",
    "data.mean()\n",
    "#data"
   ]
  },
  {
   "cell_type": "markdown",
   "metadata": {},
   "source": [
    "## DataFrame"
   ]
  },
  {
   "cell_type": "code",
   "execution_count": 6,
   "metadata": {},
   "outputs": [
    {
     "data": {
      "text/html": [
       "<div>\n",
       "<style scoped>\n",
       "    .dataframe tbody tr th:only-of-type {\n",
       "        vertical-align: middle;\n",
       "    }\n",
       "\n",
       "    .dataframe tbody tr th {\n",
       "        vertical-align: top;\n",
       "    }\n",
       "\n",
       "    .dataframe thead th {\n",
       "        text-align: right;\n",
       "    }\n",
       "</style>\n",
       "<table border=\"1\" class=\"dataframe\">\n",
       "  <thead>\n",
       "    <tr style=\"text-align: right;\">\n",
       "      <th></th>\n",
       "      <th>date</th>\n",
       "      <th>price</th>\n",
       "      <th>state</th>\n",
       "    </tr>\n",
       "    <tr>\n",
       "      <th>Name</th>\n",
       "      <th></th>\n",
       "      <th></th>\n",
       "      <th></th>\n",
       "    </tr>\n",
       "  </thead>\n",
       "  <tbody>\n",
       "    <tr>\n",
       "      <th>Kang</th>\n",
       "      <td>2017-01-01</td>\n",
       "      <td>500</td>\n",
       "      <td>confirmed</td>\n",
       "    </tr>\n",
       "    <tr>\n",
       "      <th>Kim</th>\n",
       "      <td>2017-01-03</td>\n",
       "      <td>700</td>\n",
       "      <td>confirmed</td>\n",
       "    </tr>\n",
       "    <tr>\n",
       "      <th>Choi</th>\n",
       "      <td>2017-01-03</td>\n",
       "      <td>900</td>\n",
       "      <td>confirmed</td>\n",
       "    </tr>\n",
       "    <tr>\n",
       "      <th>Park</th>\n",
       "      <td>2017-01-05</td>\n",
       "      <td>800</td>\n",
       "      <td>confirmed</td>\n",
       "    </tr>\n",
       "    <tr>\n",
       "      <th>Lee</th>\n",
       "      <td>2017-01-07</td>\n",
       "      <td>500</td>\n",
       "      <td>canceled</td>\n",
       "    </tr>\n",
       "    <tr>\n",
       "      <th>Yoon</th>\n",
       "      <td>2017-01-09</td>\n",
       "      <td>700</td>\n",
       "      <td>confirmed</td>\n",
       "    </tr>\n",
       "    <tr>\n",
       "      <th>Jang</th>\n",
       "      <td>2017-01-09</td>\n",
       "      <td>600</td>\n",
       "      <td>canceled</td>\n",
       "    </tr>\n",
       "    <tr>\n",
       "      <th>Ko</th>\n",
       "      <td>2017-01-10</td>\n",
       "      <td>200</td>\n",
       "      <td>canceled</td>\n",
       "    </tr>\n",
       "  </tbody>\n",
       "</table>\n",
       "</div>"
      ],
      "text/plain": [
       "            date  price      state\n",
       "Name                              \n",
       "Kang  2017-01-01    500  confirmed\n",
       "Kim   2017-01-03    700  confirmed\n",
       "Choi  2017-01-03    900  confirmed\n",
       "Park  2017-01-05    800  confirmed\n",
       "Lee   2017-01-07    500   canceled\n",
       "Yoon  2017-01-09    700  confirmed\n",
       "Jang  2017-01-09    600   canceled\n",
       "Ko    2017-01-10    200   canceled"
      ]
     },
     "execution_count": 6,
     "metadata": {},
     "output_type": "execute_result"
    }
   ],
   "source": [
    "transaction_url = \"https://bit.ly/dsa-transaction\"\n",
    "\n",
    "transaction = pd.read_csv(transaction_url, index_col = \"Name\")\n",
    "transaction"
   ]
  },
  {
   "cell_type": "markdown",
   "metadata": {},
   "source": [
    "## 정렬하기"
   ]
  },
  {
   "cell_type": "code",
   "execution_count": 7,
   "metadata": {},
   "outputs": [
    {
     "data": {
      "text/html": [
       "<div>\n",
       "<style scoped>\n",
       "    .dataframe tbody tr th:only-of-type {\n",
       "        vertical-align: middle;\n",
       "    }\n",
       "\n",
       "    .dataframe tbody tr th {\n",
       "        vertical-align: top;\n",
       "    }\n",
       "\n",
       "    .dataframe thead th {\n",
       "        text-align: right;\n",
       "    }\n",
       "</style>\n",
       "<table border=\"1\" class=\"dataframe\">\n",
       "  <thead>\n",
       "    <tr style=\"text-align: right;\">\n",
       "      <th></th>\n",
       "      <th>date</th>\n",
       "      <th>price</th>\n",
       "      <th>state</th>\n",
       "    </tr>\n",
       "    <tr>\n",
       "      <th>Name</th>\n",
       "      <th></th>\n",
       "      <th></th>\n",
       "      <th></th>\n",
       "    </tr>\n",
       "  </thead>\n",
       "  <tbody>\n",
       "    <tr>\n",
       "      <th>Choi</th>\n",
       "      <td>2017-01-03</td>\n",
       "      <td>900</td>\n",
       "      <td>confirmed</td>\n",
       "    </tr>\n",
       "    <tr>\n",
       "      <th>Jang</th>\n",
       "      <td>2017-01-09</td>\n",
       "      <td>600</td>\n",
       "      <td>canceled</td>\n",
       "    </tr>\n",
       "    <tr>\n",
       "      <th>Kang</th>\n",
       "      <td>2017-01-01</td>\n",
       "      <td>500</td>\n",
       "      <td>confirmed</td>\n",
       "    </tr>\n",
       "    <tr>\n",
       "      <th>Kim</th>\n",
       "      <td>2017-01-03</td>\n",
       "      <td>700</td>\n",
       "      <td>confirmed</td>\n",
       "    </tr>\n",
       "    <tr>\n",
       "      <th>Ko</th>\n",
       "      <td>2017-01-10</td>\n",
       "      <td>200</td>\n",
       "      <td>canceled</td>\n",
       "    </tr>\n",
       "    <tr>\n",
       "      <th>Lee</th>\n",
       "      <td>2017-01-07</td>\n",
       "      <td>500</td>\n",
       "      <td>canceled</td>\n",
       "    </tr>\n",
       "    <tr>\n",
       "      <th>Park</th>\n",
       "      <td>2017-01-05</td>\n",
       "      <td>800</td>\n",
       "      <td>confirmed</td>\n",
       "    </tr>\n",
       "    <tr>\n",
       "      <th>Yoon</th>\n",
       "      <td>2017-01-09</td>\n",
       "      <td>700</td>\n",
       "      <td>confirmed</td>\n",
       "    </tr>\n",
       "  </tbody>\n",
       "</table>\n",
       "</div>"
      ],
      "text/plain": [
       "            date  price      state\n",
       "Name                              \n",
       "Choi  2017-01-03    900  confirmed\n",
       "Jang  2017-01-09    600   canceled\n",
       "Kang  2017-01-01    500  confirmed\n",
       "Kim   2017-01-03    700  confirmed\n",
       "Ko    2017-01-10    200   canceled\n",
       "Lee   2017-01-07    500   canceled\n",
       "Park  2017-01-05    800  confirmed\n",
       "Yoon  2017-01-09    700  confirmed"
      ]
     },
     "execution_count": 7,
     "metadata": {},
     "output_type": "execute_result"
    }
   ],
   "source": [
    "transaction.sort_index(ascending=True)"
   ]
  },
  {
   "cell_type": "code",
   "execution_count": 8,
   "metadata": {},
   "outputs": [
    {
     "data": {
      "text/html": [
       "<div>\n",
       "<style scoped>\n",
       "    .dataframe tbody tr th:only-of-type {\n",
       "        vertical-align: middle;\n",
       "    }\n",
       "\n",
       "    .dataframe tbody tr th {\n",
       "        vertical-align: top;\n",
       "    }\n",
       "\n",
       "    .dataframe thead th {\n",
       "        text-align: right;\n",
       "    }\n",
       "</style>\n",
       "<table border=\"1\" class=\"dataframe\">\n",
       "  <thead>\n",
       "    <tr style=\"text-align: right;\">\n",
       "      <th></th>\n",
       "      <th>date</th>\n",
       "      <th>price</th>\n",
       "      <th>state</th>\n",
       "    </tr>\n",
       "    <tr>\n",
       "      <th>Name</th>\n",
       "      <th></th>\n",
       "      <th></th>\n",
       "      <th></th>\n",
       "    </tr>\n",
       "  </thead>\n",
       "  <tbody>\n",
       "    <tr>\n",
       "      <th>Yoon</th>\n",
       "      <td>2017-01-09</td>\n",
       "      <td>700</td>\n",
       "      <td>confirmed</td>\n",
       "    </tr>\n",
       "    <tr>\n",
       "      <th>Park</th>\n",
       "      <td>2017-01-05</td>\n",
       "      <td>800</td>\n",
       "      <td>confirmed</td>\n",
       "    </tr>\n",
       "    <tr>\n",
       "      <th>Lee</th>\n",
       "      <td>2017-01-07</td>\n",
       "      <td>500</td>\n",
       "      <td>canceled</td>\n",
       "    </tr>\n",
       "    <tr>\n",
       "      <th>Ko</th>\n",
       "      <td>2017-01-10</td>\n",
       "      <td>200</td>\n",
       "      <td>canceled</td>\n",
       "    </tr>\n",
       "    <tr>\n",
       "      <th>Kim</th>\n",
       "      <td>2017-01-03</td>\n",
       "      <td>700</td>\n",
       "      <td>confirmed</td>\n",
       "    </tr>\n",
       "    <tr>\n",
       "      <th>Kang</th>\n",
       "      <td>2017-01-01</td>\n",
       "      <td>500</td>\n",
       "      <td>confirmed</td>\n",
       "    </tr>\n",
       "    <tr>\n",
       "      <th>Jang</th>\n",
       "      <td>2017-01-09</td>\n",
       "      <td>600</td>\n",
       "      <td>canceled</td>\n",
       "    </tr>\n",
       "    <tr>\n",
       "      <th>Choi</th>\n",
       "      <td>2017-01-03</td>\n",
       "      <td>900</td>\n",
       "      <td>confirmed</td>\n",
       "    </tr>\n",
       "  </tbody>\n",
       "</table>\n",
       "</div>"
      ],
      "text/plain": [
       "            date  price      state\n",
       "Name                              \n",
       "Yoon  2017-01-09    700  confirmed\n",
       "Park  2017-01-05    800  confirmed\n",
       "Lee   2017-01-07    500   canceled\n",
       "Ko    2017-01-10    200   canceled\n",
       "Kim   2017-01-03    700  confirmed\n",
       "Kang  2017-01-01    500  confirmed\n",
       "Jang  2017-01-09    600   canceled\n",
       "Choi  2017-01-03    900  confirmed"
      ]
     },
     "execution_count": 8,
     "metadata": {},
     "output_type": "execute_result"
    }
   ],
   "source": [
    "# Shift + Tab 키를 누르시면 도움말을 보실 수 있습니다.\n",
    "\n",
    "transaction_sort = transaction.sort_index(ascending=False)\n",
    "transaction_sort"
   ]
  },
  {
   "cell_type": "code",
   "execution_count": 9,
   "metadata": {},
   "outputs": [
    {
     "data": {
      "text/html": [
       "<div>\n",
       "<style scoped>\n",
       "    .dataframe tbody tr th:only-of-type {\n",
       "        vertical-align: middle;\n",
       "    }\n",
       "\n",
       "    .dataframe tbody tr th {\n",
       "        vertical-align: top;\n",
       "    }\n",
       "\n",
       "    .dataframe thead th {\n",
       "        text-align: right;\n",
       "    }\n",
       "</style>\n",
       "<table border=\"1\" class=\"dataframe\">\n",
       "  <thead>\n",
       "    <tr style=\"text-align: right;\">\n",
       "      <th></th>\n",
       "      <th>date</th>\n",
       "      <th>price</th>\n",
       "      <th>state</th>\n",
       "    </tr>\n",
       "    <tr>\n",
       "      <th>Name</th>\n",
       "      <th></th>\n",
       "      <th></th>\n",
       "      <th></th>\n",
       "    </tr>\n",
       "  </thead>\n",
       "  <tbody>\n",
       "    <tr>\n",
       "      <th>Choi</th>\n",
       "      <td>2017-01-03</td>\n",
       "      <td>900</td>\n",
       "      <td>confirmed</td>\n",
       "    </tr>\n",
       "    <tr>\n",
       "      <th>Park</th>\n",
       "      <td>2017-01-05</td>\n",
       "      <td>800</td>\n",
       "      <td>confirmed</td>\n",
       "    </tr>\n",
       "    <tr>\n",
       "      <th>Kim</th>\n",
       "      <td>2017-01-03</td>\n",
       "      <td>700</td>\n",
       "      <td>confirmed</td>\n",
       "    </tr>\n",
       "    <tr>\n",
       "      <th>Yoon</th>\n",
       "      <td>2017-01-09</td>\n",
       "      <td>700</td>\n",
       "      <td>confirmed</td>\n",
       "    </tr>\n",
       "    <tr>\n",
       "      <th>Jang</th>\n",
       "      <td>2017-01-09</td>\n",
       "      <td>600</td>\n",
       "      <td>canceled</td>\n",
       "    </tr>\n",
       "    <tr>\n",
       "      <th>Kang</th>\n",
       "      <td>2017-01-01</td>\n",
       "      <td>500</td>\n",
       "      <td>confirmed</td>\n",
       "    </tr>\n",
       "    <tr>\n",
       "      <th>Lee</th>\n",
       "      <td>2017-01-07</td>\n",
       "      <td>500</td>\n",
       "      <td>canceled</td>\n",
       "    </tr>\n",
       "    <tr>\n",
       "      <th>Ko</th>\n",
       "      <td>2017-01-10</td>\n",
       "      <td>200</td>\n",
       "      <td>canceled</td>\n",
       "    </tr>\n",
       "  </tbody>\n",
       "</table>\n",
       "</div>"
      ],
      "text/plain": [
       "            date  price      state\n",
       "Name                              \n",
       "Choi  2017-01-03    900  confirmed\n",
       "Park  2017-01-05    800  confirmed\n",
       "Kim   2017-01-03    700  confirmed\n",
       "Yoon  2017-01-09    700  confirmed\n",
       "Jang  2017-01-09    600   canceled\n",
       "Kang  2017-01-01    500  confirmed\n",
       "Lee   2017-01-07    500   canceled\n",
       "Ko    2017-01-10    200   canceled"
      ]
     },
     "execution_count": 9,
     "metadata": {},
     "output_type": "execute_result"
    }
   ],
   "source": [
    "# by에 정렬할 컬럼명을 써줍니다.\n",
    "\n",
    "transaction.sort_values(by=\"price\", ascending=False)"
   ]
  },
  {
   "cell_type": "code",
   "execution_count": 10,
   "metadata": {},
   "outputs": [
    {
     "data": {
      "text/html": [
       "<div>\n",
       "<style scoped>\n",
       "    .dataframe tbody tr th:only-of-type {\n",
       "        vertical-align: middle;\n",
       "    }\n",
       "\n",
       "    .dataframe tbody tr th {\n",
       "        vertical-align: top;\n",
       "    }\n",
       "\n",
       "    .dataframe thead th {\n",
       "        text-align: right;\n",
       "    }\n",
       "</style>\n",
       "<table border=\"1\" class=\"dataframe\">\n",
       "  <thead>\n",
       "    <tr style=\"text-align: right;\">\n",
       "      <th></th>\n",
       "      <th>date</th>\n",
       "      <th>price</th>\n",
       "      <th>state</th>\n",
       "    </tr>\n",
       "    <tr>\n",
       "      <th>Name</th>\n",
       "      <th></th>\n",
       "      <th></th>\n",
       "      <th></th>\n",
       "    </tr>\n",
       "  </thead>\n",
       "  <tbody>\n",
       "    <tr>\n",
       "      <th>Ko</th>\n",
       "      <td>2017-01-10</td>\n",
       "      <td>200</td>\n",
       "      <td>canceled</td>\n",
       "    </tr>\n",
       "    <tr>\n",
       "      <th>Yoon</th>\n",
       "      <td>2017-01-09</td>\n",
       "      <td>700</td>\n",
       "      <td>confirmed</td>\n",
       "    </tr>\n",
       "    <tr>\n",
       "      <th>Jang</th>\n",
       "      <td>2017-01-09</td>\n",
       "      <td>600</td>\n",
       "      <td>canceled</td>\n",
       "    </tr>\n",
       "    <tr>\n",
       "      <th>Lee</th>\n",
       "      <td>2017-01-07</td>\n",
       "      <td>500</td>\n",
       "      <td>canceled</td>\n",
       "    </tr>\n",
       "    <tr>\n",
       "      <th>Park</th>\n",
       "      <td>2017-01-05</td>\n",
       "      <td>800</td>\n",
       "      <td>confirmed</td>\n",
       "    </tr>\n",
       "    <tr>\n",
       "      <th>Choi</th>\n",
       "      <td>2017-01-03</td>\n",
       "      <td>900</td>\n",
       "      <td>confirmed</td>\n",
       "    </tr>\n",
       "    <tr>\n",
       "      <th>Kim</th>\n",
       "      <td>2017-01-03</td>\n",
       "      <td>700</td>\n",
       "      <td>confirmed</td>\n",
       "    </tr>\n",
       "    <tr>\n",
       "      <th>Kang</th>\n",
       "      <td>2017-01-01</td>\n",
       "      <td>500</td>\n",
       "      <td>confirmed</td>\n",
       "    </tr>\n",
       "  </tbody>\n",
       "</table>\n",
       "</div>"
      ],
      "text/plain": [
       "            date  price      state\n",
       "Name                              \n",
       "Ko    2017-01-10    200   canceled\n",
       "Yoon  2017-01-09    700  confirmed\n",
       "Jang  2017-01-09    600   canceled\n",
       "Lee   2017-01-07    500   canceled\n",
       "Park  2017-01-05    800  confirmed\n",
       "Choi  2017-01-03    900  confirmed\n",
       "Kim   2017-01-03    700  confirmed\n",
       "Kang  2017-01-01    500  confirmed"
      ]
     },
     "execution_count": 10,
     "metadata": {},
     "output_type": "execute_result"
    }
   ],
   "source": [
    "# 리스트에 지정해준 순서대로 정렬 됩니다.\n",
    "\n",
    "transaction.sort_values(by=[\"date\", \"price\"], ascending=False)"
   ]
  },
  {
   "cell_type": "code",
   "execution_count": 11,
   "metadata": {},
   "outputs": [
    {
     "data": {
      "text/html": [
       "<div>\n",
       "<style scoped>\n",
       "    .dataframe tbody tr th:only-of-type {\n",
       "        vertical-align: middle;\n",
       "    }\n",
       "\n",
       "    .dataframe tbody tr th {\n",
       "        vertical-align: top;\n",
       "    }\n",
       "\n",
       "    .dataframe thead th {\n",
       "        text-align: right;\n",
       "    }\n",
       "</style>\n",
       "<table border=\"1\" class=\"dataframe\">\n",
       "  <thead>\n",
       "    <tr style=\"text-align: right;\">\n",
       "      <th></th>\n",
       "      <th>date</th>\n",
       "      <th>price</th>\n",
       "      <th>state</th>\n",
       "    </tr>\n",
       "    <tr>\n",
       "      <th>Name</th>\n",
       "      <th></th>\n",
       "      <th></th>\n",
       "      <th></th>\n",
       "    </tr>\n",
       "  </thead>\n",
       "  <tbody>\n",
       "    <tr>\n",
       "      <th>Kang</th>\n",
       "      <td>2017-01-01</td>\n",
       "      <td>500</td>\n",
       "      <td>confirmed</td>\n",
       "    </tr>\n",
       "    <tr>\n",
       "      <th>Choi</th>\n",
       "      <td>2017-01-03</td>\n",
       "      <td>900</td>\n",
       "      <td>confirmed</td>\n",
       "    </tr>\n",
       "    <tr>\n",
       "      <th>Kim</th>\n",
       "      <td>2017-01-03</td>\n",
       "      <td>700</td>\n",
       "      <td>confirmed</td>\n",
       "    </tr>\n",
       "    <tr>\n",
       "      <th>Park</th>\n",
       "      <td>2017-01-05</td>\n",
       "      <td>800</td>\n",
       "      <td>confirmed</td>\n",
       "    </tr>\n",
       "    <tr>\n",
       "      <th>Lee</th>\n",
       "      <td>2017-01-07</td>\n",
       "      <td>500</td>\n",
       "      <td>canceled</td>\n",
       "    </tr>\n",
       "    <tr>\n",
       "      <th>Yoon</th>\n",
       "      <td>2017-01-09</td>\n",
       "      <td>700</td>\n",
       "      <td>confirmed</td>\n",
       "    </tr>\n",
       "    <tr>\n",
       "      <th>Jang</th>\n",
       "      <td>2017-01-09</td>\n",
       "      <td>600</td>\n",
       "      <td>canceled</td>\n",
       "    </tr>\n",
       "    <tr>\n",
       "      <th>Ko</th>\n",
       "      <td>2017-01-10</td>\n",
       "      <td>200</td>\n",
       "      <td>canceled</td>\n",
       "    </tr>\n",
       "  </tbody>\n",
       "</table>\n",
       "</div>"
      ],
      "text/plain": [
       "            date  price      state\n",
       "Name                              \n",
       "Kang  2017-01-01    500  confirmed\n",
       "Choi  2017-01-03    900  confirmed\n",
       "Kim   2017-01-03    700  confirmed\n",
       "Park  2017-01-05    800  confirmed\n",
       "Lee   2017-01-07    500   canceled\n",
       "Yoon  2017-01-09    700  confirmed\n",
       "Jang  2017-01-09    600   canceled\n",
       "Ko    2017-01-10    200   canceled"
      ]
     },
     "execution_count": 11,
     "metadata": {},
     "output_type": "execute_result"
    }
   ],
   "source": [
    "# 리스트를 지정했으면 리스트로 정리하라\n",
    "\n",
    "transaction.sort_values(by=[\"date\", \"price\"], ascending=[True, False])"
   ]
  },
  {
   "cell_type": "markdown",
   "metadata": {},
   "source": [
    "#### Series 정렬하기"
   ]
  },
  {
   "cell_type": "code",
   "execution_count": 12,
   "metadata": {},
   "outputs": [
    {
     "data": {
      "text/plain": [
       "Name\n",
       "Kang    2017-01-01\n",
       "Kim     2017-01-03\n",
       "Choi    2017-01-03\n",
       "Park    2017-01-05\n",
       "Lee     2017-01-07\n",
       "Yoon    2017-01-09\n",
       "Jang    2017-01-09\n",
       "Ko      2017-01-10\n",
       "Name: date, dtype: object"
      ]
     },
     "execution_count": 12,
     "metadata": {},
     "output_type": "execute_result"
    }
   ],
   "source": [
    "# 데이터 프레임 전체를 정렬할 수도 있지만 Series로 불러온 데이터도 정렬할 수 있습니다.\n",
    "\n",
    "transaction[\"date\"].sort_values()"
   ]
  },
  {
   "cell_type": "code",
   "execution_count": 13,
   "metadata": {},
   "outputs": [
    {
     "data": {
      "text/plain": [
       "Name\n",
       "Ko      2017-01-10\n",
       "Jang    2017-01-09\n",
       "Yoon    2017-01-09\n",
       "Lee     2017-01-07\n",
       "Park    2017-01-05\n",
       "Choi    2017-01-03\n",
       "Kim     2017-01-03\n",
       "Kang    2017-01-01\n",
       "Name: date, dtype: object"
      ]
     },
     "execution_count": 13,
     "metadata": {},
     "output_type": "execute_result"
    }
   ],
   "source": [
    "transaction[\"date\"].sort_values(ascending=False)"
   ]
  },
  {
   "cell_type": "markdown",
   "metadata": {},
   "source": [
    "### 정렬하기 + 미리보기"
   ]
  },
  {
   "cell_type": "code",
   "execution_count": 14,
   "metadata": {},
   "outputs": [
    {
     "data": {
      "text/html": [
       "<div>\n",
       "<style scoped>\n",
       "    .dataframe tbody tr th:only-of-type {\n",
       "        vertical-align: middle;\n",
       "    }\n",
       "\n",
       "    .dataframe tbody tr th {\n",
       "        vertical-align: top;\n",
       "    }\n",
       "\n",
       "    .dataframe thead th {\n",
       "        text-align: right;\n",
       "    }\n",
       "</style>\n",
       "<table border=\"1\" class=\"dataframe\">\n",
       "  <thead>\n",
       "    <tr style=\"text-align: right;\">\n",
       "      <th></th>\n",
       "      <th>date</th>\n",
       "      <th>price</th>\n",
       "      <th>state</th>\n",
       "    </tr>\n",
       "    <tr>\n",
       "      <th>Name</th>\n",
       "      <th></th>\n",
       "      <th></th>\n",
       "      <th></th>\n",
       "    </tr>\n",
       "  </thead>\n",
       "  <tbody>\n",
       "    <tr>\n",
       "      <th>Choi</th>\n",
       "      <td>2017-01-03</td>\n",
       "      <td>900</td>\n",
       "      <td>confirmed</td>\n",
       "    </tr>\n",
       "    <tr>\n",
       "      <th>Park</th>\n",
       "      <td>2017-01-05</td>\n",
       "      <td>800</td>\n",
       "      <td>confirmed</td>\n",
       "    </tr>\n",
       "    <tr>\n",
       "      <th>Kim</th>\n",
       "      <td>2017-01-03</td>\n",
       "      <td>700</td>\n",
       "      <td>confirmed</td>\n",
       "    </tr>\n",
       "    <tr>\n",
       "      <th>Yoon</th>\n",
       "      <td>2017-01-09</td>\n",
       "      <td>700</td>\n",
       "      <td>confirmed</td>\n",
       "    </tr>\n",
       "    <tr>\n",
       "      <th>Jang</th>\n",
       "      <td>2017-01-09</td>\n",
       "      <td>600</td>\n",
       "      <td>canceled</td>\n",
       "    </tr>\n",
       "  </tbody>\n",
       "</table>\n",
       "</div>"
      ],
      "text/plain": [
       "            date  price      state\n",
       "Name                              \n",
       "Choi  2017-01-03    900  confirmed\n",
       "Park  2017-01-05    800  confirmed\n",
       "Kim   2017-01-03    700  confirmed\n",
       "Yoon  2017-01-09    700  confirmed\n",
       "Jang  2017-01-09    600   canceled"
      ]
     },
     "execution_count": 14,
     "metadata": {},
     "output_type": "execute_result"
    }
   ],
   "source": [
    "# 상위 매출, 혹은 날짜 등을 가져올 때 sort_values 와 head 를 같이 사용합니다.\n",
    "\n",
    "transaction.sort_values(by=\"price\", ascending=False).head()"
   ]
  },
  {
   "cell_type": "markdown",
   "metadata": {},
   "source": [
    "### pivot table"
   ]
  },
  {
   "cell_type": "code",
   "execution_count": 15,
   "metadata": {},
   "outputs": [
    {
     "data": {
      "text/html": [
       "<div>\n",
       "<style scoped>\n",
       "    .dataframe tbody tr th:only-of-type {\n",
       "        vertical-align: middle;\n",
       "    }\n",
       "\n",
       "    .dataframe tbody tr th {\n",
       "        vertical-align: top;\n",
       "    }\n",
       "\n",
       "    .dataframe thead th {\n",
       "        text-align: right;\n",
       "    }\n",
       "</style>\n",
       "<table border=\"1\" class=\"dataframe\">\n",
       "  <thead>\n",
       "    <tr style=\"text-align: right;\">\n",
       "      <th></th>\n",
       "      <th>price</th>\n",
       "    </tr>\n",
       "    <tr>\n",
       "      <th>state</th>\n",
       "      <th></th>\n",
       "    </tr>\n",
       "  </thead>\n",
       "  <tbody>\n",
       "    <tr>\n",
       "      <th>canceled</th>\n",
       "      <td>1300</td>\n",
       "    </tr>\n",
       "    <tr>\n",
       "      <th>confirmed</th>\n",
       "      <td>3600</td>\n",
       "    </tr>\n",
       "  </tbody>\n",
       "</table>\n",
       "</div>"
      ],
      "text/plain": [
       "           price\n",
       "state           \n",
       "canceled    1300\n",
       "confirmed   3600"
      ]
     },
     "execution_count": 15,
     "metadata": {},
     "output_type": "execute_result"
    }
   ],
   "source": [
    "# aggfunc 으로 계산하고자 하는 통계를 입력해 줄 수 있습니다.\n",
    "# 기본값은 mean 평균입니다.\n",
    "# Shift + Tab 으로 옵션을 보실 수 있습니다.\n",
    "\n",
    "pd.pivot_table(transaction, index=\"state\", values=\"price\", aggfunc=\"sum\")"
   ]
  },
  {
   "cell_type": "code",
   "execution_count": 16,
   "metadata": {},
   "outputs": [
    {
     "data": {
      "text/html": [
       "<div>\n",
       "<style scoped>\n",
       "    .dataframe tbody tr th:only-of-type {\n",
       "        vertical-align: middle;\n",
       "    }\n",
       "\n",
       "    .dataframe tbody tr th {\n",
       "        vertical-align: top;\n",
       "    }\n",
       "\n",
       "    .dataframe thead th {\n",
       "        text-align: right;\n",
       "    }\n",
       "</style>\n",
       "<table border=\"1\" class=\"dataframe\">\n",
       "  <thead>\n",
       "    <tr style=\"text-align: right;\">\n",
       "      <th></th>\n",
       "      <th>price</th>\n",
       "    </tr>\n",
       "    <tr>\n",
       "      <th>state</th>\n",
       "      <th></th>\n",
       "    </tr>\n",
       "  </thead>\n",
       "  <tbody>\n",
       "    <tr>\n",
       "      <th>canceled</th>\n",
       "      <td>433.333333</td>\n",
       "    </tr>\n",
       "    <tr>\n",
       "      <th>confirmed</th>\n",
       "      <td>720.000000</td>\n",
       "    </tr>\n",
       "  </tbody>\n",
       "</table>\n",
       "</div>"
      ],
      "text/plain": [
       "                price\n",
       "state                \n",
       "canceled   433.333333\n",
       "confirmed  720.000000"
      ]
     },
     "execution_count": 16,
     "metadata": {},
     "output_type": "execute_result"
    }
   ],
   "source": [
    "pd.pivot_table(transaction, index=\"state\", values=\"price\")"
   ]
  },
  {
   "cell_type": "code",
   "execution_count": 17,
   "metadata": {},
   "outputs": [
    {
     "data": {
      "text/html": [
       "<div>\n",
       "<style scoped>\n",
       "    .dataframe tbody tr th:only-of-type {\n",
       "        vertical-align: middle;\n",
       "    }\n",
       "\n",
       "    .dataframe tbody tr th {\n",
       "        vertical-align: top;\n",
       "    }\n",
       "\n",
       "    .dataframe thead tr th {\n",
       "        text-align: left;\n",
       "    }\n",
       "\n",
       "    .dataframe thead tr:last-of-type th {\n",
       "        text-align: right;\n",
       "    }\n",
       "</style>\n",
       "<table border=\"1\" class=\"dataframe\">\n",
       "  <thead>\n",
       "    <tr>\n",
       "      <th></th>\n",
       "      <th></th>\n",
       "      <th>mean</th>\n",
       "      <th>sum</th>\n",
       "    </tr>\n",
       "    <tr>\n",
       "      <th></th>\n",
       "      <th></th>\n",
       "      <th>price</th>\n",
       "      <th>price</th>\n",
       "    </tr>\n",
       "    <tr>\n",
       "      <th>date</th>\n",
       "      <th>state</th>\n",
       "      <th></th>\n",
       "      <th></th>\n",
       "    </tr>\n",
       "  </thead>\n",
       "  <tbody>\n",
       "    <tr>\n",
       "      <th>2017-01-01</th>\n",
       "      <th>confirmed</th>\n",
       "      <td>500</td>\n",
       "      <td>500</td>\n",
       "    </tr>\n",
       "    <tr>\n",
       "      <th>2017-01-03</th>\n",
       "      <th>confirmed</th>\n",
       "      <td>800</td>\n",
       "      <td>1600</td>\n",
       "    </tr>\n",
       "    <tr>\n",
       "      <th>2017-01-05</th>\n",
       "      <th>confirmed</th>\n",
       "      <td>800</td>\n",
       "      <td>800</td>\n",
       "    </tr>\n",
       "    <tr>\n",
       "      <th>2017-01-07</th>\n",
       "      <th>canceled</th>\n",
       "      <td>500</td>\n",
       "      <td>500</td>\n",
       "    </tr>\n",
       "    <tr>\n",
       "      <th rowspan=\"2\" valign=\"top\">2017-01-09</th>\n",
       "      <th>canceled</th>\n",
       "      <td>600</td>\n",
       "      <td>600</td>\n",
       "    </tr>\n",
       "    <tr>\n",
       "      <th>confirmed</th>\n",
       "      <td>700</td>\n",
       "      <td>700</td>\n",
       "    </tr>\n",
       "    <tr>\n",
       "      <th>2017-01-10</th>\n",
       "      <th>canceled</th>\n",
       "      <td>200</td>\n",
       "      <td>200</td>\n",
       "    </tr>\n",
       "  </tbody>\n",
       "</table>\n",
       "</div>"
      ],
      "text/plain": [
       "                      mean   sum\n",
       "                     price price\n",
       "date       state                \n",
       "2017-01-01 confirmed   500   500\n",
       "2017-01-03 confirmed   800  1600\n",
       "2017-01-05 confirmed   800   800\n",
       "2017-01-07 canceled    500   500\n",
       "2017-01-09 canceled    600   600\n",
       "           confirmed   700   700\n",
       "2017-01-10 canceled    200   200"
      ]
     },
     "execution_count": 17,
     "metadata": {},
     "output_type": "execute_result"
    }
   ],
   "source": [
    "pd.pivot_table(transaction, \n",
    "               index=[\"date\", \"state\"],\n",
    "               values=\"price\", \n",
    "               aggfunc=[\"mean\", \"sum\"])"
   ]
  },
  {
   "cell_type": "markdown",
   "metadata": {},
   "source": [
    "### Group by"
   ]
  },
  {
   "cell_type": "code",
   "execution_count": 18,
   "metadata": {},
   "outputs": [
    {
     "data": {
      "text/plain": [
       "state\n",
       "canceled     433.333333\n",
       "confirmed    720.000000\n",
       "Name: price, dtype: float64"
      ]
     },
     "execution_count": 18,
     "metadata": {},
     "output_type": "execute_result"
    }
   ],
   "source": [
    "# Serise 형태로 보여지며, 속도가 빠름\n",
    "# 소괄호는 groupby 의 메소드 변수 지정,\n",
    "# 뒤에 대괄호[]는 그룹화 해서 가져온 값을 어떤 value로 집계해서 볼 컬럼을 지정\n",
    "# 집계할 통계수치는 직접 sum, mean, max 등을 지정합니다.\n",
    "\n",
    "transaction.groupby(\"state\")[\"price\"].mean()"
   ]
  },
  {
   "cell_type": "code",
   "execution_count": 19,
   "metadata": {},
   "outputs": [
    {
     "data": {
      "text/plain": [
       "state\n",
       "canceled     1300\n",
       "confirmed    3600\n",
       "Name: price, dtype: int64"
      ]
     },
     "execution_count": 19,
     "metadata": {},
     "output_type": "execute_result"
    }
   ],
   "source": [
    "transaction.groupby(\"state\")[\"price\"].sum()"
   ]
  },
  {
   "cell_type": "code",
   "execution_count": 20,
   "metadata": {},
   "outputs": [
    {
     "data": {
      "text/plain": [
       "date        state    \n",
       "2017-01-01  confirmed     500\n",
       "2017-01-03  confirmed    1600\n",
       "2017-01-05  confirmed     800\n",
       "2017-01-07  canceled      500\n",
       "2017-01-09  canceled      600\n",
       "            confirmed     700\n",
       "2017-01-10  canceled      200\n",
       "Name: price, dtype: int64"
      ]
     },
     "execution_count": 20,
     "metadata": {},
     "output_type": "execute_result"
    }
   ],
   "source": [
    "transaction.groupby([\"date\", \"state\"])[\"price\"].sum()"
   ]
  },
  {
   "cell_type": "markdown",
   "metadata": {},
   "source": [
    "#### pivot_table 과 groupby 속도 비교"
   ]
  },
  {
   "cell_type": "code",
   "execution_count": 21,
   "metadata": {},
   "outputs": [
    {
     "name": "stdout",
     "output_type": "stream",
     "text": [
      "3.73 ms ± 43.6 µs per loop (mean ± std. dev. of 7 runs, 100 loops each)\n"
     ]
    }
   ],
   "source": [
    "%timeit pd.pivot_table(transaction, index=\"state\", values=\"price\")"
   ]
  },
  {
   "cell_type": "code",
   "execution_count": 22,
   "metadata": {},
   "outputs": [
    {
     "name": "stdout",
     "output_type": "stream",
     "text": [
      "512 µs ± 6.86 µs per loop (mean ± std. dev. of 7 runs, 1000 loops each)\n"
     ]
    }
   ],
   "source": [
    "%timeit transaction.groupby(\"state\")[\"price\"].mean()"
   ]
  },
  {
   "cell_type": "markdown",
   "metadata": {},
   "source": [
    "### apply"
   ]
  },
  {
   "cell_type": "code",
   "execution_count": 23,
   "metadata": {},
   "outputs": [],
   "source": [
    "# 함수에 넘겨주는 파라메터 값은 컬럼명과 달라도 상관없습니다.\n",
    "\n",
    "def is_vip(price):\n",
    "    if price >=500:\n",
    "        return \"VIP\"\n",
    "    else:\n",
    "        return \"Non-VIP\""
   ]
  },
  {
   "cell_type": "code",
   "execution_count": 24,
   "metadata": {},
   "outputs": [
    {
     "data": {
      "text/plain": [
       "'VIP'"
      ]
     },
     "execution_count": 24,
     "metadata": {},
     "output_type": "execute_result"
    }
   ],
   "source": [
    "is_vip(500)"
   ]
  },
  {
   "cell_type": "code",
   "execution_count": 25,
   "metadata": {},
   "outputs": [
    {
     "data": {
      "text/plain": [
       "Name\n",
       "Kang        VIP\n",
       "Kim         VIP\n",
       "Choi        VIP\n",
       "Park        VIP\n",
       "Lee         VIP\n",
       "Yoon        VIP\n",
       "Jang        VIP\n",
       "Ko      Non-VIP\n",
       "Name: price, dtype: object"
      ]
     },
     "execution_count": 25,
     "metadata": {},
     "output_type": "execute_result"
    }
   ],
   "source": [
    "# Series 데이터로 apply\n",
    "\n",
    "transaction[\"price\"].apply(is_vip)"
   ]
  },
  {
   "cell_type": "code",
   "execution_count": 28,
   "metadata": {},
   "outputs": [
    {
     "data": {
      "text/html": [
       "<div>\n",
       "<style scoped>\n",
       "    .dataframe tbody tr th:only-of-type {\n",
       "        vertical-align: middle;\n",
       "    }\n",
       "\n",
       "    .dataframe tbody tr th {\n",
       "        vertical-align: top;\n",
       "    }\n",
       "\n",
       "    .dataframe thead th {\n",
       "        text-align: right;\n",
       "    }\n",
       "</style>\n",
       "<table border=\"1\" class=\"dataframe\">\n",
       "  <thead>\n",
       "    <tr style=\"text-align: right;\">\n",
       "      <th></th>\n",
       "      <th>date</th>\n",
       "      <th>price</th>\n",
       "      <th>state</th>\n",
       "    </tr>\n",
       "    <tr>\n",
       "      <th>Name</th>\n",
       "      <th></th>\n",
       "      <th></th>\n",
       "      <th></th>\n",
       "    </tr>\n",
       "  </thead>\n",
       "  <tbody>\n",
       "    <tr>\n",
       "      <th>Kang</th>\n",
       "      <td>2017-01-01</td>\n",
       "      <td>500</td>\n",
       "      <td>confirmed</td>\n",
       "    </tr>\n",
       "    <tr>\n",
       "      <th>Kim</th>\n",
       "      <td>2017-01-03</td>\n",
       "      <td>700</td>\n",
       "      <td>confirmed</td>\n",
       "    </tr>\n",
       "    <tr>\n",
       "      <th>Choi</th>\n",
       "      <td>2017-01-03</td>\n",
       "      <td>900</td>\n",
       "      <td>confirmed</td>\n",
       "    </tr>\n",
       "    <tr>\n",
       "      <th>Park</th>\n",
       "      <td>2017-01-05</td>\n",
       "      <td>800</td>\n",
       "      <td>confirmed</td>\n",
       "    </tr>\n",
       "    <tr>\n",
       "      <th>Lee</th>\n",
       "      <td>2017-01-07</td>\n",
       "      <td>500</td>\n",
       "      <td>canceled</td>\n",
       "    </tr>\n",
       "    <tr>\n",
       "      <th>Yoon</th>\n",
       "      <td>2017-01-09</td>\n",
       "      <td>700</td>\n",
       "      <td>confirmed</td>\n",
       "    </tr>\n",
       "    <tr>\n",
       "      <th>Jang</th>\n",
       "      <td>2017-01-09</td>\n",
       "      <td>600</td>\n",
       "      <td>canceled</td>\n",
       "    </tr>\n",
       "    <tr>\n",
       "      <th>Ko</th>\n",
       "      <td>2017-01-10</td>\n",
       "      <td>200</td>\n",
       "      <td>canceled</td>\n",
       "    </tr>\n",
       "  </tbody>\n",
       "</table>\n",
       "</div>"
      ],
      "text/plain": [
       "            date  price      state\n",
       "Name                              \n",
       "Kang  2017-01-01    500  confirmed\n",
       "Kim   2017-01-03    700  confirmed\n",
       "Choi  2017-01-03    900  confirmed\n",
       "Park  2017-01-05    800  confirmed\n",
       "Lee   2017-01-07    500   canceled\n",
       "Yoon  2017-01-09    700  confirmed\n",
       "Jang  2017-01-09    600   canceled\n",
       "Ko    2017-01-10    200   canceled"
      ]
     },
     "execution_count": 28,
     "metadata": {},
     "output_type": "execute_result"
    }
   ],
   "source": [
    "transaction"
   ]
  },
  {
   "cell_type": "code",
   "execution_count": 30,
   "metadata": {},
   "outputs": [],
   "source": [
    "def is_vip(row):\n",
    "    price = row[\"price\"]\n",
    "    state = row[\"state\"]\n",
    "    \n",
    "    if state == \"confirmed\" and price >=500:\n",
    "        return \"VIP\"\n",
    "    else:\n",
    "        return \"Non-VIP\""
   ]
  },
  {
   "cell_type": "code",
   "execution_count": 31,
   "metadata": {},
   "outputs": [
    {
     "data": {
      "text/plain": [
       "Name\n",
       "Kang        VIP\n",
       "Kim         VIP\n",
       "Choi        VIP\n",
       "Park        VIP\n",
       "Lee     Non-VIP\n",
       "Yoon        VIP\n",
       "Jang    Non-VIP\n",
       "Ko      Non-VIP\n",
       "dtype: object"
      ]
     },
     "execution_count": 31,
     "metadata": {},
     "output_type": "execute_result"
    }
   ],
   "source": [
    "# 데이트프레임의 여러 컬럼을 사용\n",
    "# apply에 행전체를 넘겨줍니다.\n",
    "\n",
    "transaction.apply(is_vip, axis = \"columns\")"
   ]
  },
  {
   "cell_type": "code",
   "execution_count": 32,
   "metadata": {},
   "outputs": [
    {
     "data": {
      "text/html": [
       "<div>\n",
       "<style scoped>\n",
       "    .dataframe tbody tr th:only-of-type {\n",
       "        vertical-align: middle;\n",
       "    }\n",
       "\n",
       "    .dataframe tbody tr th {\n",
       "        vertical-align: top;\n",
       "    }\n",
       "\n",
       "    .dataframe thead th {\n",
       "        text-align: right;\n",
       "    }\n",
       "</style>\n",
       "<table border=\"1\" class=\"dataframe\">\n",
       "  <thead>\n",
       "    <tr style=\"text-align: right;\">\n",
       "      <th></th>\n",
       "      <th>date</th>\n",
       "      <th>price</th>\n",
       "      <th>state</th>\n",
       "    </tr>\n",
       "    <tr>\n",
       "      <th>Name</th>\n",
       "      <th></th>\n",
       "      <th></th>\n",
       "      <th></th>\n",
       "    </tr>\n",
       "  </thead>\n",
       "  <tbody>\n",
       "    <tr>\n",
       "      <th>Kang</th>\n",
       "      <td>2017-01-01</td>\n",
       "      <td>500</td>\n",
       "      <td>confirmed</td>\n",
       "    </tr>\n",
       "    <tr>\n",
       "      <th>Kim</th>\n",
       "      <td>2017-01-03</td>\n",
       "      <td>700</td>\n",
       "      <td>confirmed</td>\n",
       "    </tr>\n",
       "    <tr>\n",
       "      <th>Choi</th>\n",
       "      <td>2017-01-03</td>\n",
       "      <td>900</td>\n",
       "      <td>confirmed</td>\n",
       "    </tr>\n",
       "    <tr>\n",
       "      <th>Park</th>\n",
       "      <td>2017-01-05</td>\n",
       "      <td>800</td>\n",
       "      <td>confirmed</td>\n",
       "    </tr>\n",
       "    <tr>\n",
       "      <th>Lee</th>\n",
       "      <td>2017-01-07</td>\n",
       "      <td>500</td>\n",
       "      <td>canceled</td>\n",
       "    </tr>\n",
       "    <tr>\n",
       "      <th>Yoon</th>\n",
       "      <td>2017-01-09</td>\n",
       "      <td>700</td>\n",
       "      <td>confirmed</td>\n",
       "    </tr>\n",
       "    <tr>\n",
       "      <th>Jang</th>\n",
       "      <td>2017-01-09</td>\n",
       "      <td>600</td>\n",
       "      <td>canceled</td>\n",
       "    </tr>\n",
       "    <tr>\n",
       "      <th>Ko</th>\n",
       "      <td>2017-01-10</td>\n",
       "      <td>200</td>\n",
       "      <td>canceled</td>\n",
       "    </tr>\n",
       "  </tbody>\n",
       "</table>\n",
       "</div>"
      ],
      "text/plain": [
       "            date  price      state\n",
       "Name                              \n",
       "Kang  2017-01-01    500  confirmed\n",
       "Kim   2017-01-03    700  confirmed\n",
       "Choi  2017-01-03    900  confirmed\n",
       "Park  2017-01-05    800  confirmed\n",
       "Lee   2017-01-07    500   canceled\n",
       "Yoon  2017-01-09    700  confirmed\n",
       "Jang  2017-01-09    600   canceled\n",
       "Ko    2017-01-10    200   canceled"
      ]
     },
     "execution_count": 32,
     "metadata": {},
     "output_type": "execute_result"
    }
   ],
   "source": [
    "transaction"
   ]
  },
  {
   "cell_type": "markdown",
   "metadata": {},
   "source": [
    "### 여러 개의 데이터를 하나로 합치기"
   ]
  },
  {
   "cell_type": "code",
   "execution_count": 131,
   "metadata": {},
   "outputs": [
    {
     "data": {
      "text/html": [
       "<div>\n",
       "<style scoped>\n",
       "    .dataframe tbody tr th:only-of-type {\n",
       "        vertical-align: middle;\n",
       "    }\n",
       "\n",
       "    .dataframe tbody tr th {\n",
       "        vertical-align: top;\n",
       "    }\n",
       "\n",
       "    .dataframe thead th {\n",
       "        text-align: right;\n",
       "    }\n",
       "</style>\n",
       "<table border=\"1\" class=\"dataframe\">\n",
       "  <thead>\n",
       "    <tr style=\"text-align: right;\">\n",
       "      <th></th>\n",
       "      <th>Name</th>\n",
       "      <th>date</th>\n",
       "      <th>amount</th>\n",
       "      <th>product</th>\n",
       "      <th>result</th>\n",
       "    </tr>\n",
       "  </thead>\n",
       "  <tbody>\n",
       "    <tr>\n",
       "      <th>0</th>\n",
       "      <td>Kang</td>\n",
       "      <td>2017-01-01</td>\n",
       "      <td>500</td>\n",
       "      <td>apple</td>\n",
       "      <td>confirmed</td>\n",
       "    </tr>\n",
       "    <tr>\n",
       "      <th>1</th>\n",
       "      <td>Kim</td>\n",
       "      <td>2017-01-03</td>\n",
       "      <td>700</td>\n",
       "      <td>banana</td>\n",
       "      <td>confirmed</td>\n",
       "    </tr>\n",
       "    <tr>\n",
       "      <th>2</th>\n",
       "      <td>Choi</td>\n",
       "      <td>2017-01-05</td>\n",
       "      <td>800</td>\n",
       "      <td>apple</td>\n",
       "      <td>confirmed</td>\n",
       "    </tr>\n",
       "    <tr>\n",
       "      <th>3</th>\n",
       "      <td>Park</td>\n",
       "      <td>2017-01-07</td>\n",
       "      <td>500</td>\n",
       "      <td>cereal</td>\n",
       "      <td>canceled</td>\n",
       "    </tr>\n",
       "    <tr>\n",
       "      <th>4</th>\n",
       "      <td>Kang</td>\n",
       "      <td>2017-01-08</td>\n",
       "      <td>1200</td>\n",
       "      <td>kiwi</td>\n",
       "      <td>confirmed</td>\n",
       "    </tr>\n",
       "    <tr>\n",
       "      <th>5</th>\n",
       "      <td>Choi</td>\n",
       "      <td>2017-01-09</td>\n",
       "      <td>100</td>\n",
       "      <td>melon</td>\n",
       "      <td>confirmed</td>\n",
       "    </tr>\n",
       "    <tr>\n",
       "      <th>6</th>\n",
       "      <td>Lee</td>\n",
       "      <td>2017-01-09</td>\n",
       "      <td>700</td>\n",
       "      <td>banana</td>\n",
       "      <td>confirmed</td>\n",
       "    </tr>\n",
       "    <tr>\n",
       "      <th>7</th>\n",
       "      <td>Yoon</td>\n",
       "      <td>2017-01-10</td>\n",
       "      <td>200</td>\n",
       "      <td>cereal</td>\n",
       "      <td>canceled</td>\n",
       "    </tr>\n",
       "  </tbody>\n",
       "</table>\n",
       "</div>"
      ],
      "text/plain": [
       "   Name        date  amount product     result\n",
       "0  Kang  2017-01-01     500   apple  confirmed\n",
       "1   Kim  2017-01-03     700  banana  confirmed\n",
       "2  Choi  2017-01-05     800   apple  confirmed\n",
       "3  Park  2017-01-07     500  cereal   canceled\n",
       "4  Kang  2017-01-08    1200    kiwi  confirmed\n",
       "5  Choi  2017-01-09     100   melon  confirmed\n",
       "6   Lee  2017-01-09     700  banana  confirmed\n",
       "7  Yoon  2017-01-10     200  cereal   canceled"
      ]
     },
     "execution_count": 131,
     "metadata": {},
     "output_type": "execute_result"
    }
   ],
   "source": [
    "transaction01 = pd.read_csv(\"data/transaction/201701.csv\")\n",
    "transaction01"
   ]
  },
  {
   "cell_type": "code",
   "execution_count": 132,
   "metadata": {},
   "outputs": [
    {
     "data": {
      "text/html": [
       "<div>\n",
       "<style scoped>\n",
       "    .dataframe tbody tr th:only-of-type {\n",
       "        vertical-align: middle;\n",
       "    }\n",
       "\n",
       "    .dataframe tbody tr th {\n",
       "        vertical-align: top;\n",
       "    }\n",
       "\n",
       "    .dataframe thead th {\n",
       "        text-align: right;\n",
       "    }\n",
       "</style>\n",
       "<table border=\"1\" class=\"dataframe\">\n",
       "  <thead>\n",
       "    <tr style=\"text-align: right;\">\n",
       "      <th></th>\n",
       "      <th>Name</th>\n",
       "      <th>date</th>\n",
       "      <th>amount</th>\n",
       "      <th>product</th>\n",
       "      <th>result</th>\n",
       "    </tr>\n",
       "  </thead>\n",
       "  <tbody>\n",
       "    <tr>\n",
       "      <th>0</th>\n",
       "      <td>Kim</td>\n",
       "      <td>2017-02-04</td>\n",
       "      <td>100</td>\n",
       "      <td>cereal</td>\n",
       "      <td>confirmed</td>\n",
       "    </tr>\n",
       "    <tr>\n",
       "      <th>1</th>\n",
       "      <td>Kang</td>\n",
       "      <td>2017-02-12</td>\n",
       "      <td>200</td>\n",
       "      <td>kiwi</td>\n",
       "      <td>canceled</td>\n",
       "    </tr>\n",
       "    <tr>\n",
       "      <th>2</th>\n",
       "      <td>Kang</td>\n",
       "      <td>2017-02-15</td>\n",
       "      <td>650</td>\n",
       "      <td>banana</td>\n",
       "      <td>confirmed</td>\n",
       "    </tr>\n",
       "    <tr>\n",
       "      <th>3</th>\n",
       "      <td>Park</td>\n",
       "      <td>2017-02-28</td>\n",
       "      <td>420</td>\n",
       "      <td>cereal</td>\n",
       "      <td>confirmed</td>\n",
       "    </tr>\n",
       "  </tbody>\n",
       "</table>\n",
       "</div>"
      ],
      "text/plain": [
       "   Name        date  amount product     result\n",
       "0   Kim  2017-02-04     100  cereal  confirmed\n",
       "1  Kang  2017-02-12     200    kiwi   canceled\n",
       "2  Kang  2017-02-15     650  banana  confirmed\n",
       "3  Park  2017-02-28     420  cereal  confirmed"
      ]
     },
     "execution_count": 132,
     "metadata": {},
     "output_type": "execute_result"
    }
   ],
   "source": [
    "transaction02 = pd.read_csv(\"data/transaction/201702.csv\")\n",
    "transaction02"
   ]
  },
  {
   "cell_type": "code",
   "execution_count": 141,
   "metadata": {},
   "outputs": [
    {
     "name": "stdout",
     "output_type": "stream",
     "text": [
      "(12, 5)\n"
     ]
    },
    {
     "data": {
      "text/html": [
       "<div>\n",
       "<style scoped>\n",
       "    .dataframe tbody tr th:only-of-type {\n",
       "        vertical-align: middle;\n",
       "    }\n",
       "\n",
       "    .dataframe tbody tr th {\n",
       "        vertical-align: top;\n",
       "    }\n",
       "\n",
       "    .dataframe thead th {\n",
       "        text-align: right;\n",
       "    }\n",
       "</style>\n",
       "<table border=\"1\" class=\"dataframe\">\n",
       "  <thead>\n",
       "    <tr style=\"text-align: right;\">\n",
       "      <th></th>\n",
       "      <th>Name</th>\n",
       "      <th>date</th>\n",
       "      <th>amount</th>\n",
       "      <th>product</th>\n",
       "      <th>result</th>\n",
       "    </tr>\n",
       "  </thead>\n",
       "  <tbody>\n",
       "    <tr>\n",
       "      <th>0</th>\n",
       "      <td>Kang</td>\n",
       "      <td>2017-01-01</td>\n",
       "      <td>500</td>\n",
       "      <td>apple</td>\n",
       "      <td>confirmed</td>\n",
       "    </tr>\n",
       "    <tr>\n",
       "      <th>1</th>\n",
       "      <td>Kim</td>\n",
       "      <td>2017-01-03</td>\n",
       "      <td>700</td>\n",
       "      <td>banana</td>\n",
       "      <td>confirmed</td>\n",
       "    </tr>\n",
       "    <tr>\n",
       "      <th>2</th>\n",
       "      <td>Choi</td>\n",
       "      <td>2017-01-05</td>\n",
       "      <td>800</td>\n",
       "      <td>apple</td>\n",
       "      <td>confirmed</td>\n",
       "    </tr>\n",
       "    <tr>\n",
       "      <th>3</th>\n",
       "      <td>Park</td>\n",
       "      <td>2017-01-07</td>\n",
       "      <td>500</td>\n",
       "      <td>cereal</td>\n",
       "      <td>canceled</td>\n",
       "    </tr>\n",
       "    <tr>\n",
       "      <th>4</th>\n",
       "      <td>Kang</td>\n",
       "      <td>2017-01-08</td>\n",
       "      <td>1200</td>\n",
       "      <td>kiwi</td>\n",
       "      <td>confirmed</td>\n",
       "    </tr>\n",
       "  </tbody>\n",
       "</table>\n",
       "</div>"
      ],
      "text/plain": [
       "   Name        date  amount product     result\n",
       "0  Kang  2017-01-01     500   apple  confirmed\n",
       "1   Kim  2017-01-03     700  banana  confirmed\n",
       "2  Choi  2017-01-05     800   apple  confirmed\n",
       "3  Park  2017-01-07     500  cereal   canceled\n",
       "4  Kang  2017-01-08    1200    kiwi  confirmed"
      ]
     },
     "execution_count": 141,
     "metadata": {},
     "output_type": "execute_result"
    }
   ],
   "source": [
    "transaction = pd.concat([transaction01, transaction02])\n",
    "\n",
    "print(transaction.shape)\n",
    "transaction.head()"
   ]
  },
  {
   "cell_type": "code",
   "execution_count": 139,
   "metadata": {},
   "outputs": [
    {
     "data": {
      "text/html": [
       "<div>\n",
       "<style scoped>\n",
       "    .dataframe tbody tr th:only-of-type {\n",
       "        vertical-align: middle;\n",
       "    }\n",
       "\n",
       "    .dataframe tbody tr th {\n",
       "        vertical-align: top;\n",
       "    }\n",
       "\n",
       "    .dataframe thead th {\n",
       "        text-align: right;\n",
       "    }\n",
       "</style>\n",
       "<table border=\"1\" class=\"dataframe\">\n",
       "  <thead>\n",
       "    <tr style=\"text-align: right;\">\n",
       "      <th></th>\n",
       "      <th>Name</th>\n",
       "      <th>Age</th>\n",
       "      <th>Sex</th>\n",
       "      <th>Email</th>\n",
       "    </tr>\n",
       "  </thead>\n",
       "  <tbody>\n",
       "    <tr>\n",
       "      <th>0</th>\n",
       "      <td>Kang</td>\n",
       "      <td>30</td>\n",
       "      <td>male</td>\n",
       "      <td>kang@gmail.com</td>\n",
       "    </tr>\n",
       "    <tr>\n",
       "      <th>1</th>\n",
       "      <td>Kim</td>\n",
       "      <td>22</td>\n",
       "      <td>female</td>\n",
       "      <td>kim@naver.com</td>\n",
       "    </tr>\n",
       "    <tr>\n",
       "      <th>2</th>\n",
       "      <td>Park</td>\n",
       "      <td>37</td>\n",
       "      <td>male</td>\n",
       "      <td>park@dsschool.co.kr</td>\n",
       "    </tr>\n",
       "    <tr>\n",
       "      <th>3</th>\n",
       "      <td>Lee</td>\n",
       "      <td>15</td>\n",
       "      <td>female</td>\n",
       "      <td>lee@empas.co.kr</td>\n",
       "    </tr>\n",
       "    <tr>\n",
       "      <th>4</th>\n",
       "      <td>Son</td>\n",
       "      <td>29</td>\n",
       "      <td>male</td>\n",
       "      <td>son@google.co.uk</td>\n",
       "    </tr>\n",
       "    <tr>\n",
       "      <th>5</th>\n",
       "      <td>Moon</td>\n",
       "      <td>40</td>\n",
       "      <td>female</td>\n",
       "      <td>moon@hanmail.com</td>\n",
       "    </tr>\n",
       "    <tr>\n",
       "      <th>6</th>\n",
       "      <td>Choi</td>\n",
       "      <td>34</td>\n",
       "      <td>male</td>\n",
       "      <td>choi@yahoo.com</td>\n",
       "    </tr>\n",
       "  </tbody>\n",
       "</table>\n",
       "</div>"
      ],
      "text/plain": [
       "   Name  Age     Sex                Email\n",
       "0  Kang   30    male       kang@gmail.com\n",
       "1   Kim   22  female        kim@naver.com\n",
       "2  Park   37    male  park@dsschool.co.kr\n",
       "3   Lee   15  female      lee@empas.co.kr\n",
       "4   Son   29    male     son@google.co.uk\n",
       "5  Moon   40  female     moon@hanmail.com\n",
       "6  Choi   34    male       choi@yahoo.com"
      ]
     },
     "execution_count": 139,
     "metadata": {},
     "output_type": "execute_result"
    }
   ],
   "source": [
    "user = pd.read_csv(\"data/transaction/user.csv\")\n",
    "user"
   ]
  },
  {
   "cell_type": "code",
   "execution_count": 140,
   "metadata": {},
   "outputs": [
    {
     "data": {
      "text/html": [
       "<div>\n",
       "<style scoped>\n",
       "    .dataframe tbody tr th:only-of-type {\n",
       "        vertical-align: middle;\n",
       "    }\n",
       "\n",
       "    .dataframe tbody tr th {\n",
       "        vertical-align: top;\n",
       "    }\n",
       "\n",
       "    .dataframe thead th {\n",
       "        text-align: right;\n",
       "    }\n",
       "</style>\n",
       "<table border=\"1\" class=\"dataframe\">\n",
       "  <thead>\n",
       "    <tr style=\"text-align: right;\">\n",
       "      <th></th>\n",
       "      <th>product</th>\n",
       "      <th>price</th>\n",
       "    </tr>\n",
       "  </thead>\n",
       "  <tbody>\n",
       "    <tr>\n",
       "      <th>0</th>\n",
       "      <td>apple</td>\n",
       "      <td>5.0</td>\n",
       "    </tr>\n",
       "    <tr>\n",
       "      <th>1</th>\n",
       "      <td>blueberry</td>\n",
       "      <td>7.0</td>\n",
       "    </tr>\n",
       "    <tr>\n",
       "      <th>2</th>\n",
       "      <td>banana</td>\n",
       "      <td>2.5</td>\n",
       "    </tr>\n",
       "    <tr>\n",
       "      <th>3</th>\n",
       "      <td>cereal</td>\n",
       "      <td>4.5</td>\n",
       "    </tr>\n",
       "    <tr>\n",
       "      <th>4</th>\n",
       "      <td>kiwi</td>\n",
       "      <td>10.0</td>\n",
       "    </tr>\n",
       "    <tr>\n",
       "      <th>5</th>\n",
       "      <td>melon</td>\n",
       "      <td>12.5</td>\n",
       "    </tr>\n",
       "    <tr>\n",
       "      <th>6</th>\n",
       "      <td>pineapple</td>\n",
       "      <td>15.0</td>\n",
       "    </tr>\n",
       "  </tbody>\n",
       "</table>\n",
       "</div>"
      ],
      "text/plain": [
       "     product  price\n",
       "0      apple    5.0\n",
       "1  blueberry    7.0\n",
       "2     banana    2.5\n",
       "3     cereal    4.5\n",
       "4       kiwi   10.0\n",
       "5      melon   12.5\n",
       "6  pineapple   15.0"
      ]
     },
     "execution_count": 140,
     "metadata": {},
     "output_type": "execute_result"
    }
   ],
   "source": [
    "product = pd.read_csv(\"data/transaction/product.csv\")\n",
    "product"
   ]
  },
  {
   "cell_type": "code",
   "execution_count": 143,
   "metadata": {},
   "outputs": [
    {
     "data": {
      "text/html": [
       "<div>\n",
       "<style scoped>\n",
       "    .dataframe tbody tr th:only-of-type {\n",
       "        vertical-align: middle;\n",
       "    }\n",
       "\n",
       "    .dataframe tbody tr th {\n",
       "        vertical-align: top;\n",
       "    }\n",
       "\n",
       "    .dataframe thead th {\n",
       "        text-align: right;\n",
       "    }\n",
       "</style>\n",
       "<table border=\"1\" class=\"dataframe\">\n",
       "  <thead>\n",
       "    <tr style=\"text-align: right;\">\n",
       "      <th></th>\n",
       "      <th>Name</th>\n",
       "      <th>date</th>\n",
       "      <th>amount</th>\n",
       "      <th>product</th>\n",
       "      <th>result</th>\n",
       "      <th>Age</th>\n",
       "      <th>Sex</th>\n",
       "      <th>Email</th>\n",
       "    </tr>\n",
       "  </thead>\n",
       "  <tbody>\n",
       "    <tr>\n",
       "      <th>0</th>\n",
       "      <td>Kang</td>\n",
       "      <td>2017-01-01</td>\n",
       "      <td>500</td>\n",
       "      <td>apple</td>\n",
       "      <td>confirmed</td>\n",
       "      <td>30</td>\n",
       "      <td>male</td>\n",
       "      <td>kang@gmail.com</td>\n",
       "    </tr>\n",
       "    <tr>\n",
       "      <th>1</th>\n",
       "      <td>Kang</td>\n",
       "      <td>2017-01-08</td>\n",
       "      <td>1200</td>\n",
       "      <td>kiwi</td>\n",
       "      <td>confirmed</td>\n",
       "      <td>30</td>\n",
       "      <td>male</td>\n",
       "      <td>kang@gmail.com</td>\n",
       "    </tr>\n",
       "    <tr>\n",
       "      <th>2</th>\n",
       "      <td>Kang</td>\n",
       "      <td>2017-02-12</td>\n",
       "      <td>200</td>\n",
       "      <td>kiwi</td>\n",
       "      <td>canceled</td>\n",
       "      <td>30</td>\n",
       "      <td>male</td>\n",
       "      <td>kang@gmail.com</td>\n",
       "    </tr>\n",
       "    <tr>\n",
       "      <th>3</th>\n",
       "      <td>Kang</td>\n",
       "      <td>2017-02-15</td>\n",
       "      <td>650</td>\n",
       "      <td>banana</td>\n",
       "      <td>confirmed</td>\n",
       "      <td>30</td>\n",
       "      <td>male</td>\n",
       "      <td>kang@gmail.com</td>\n",
       "    </tr>\n",
       "    <tr>\n",
       "      <th>4</th>\n",
       "      <td>Kim</td>\n",
       "      <td>2017-01-03</td>\n",
       "      <td>700</td>\n",
       "      <td>banana</td>\n",
       "      <td>confirmed</td>\n",
       "      <td>22</td>\n",
       "      <td>female</td>\n",
       "      <td>kim@naver.com</td>\n",
       "    </tr>\n",
       "  </tbody>\n",
       "</table>\n",
       "</div>"
      ],
      "text/plain": [
       "   Name        date  amount product     result  Age     Sex           Email\n",
       "0  Kang  2017-01-01     500   apple  confirmed   30    male  kang@gmail.com\n",
       "1  Kang  2017-01-08    1200    kiwi  confirmed   30    male  kang@gmail.com\n",
       "2  Kang  2017-02-12     200    kiwi   canceled   30    male  kang@gmail.com\n",
       "3  Kang  2017-02-15     650  banana  confirmed   30    male  kang@gmail.com\n",
       "4   Kim  2017-01-03     700  banana  confirmed   22  female   kim@naver.com"
      ]
     },
     "execution_count": 143,
     "metadata": {},
     "output_type": "execute_result"
    }
   ],
   "source": [
    "# 동일한 컬럼이 있으면 해당 컬럼을 키값으로 연결해 줍니다.\n",
    "\n",
    "pd.merge(transaction, user).head()"
   ]
  },
  {
   "cell_type": "code",
   "execution_count": 145,
   "metadata": {
    "scrolled": true
   },
   "outputs": [
    {
     "data": {
      "text/html": [
       "<div>\n",
       "<style scoped>\n",
       "    .dataframe tbody tr th:only-of-type {\n",
       "        vertical-align: middle;\n",
       "    }\n",
       "\n",
       "    .dataframe tbody tr th {\n",
       "        vertical-align: top;\n",
       "    }\n",
       "\n",
       "    .dataframe thead th {\n",
       "        text-align: right;\n",
       "    }\n",
       "</style>\n",
       "<table border=\"1\" class=\"dataframe\">\n",
       "  <thead>\n",
       "    <tr style=\"text-align: right;\">\n",
       "      <th></th>\n",
       "      <th>Name</th>\n",
       "      <th>date</th>\n",
       "      <th>amount</th>\n",
       "      <th>product</th>\n",
       "      <th>result</th>\n",
       "      <th>Age</th>\n",
       "      <th>Sex</th>\n",
       "      <th>Email</th>\n",
       "    </tr>\n",
       "  </thead>\n",
       "  <tbody>\n",
       "    <tr>\n",
       "      <th>0</th>\n",
       "      <td>Kang</td>\n",
       "      <td>2017-01-01</td>\n",
       "      <td>500</td>\n",
       "      <td>apple</td>\n",
       "      <td>confirmed</td>\n",
       "      <td>30</td>\n",
       "      <td>male</td>\n",
       "      <td>kang@gmail.com</td>\n",
       "    </tr>\n",
       "    <tr>\n",
       "      <th>1</th>\n",
       "      <td>Kang</td>\n",
       "      <td>2017-01-08</td>\n",
       "      <td>1200</td>\n",
       "      <td>kiwi</td>\n",
       "      <td>confirmed</td>\n",
       "      <td>30</td>\n",
       "      <td>male</td>\n",
       "      <td>kang@gmail.com</td>\n",
       "    </tr>\n",
       "    <tr>\n",
       "      <th>2</th>\n",
       "      <td>Kang</td>\n",
       "      <td>2017-02-12</td>\n",
       "      <td>200</td>\n",
       "      <td>kiwi</td>\n",
       "      <td>canceled</td>\n",
       "      <td>30</td>\n",
       "      <td>male</td>\n",
       "      <td>kang@gmail.com</td>\n",
       "    </tr>\n",
       "    <tr>\n",
       "      <th>3</th>\n",
       "      <td>Kang</td>\n",
       "      <td>2017-02-15</td>\n",
       "      <td>650</td>\n",
       "      <td>banana</td>\n",
       "      <td>confirmed</td>\n",
       "      <td>30</td>\n",
       "      <td>male</td>\n",
       "      <td>kang@gmail.com</td>\n",
       "    </tr>\n",
       "    <tr>\n",
       "      <th>4</th>\n",
       "      <td>Kim</td>\n",
       "      <td>2017-01-03</td>\n",
       "      <td>700</td>\n",
       "      <td>banana</td>\n",
       "      <td>confirmed</td>\n",
       "      <td>22</td>\n",
       "      <td>female</td>\n",
       "      <td>kim@naver.com</td>\n",
       "    </tr>\n",
       "    <tr>\n",
       "      <th>5</th>\n",
       "      <td>Kim</td>\n",
       "      <td>2017-02-04</td>\n",
       "      <td>100</td>\n",
       "      <td>cereal</td>\n",
       "      <td>confirmed</td>\n",
       "      <td>22</td>\n",
       "      <td>female</td>\n",
       "      <td>kim@naver.com</td>\n",
       "    </tr>\n",
       "    <tr>\n",
       "      <th>6</th>\n",
       "      <td>Choi</td>\n",
       "      <td>2017-01-05</td>\n",
       "      <td>800</td>\n",
       "      <td>apple</td>\n",
       "      <td>confirmed</td>\n",
       "      <td>34</td>\n",
       "      <td>male</td>\n",
       "      <td>choi@yahoo.com</td>\n",
       "    </tr>\n",
       "    <tr>\n",
       "      <th>7</th>\n",
       "      <td>Choi</td>\n",
       "      <td>2017-01-09</td>\n",
       "      <td>100</td>\n",
       "      <td>melon</td>\n",
       "      <td>confirmed</td>\n",
       "      <td>34</td>\n",
       "      <td>male</td>\n",
       "      <td>choi@yahoo.com</td>\n",
       "    </tr>\n",
       "    <tr>\n",
       "      <th>8</th>\n",
       "      <td>Park</td>\n",
       "      <td>2017-01-07</td>\n",
       "      <td>500</td>\n",
       "      <td>cereal</td>\n",
       "      <td>canceled</td>\n",
       "      <td>37</td>\n",
       "      <td>male</td>\n",
       "      <td>park@dsschool.co.kr</td>\n",
       "    </tr>\n",
       "    <tr>\n",
       "      <th>9</th>\n",
       "      <td>Park</td>\n",
       "      <td>2017-02-28</td>\n",
       "      <td>420</td>\n",
       "      <td>cereal</td>\n",
       "      <td>confirmed</td>\n",
       "      <td>37</td>\n",
       "      <td>male</td>\n",
       "      <td>park@dsschool.co.kr</td>\n",
       "    </tr>\n",
       "    <tr>\n",
       "      <th>10</th>\n",
       "      <td>Lee</td>\n",
       "      <td>2017-01-09</td>\n",
       "      <td>700</td>\n",
       "      <td>banana</td>\n",
       "      <td>confirmed</td>\n",
       "      <td>15</td>\n",
       "      <td>female</td>\n",
       "      <td>lee@empas.co.kr</td>\n",
       "    </tr>\n",
       "  </tbody>\n",
       "</table>\n",
       "</div>"
      ],
      "text/plain": [
       "    Name        date  amount product     result  Age     Sex  \\\n",
       "0   Kang  2017-01-01     500   apple  confirmed   30    male   \n",
       "1   Kang  2017-01-08    1200    kiwi  confirmed   30    male   \n",
       "2   Kang  2017-02-12     200    kiwi   canceled   30    male   \n",
       "3   Kang  2017-02-15     650  banana  confirmed   30    male   \n",
       "4    Kim  2017-01-03     700  banana  confirmed   22  female   \n",
       "5    Kim  2017-02-04     100  cereal  confirmed   22  female   \n",
       "6   Choi  2017-01-05     800   apple  confirmed   34    male   \n",
       "7   Choi  2017-01-09     100   melon  confirmed   34    male   \n",
       "8   Park  2017-01-07     500  cereal   canceled   37    male   \n",
       "9   Park  2017-02-28     420  cereal  confirmed   37    male   \n",
       "10   Lee  2017-01-09     700  banana  confirmed   15  female   \n",
       "\n",
       "                  Email  \n",
       "0        kang@gmail.com  \n",
       "1        kang@gmail.com  \n",
       "2        kang@gmail.com  \n",
       "3        kang@gmail.com  \n",
       "4         kim@naver.com  \n",
       "5         kim@naver.com  \n",
       "6        choi@yahoo.com  \n",
       "7        choi@yahoo.com  \n",
       "8   park@dsschool.co.kr  \n",
       "9   park@dsschool.co.kr  \n",
       "10      lee@empas.co.kr  "
      ]
     },
     "execution_count": 145,
     "metadata": {},
     "output_type": "execute_result"
    }
   ],
   "source": [
    "# 키값을 직접 지정해 줄 수도 있습니다.\n",
    "\n",
    "pd.merge(transaction, user, on=\"Name\")"
   ]
  },
  {
   "cell_type": "code",
   "execution_count": 146,
   "metadata": {},
   "outputs": [
    {
     "data": {
      "text/html": [
       "<div>\n",
       "<style scoped>\n",
       "    .dataframe tbody tr th:only-of-type {\n",
       "        vertical-align: middle;\n",
       "    }\n",
       "\n",
       "    .dataframe tbody tr th {\n",
       "        vertical-align: top;\n",
       "    }\n",
       "\n",
       "    .dataframe thead th {\n",
       "        text-align: right;\n",
       "    }\n",
       "</style>\n",
       "<table border=\"1\" class=\"dataframe\">\n",
       "  <thead>\n",
       "    <tr style=\"text-align: right;\">\n",
       "      <th></th>\n",
       "      <th>Name</th>\n",
       "      <th>date</th>\n",
       "      <th>amount</th>\n",
       "      <th>product</th>\n",
       "      <th>result</th>\n",
       "      <th>Age</th>\n",
       "      <th>Sex</th>\n",
       "      <th>Email</th>\n",
       "    </tr>\n",
       "  </thead>\n",
       "  <tbody>\n",
       "    <tr>\n",
       "      <th>0</th>\n",
       "      <td>Kang</td>\n",
       "      <td>2017-01-01</td>\n",
       "      <td>500</td>\n",
       "      <td>apple</td>\n",
       "      <td>confirmed</td>\n",
       "      <td>30</td>\n",
       "      <td>male</td>\n",
       "      <td>kang@gmail.com</td>\n",
       "    </tr>\n",
       "    <tr>\n",
       "      <th>1</th>\n",
       "      <td>Kang</td>\n",
       "      <td>2017-01-08</td>\n",
       "      <td>1200</td>\n",
       "      <td>kiwi</td>\n",
       "      <td>confirmed</td>\n",
       "      <td>30</td>\n",
       "      <td>male</td>\n",
       "      <td>kang@gmail.com</td>\n",
       "    </tr>\n",
       "    <tr>\n",
       "      <th>2</th>\n",
       "      <td>Kang</td>\n",
       "      <td>2017-02-12</td>\n",
       "      <td>200</td>\n",
       "      <td>kiwi</td>\n",
       "      <td>canceled</td>\n",
       "      <td>30</td>\n",
       "      <td>male</td>\n",
       "      <td>kang@gmail.com</td>\n",
       "    </tr>\n",
       "    <tr>\n",
       "      <th>3</th>\n",
       "      <td>Kang</td>\n",
       "      <td>2017-02-15</td>\n",
       "      <td>650</td>\n",
       "      <td>banana</td>\n",
       "      <td>confirmed</td>\n",
       "      <td>30</td>\n",
       "      <td>male</td>\n",
       "      <td>kang@gmail.com</td>\n",
       "    </tr>\n",
       "    <tr>\n",
       "      <th>4</th>\n",
       "      <td>Kim</td>\n",
       "      <td>2017-01-03</td>\n",
       "      <td>700</td>\n",
       "      <td>banana</td>\n",
       "      <td>confirmed</td>\n",
       "      <td>22</td>\n",
       "      <td>female</td>\n",
       "      <td>kim@naver.com</td>\n",
       "    </tr>\n",
       "    <tr>\n",
       "      <th>5</th>\n",
       "      <td>Kim</td>\n",
       "      <td>2017-02-04</td>\n",
       "      <td>100</td>\n",
       "      <td>cereal</td>\n",
       "      <td>confirmed</td>\n",
       "      <td>22</td>\n",
       "      <td>female</td>\n",
       "      <td>kim@naver.com</td>\n",
       "    </tr>\n",
       "    <tr>\n",
       "      <th>6</th>\n",
       "      <td>Choi</td>\n",
       "      <td>2017-01-05</td>\n",
       "      <td>800</td>\n",
       "      <td>apple</td>\n",
       "      <td>confirmed</td>\n",
       "      <td>34</td>\n",
       "      <td>male</td>\n",
       "      <td>choi@yahoo.com</td>\n",
       "    </tr>\n",
       "    <tr>\n",
       "      <th>7</th>\n",
       "      <td>Choi</td>\n",
       "      <td>2017-01-09</td>\n",
       "      <td>100</td>\n",
       "      <td>melon</td>\n",
       "      <td>confirmed</td>\n",
       "      <td>34</td>\n",
       "      <td>male</td>\n",
       "      <td>choi@yahoo.com</td>\n",
       "    </tr>\n",
       "    <tr>\n",
       "      <th>8</th>\n",
       "      <td>Park</td>\n",
       "      <td>2017-01-07</td>\n",
       "      <td>500</td>\n",
       "      <td>cereal</td>\n",
       "      <td>canceled</td>\n",
       "      <td>37</td>\n",
       "      <td>male</td>\n",
       "      <td>park@dsschool.co.kr</td>\n",
       "    </tr>\n",
       "    <tr>\n",
       "      <th>9</th>\n",
       "      <td>Park</td>\n",
       "      <td>2017-02-28</td>\n",
       "      <td>420</td>\n",
       "      <td>cereal</td>\n",
       "      <td>confirmed</td>\n",
       "      <td>37</td>\n",
       "      <td>male</td>\n",
       "      <td>park@dsschool.co.kr</td>\n",
       "    </tr>\n",
       "    <tr>\n",
       "      <th>10</th>\n",
       "      <td>Lee</td>\n",
       "      <td>2017-01-09</td>\n",
       "      <td>700</td>\n",
       "      <td>banana</td>\n",
       "      <td>confirmed</td>\n",
       "      <td>15</td>\n",
       "      <td>female</td>\n",
       "      <td>lee@empas.co.kr</td>\n",
       "    </tr>\n",
       "  </tbody>\n",
       "</table>\n",
       "</div>"
      ],
      "text/plain": [
       "    Name        date  amount product     result  Age     Sex  \\\n",
       "0   Kang  2017-01-01     500   apple  confirmed   30    male   \n",
       "1   Kang  2017-01-08    1200    kiwi  confirmed   30    male   \n",
       "2   Kang  2017-02-12     200    kiwi   canceled   30    male   \n",
       "3   Kang  2017-02-15     650  banana  confirmed   30    male   \n",
       "4    Kim  2017-01-03     700  banana  confirmed   22  female   \n",
       "5    Kim  2017-02-04     100  cereal  confirmed   22  female   \n",
       "6   Choi  2017-01-05     800   apple  confirmed   34    male   \n",
       "7   Choi  2017-01-09     100   melon  confirmed   34    male   \n",
       "8   Park  2017-01-07     500  cereal   canceled   37    male   \n",
       "9   Park  2017-02-28     420  cereal  confirmed   37    male   \n",
       "10   Lee  2017-01-09     700  banana  confirmed   15  female   \n",
       "\n",
       "                  Email  \n",
       "0        kang@gmail.com  \n",
       "1        kang@gmail.com  \n",
       "2        kang@gmail.com  \n",
       "3        kang@gmail.com  \n",
       "4         kim@naver.com  \n",
       "5         kim@naver.com  \n",
       "6        choi@yahoo.com  \n",
       "7        choi@yahoo.com  \n",
       "8   park@dsschool.co.kr  \n",
       "9   park@dsschool.co.kr  \n",
       "10      lee@empas.co.kr  "
      ]
     },
     "execution_count": 146,
     "metadata": {},
     "output_type": "execute_result"
    }
   ],
   "source": [
    "# 연결하고자 하는 키가 다를 수도 있습니다.\n",
    "\n",
    "pd.merge(transaction, user, left_on=\"Name\", right_on=\"Name\")"
   ]
  },
  {
   "cell_type": "code",
   "execution_count": 147,
   "metadata": {},
   "outputs": [
    {
     "data": {
      "text/html": [
       "<div>\n",
       "<style scoped>\n",
       "    .dataframe tbody tr th:only-of-type {\n",
       "        vertical-align: middle;\n",
       "    }\n",
       "\n",
       "    .dataframe tbody tr th {\n",
       "        vertical-align: top;\n",
       "    }\n",
       "\n",
       "    .dataframe thead th {\n",
       "        text-align: right;\n",
       "    }\n",
       "</style>\n",
       "<table border=\"1\" class=\"dataframe\">\n",
       "  <thead>\n",
       "    <tr style=\"text-align: right;\">\n",
       "      <th></th>\n",
       "      <th>Name</th>\n",
       "      <th>date</th>\n",
       "      <th>amount</th>\n",
       "      <th>product</th>\n",
       "      <th>result</th>\n",
       "      <th>Age</th>\n",
       "      <th>Sex</th>\n",
       "      <th>Email</th>\n",
       "    </tr>\n",
       "  </thead>\n",
       "  <tbody>\n",
       "    <tr>\n",
       "      <th>0</th>\n",
       "      <td>Kang</td>\n",
       "      <td>2017-01-01</td>\n",
       "      <td>500</td>\n",
       "      <td>apple</td>\n",
       "      <td>confirmed</td>\n",
       "      <td>30</td>\n",
       "      <td>male</td>\n",
       "      <td>kang@gmail.com</td>\n",
       "    </tr>\n",
       "    <tr>\n",
       "      <th>1</th>\n",
       "      <td>Kang</td>\n",
       "      <td>2017-01-08</td>\n",
       "      <td>1200</td>\n",
       "      <td>kiwi</td>\n",
       "      <td>confirmed</td>\n",
       "      <td>30</td>\n",
       "      <td>male</td>\n",
       "      <td>kang@gmail.com</td>\n",
       "    </tr>\n",
       "    <tr>\n",
       "      <th>2</th>\n",
       "      <td>Kang</td>\n",
       "      <td>2017-02-12</td>\n",
       "      <td>200</td>\n",
       "      <td>kiwi</td>\n",
       "      <td>canceled</td>\n",
       "      <td>30</td>\n",
       "      <td>male</td>\n",
       "      <td>kang@gmail.com</td>\n",
       "    </tr>\n",
       "    <tr>\n",
       "      <th>3</th>\n",
       "      <td>Kang</td>\n",
       "      <td>2017-02-15</td>\n",
       "      <td>650</td>\n",
       "      <td>banana</td>\n",
       "      <td>confirmed</td>\n",
       "      <td>30</td>\n",
       "      <td>male</td>\n",
       "      <td>kang@gmail.com</td>\n",
       "    </tr>\n",
       "    <tr>\n",
       "      <th>4</th>\n",
       "      <td>Kim</td>\n",
       "      <td>2017-01-03</td>\n",
       "      <td>700</td>\n",
       "      <td>banana</td>\n",
       "      <td>confirmed</td>\n",
       "      <td>22</td>\n",
       "      <td>female</td>\n",
       "      <td>kim@naver.com</td>\n",
       "    </tr>\n",
       "    <tr>\n",
       "      <th>5</th>\n",
       "      <td>Kim</td>\n",
       "      <td>2017-02-04</td>\n",
       "      <td>100</td>\n",
       "      <td>cereal</td>\n",
       "      <td>confirmed</td>\n",
       "      <td>22</td>\n",
       "      <td>female</td>\n",
       "      <td>kim@naver.com</td>\n",
       "    </tr>\n",
       "    <tr>\n",
       "      <th>6</th>\n",
       "      <td>Choi</td>\n",
       "      <td>2017-01-05</td>\n",
       "      <td>800</td>\n",
       "      <td>apple</td>\n",
       "      <td>confirmed</td>\n",
       "      <td>34</td>\n",
       "      <td>male</td>\n",
       "      <td>choi@yahoo.com</td>\n",
       "    </tr>\n",
       "    <tr>\n",
       "      <th>7</th>\n",
       "      <td>Choi</td>\n",
       "      <td>2017-01-09</td>\n",
       "      <td>100</td>\n",
       "      <td>melon</td>\n",
       "      <td>confirmed</td>\n",
       "      <td>34</td>\n",
       "      <td>male</td>\n",
       "      <td>choi@yahoo.com</td>\n",
       "    </tr>\n",
       "    <tr>\n",
       "      <th>8</th>\n",
       "      <td>Park</td>\n",
       "      <td>2017-01-07</td>\n",
       "      <td>500</td>\n",
       "      <td>cereal</td>\n",
       "      <td>canceled</td>\n",
       "      <td>37</td>\n",
       "      <td>male</td>\n",
       "      <td>park@dsschool.co.kr</td>\n",
       "    </tr>\n",
       "    <tr>\n",
       "      <th>9</th>\n",
       "      <td>Park</td>\n",
       "      <td>2017-02-28</td>\n",
       "      <td>420</td>\n",
       "      <td>cereal</td>\n",
       "      <td>confirmed</td>\n",
       "      <td>37</td>\n",
       "      <td>male</td>\n",
       "      <td>park@dsschool.co.kr</td>\n",
       "    </tr>\n",
       "    <tr>\n",
       "      <th>10</th>\n",
       "      <td>Lee</td>\n",
       "      <td>2017-01-09</td>\n",
       "      <td>700</td>\n",
       "      <td>banana</td>\n",
       "      <td>confirmed</td>\n",
       "      <td>15</td>\n",
       "      <td>female</td>\n",
       "      <td>lee@empas.co.kr</td>\n",
       "    </tr>\n",
       "  </tbody>\n",
       "</table>\n",
       "</div>"
      ],
      "text/plain": [
       "    Name        date  amount product     result  Age     Sex  \\\n",
       "0   Kang  2017-01-01     500   apple  confirmed   30    male   \n",
       "1   Kang  2017-01-08    1200    kiwi  confirmed   30    male   \n",
       "2   Kang  2017-02-12     200    kiwi   canceled   30    male   \n",
       "3   Kang  2017-02-15     650  banana  confirmed   30    male   \n",
       "4    Kim  2017-01-03     700  banana  confirmed   22  female   \n",
       "5    Kim  2017-02-04     100  cereal  confirmed   22  female   \n",
       "6   Choi  2017-01-05     800   apple  confirmed   34    male   \n",
       "7   Choi  2017-01-09     100   melon  confirmed   34    male   \n",
       "8   Park  2017-01-07     500  cereal   canceled   37    male   \n",
       "9   Park  2017-02-28     420  cereal  confirmed   37    male   \n",
       "10   Lee  2017-01-09     700  banana  confirmed   15  female   \n",
       "\n",
       "                  Email  \n",
       "0        kang@gmail.com  \n",
       "1        kang@gmail.com  \n",
       "2        kang@gmail.com  \n",
       "3        kang@gmail.com  \n",
       "4         kim@naver.com  \n",
       "5         kim@naver.com  \n",
       "6        choi@yahoo.com  \n",
       "7        choi@yahoo.com  \n",
       "8   park@dsschool.co.kr  \n",
       "9   park@dsschool.co.kr  \n",
       "10      lee@empas.co.kr  "
      ]
     },
     "execution_count": 147,
     "metadata": {},
     "output_type": "execute_result"
    }
   ],
   "source": [
    "# 결측치를 빼과, 값이 있는 경우만 연결\n",
    "\n",
    "pd.merge(transaction, user, how='inner')"
   ]
  },
  {
   "cell_type": "code",
   "execution_count": 150,
   "metadata": {},
   "outputs": [
    {
     "data": {
      "text/html": [
       "<div>\n",
       "<style scoped>\n",
       "    .dataframe tbody tr th:only-of-type {\n",
       "        vertical-align: middle;\n",
       "    }\n",
       "\n",
       "    .dataframe tbody tr th {\n",
       "        vertical-align: top;\n",
       "    }\n",
       "\n",
       "    .dataframe thead th {\n",
       "        text-align: right;\n",
       "    }\n",
       "</style>\n",
       "<table border=\"1\" class=\"dataframe\">\n",
       "  <thead>\n",
       "    <tr style=\"text-align: right;\">\n",
       "      <th></th>\n",
       "      <th>Name</th>\n",
       "      <th>date</th>\n",
       "      <th>amount</th>\n",
       "      <th>product</th>\n",
       "      <th>result</th>\n",
       "      <th>Age</th>\n",
       "      <th>Sex</th>\n",
       "      <th>Email</th>\n",
       "    </tr>\n",
       "  </thead>\n",
       "  <tbody>\n",
       "    <tr>\n",
       "      <th>0</th>\n",
       "      <td>Kang</td>\n",
       "      <td>2017-01-01</td>\n",
       "      <td>500.0</td>\n",
       "      <td>apple</td>\n",
       "      <td>confirmed</td>\n",
       "      <td>30.0</td>\n",
       "      <td>male</td>\n",
       "      <td>kang@gmail.com</td>\n",
       "    </tr>\n",
       "    <tr>\n",
       "      <th>1</th>\n",
       "      <td>Kang</td>\n",
       "      <td>2017-01-08</td>\n",
       "      <td>1200.0</td>\n",
       "      <td>kiwi</td>\n",
       "      <td>confirmed</td>\n",
       "      <td>30.0</td>\n",
       "      <td>male</td>\n",
       "      <td>kang@gmail.com</td>\n",
       "    </tr>\n",
       "    <tr>\n",
       "      <th>2</th>\n",
       "      <td>Kang</td>\n",
       "      <td>2017-02-12</td>\n",
       "      <td>200.0</td>\n",
       "      <td>kiwi</td>\n",
       "      <td>canceled</td>\n",
       "      <td>30.0</td>\n",
       "      <td>male</td>\n",
       "      <td>kang@gmail.com</td>\n",
       "    </tr>\n",
       "    <tr>\n",
       "      <th>3</th>\n",
       "      <td>Kang</td>\n",
       "      <td>2017-02-15</td>\n",
       "      <td>650.0</td>\n",
       "      <td>banana</td>\n",
       "      <td>confirmed</td>\n",
       "      <td>30.0</td>\n",
       "      <td>male</td>\n",
       "      <td>kang@gmail.com</td>\n",
       "    </tr>\n",
       "    <tr>\n",
       "      <th>4</th>\n",
       "      <td>Kim</td>\n",
       "      <td>2017-01-03</td>\n",
       "      <td>700.0</td>\n",
       "      <td>banana</td>\n",
       "      <td>confirmed</td>\n",
       "      <td>22.0</td>\n",
       "      <td>female</td>\n",
       "      <td>kim@naver.com</td>\n",
       "    </tr>\n",
       "    <tr>\n",
       "      <th>5</th>\n",
       "      <td>Kim</td>\n",
       "      <td>2017-02-04</td>\n",
       "      <td>100.0</td>\n",
       "      <td>cereal</td>\n",
       "      <td>confirmed</td>\n",
       "      <td>22.0</td>\n",
       "      <td>female</td>\n",
       "      <td>kim@naver.com</td>\n",
       "    </tr>\n",
       "    <tr>\n",
       "      <th>6</th>\n",
       "      <td>Choi</td>\n",
       "      <td>2017-01-05</td>\n",
       "      <td>800.0</td>\n",
       "      <td>apple</td>\n",
       "      <td>confirmed</td>\n",
       "      <td>34.0</td>\n",
       "      <td>male</td>\n",
       "      <td>choi@yahoo.com</td>\n",
       "    </tr>\n",
       "    <tr>\n",
       "      <th>7</th>\n",
       "      <td>Choi</td>\n",
       "      <td>2017-01-09</td>\n",
       "      <td>100.0</td>\n",
       "      <td>melon</td>\n",
       "      <td>confirmed</td>\n",
       "      <td>34.0</td>\n",
       "      <td>male</td>\n",
       "      <td>choi@yahoo.com</td>\n",
       "    </tr>\n",
       "    <tr>\n",
       "      <th>8</th>\n",
       "      <td>Park</td>\n",
       "      <td>2017-01-07</td>\n",
       "      <td>500.0</td>\n",
       "      <td>cereal</td>\n",
       "      <td>canceled</td>\n",
       "      <td>37.0</td>\n",
       "      <td>male</td>\n",
       "      <td>park@dsschool.co.kr</td>\n",
       "    </tr>\n",
       "    <tr>\n",
       "      <th>9</th>\n",
       "      <td>Park</td>\n",
       "      <td>2017-02-28</td>\n",
       "      <td>420.0</td>\n",
       "      <td>cereal</td>\n",
       "      <td>confirmed</td>\n",
       "      <td>37.0</td>\n",
       "      <td>male</td>\n",
       "      <td>park@dsschool.co.kr</td>\n",
       "    </tr>\n",
       "    <tr>\n",
       "      <th>10</th>\n",
       "      <td>Lee</td>\n",
       "      <td>2017-01-09</td>\n",
       "      <td>700.0</td>\n",
       "      <td>banana</td>\n",
       "      <td>confirmed</td>\n",
       "      <td>15.0</td>\n",
       "      <td>female</td>\n",
       "      <td>lee@empas.co.kr</td>\n",
       "    </tr>\n",
       "    <tr>\n",
       "      <th>11</th>\n",
       "      <td>Yoon</td>\n",
       "      <td>2017-01-10</td>\n",
       "      <td>200.0</td>\n",
       "      <td>cereal</td>\n",
       "      <td>canceled</td>\n",
       "      <td>NaN</td>\n",
       "      <td>NaN</td>\n",
       "      <td>NaN</td>\n",
       "    </tr>\n",
       "    <tr>\n",
       "      <th>12</th>\n",
       "      <td>Son</td>\n",
       "      <td>NaN</td>\n",
       "      <td>NaN</td>\n",
       "      <td>NaN</td>\n",
       "      <td>NaN</td>\n",
       "      <td>29.0</td>\n",
       "      <td>male</td>\n",
       "      <td>son@google.co.uk</td>\n",
       "    </tr>\n",
       "    <tr>\n",
       "      <th>13</th>\n",
       "      <td>Moon</td>\n",
       "      <td>NaN</td>\n",
       "      <td>NaN</td>\n",
       "      <td>NaN</td>\n",
       "      <td>NaN</td>\n",
       "      <td>40.0</td>\n",
       "      <td>female</td>\n",
       "      <td>moon@hanmail.com</td>\n",
       "    </tr>\n",
       "  </tbody>\n",
       "</table>\n",
       "</div>"
      ],
      "text/plain": [
       "    Name        date  amount product     result   Age     Sex  \\\n",
       "0   Kang  2017-01-01   500.0   apple  confirmed  30.0    male   \n",
       "1   Kang  2017-01-08  1200.0    kiwi  confirmed  30.0    male   \n",
       "2   Kang  2017-02-12   200.0    kiwi   canceled  30.0    male   \n",
       "3   Kang  2017-02-15   650.0  banana  confirmed  30.0    male   \n",
       "4    Kim  2017-01-03   700.0  banana  confirmed  22.0  female   \n",
       "5    Kim  2017-02-04   100.0  cereal  confirmed  22.0  female   \n",
       "6   Choi  2017-01-05   800.0   apple  confirmed  34.0    male   \n",
       "7   Choi  2017-01-09   100.0   melon  confirmed  34.0    male   \n",
       "8   Park  2017-01-07   500.0  cereal   canceled  37.0    male   \n",
       "9   Park  2017-02-28   420.0  cereal  confirmed  37.0    male   \n",
       "10   Lee  2017-01-09   700.0  banana  confirmed  15.0  female   \n",
       "11  Yoon  2017-01-10   200.0  cereal   canceled   NaN     NaN   \n",
       "12   Son         NaN     NaN     NaN        NaN  29.0    male   \n",
       "13  Moon         NaN     NaN     NaN        NaN  40.0  female   \n",
       "\n",
       "                  Email  \n",
       "0        kang@gmail.com  \n",
       "1        kang@gmail.com  \n",
       "2        kang@gmail.com  \n",
       "3        kang@gmail.com  \n",
       "4         kim@naver.com  \n",
       "5         kim@naver.com  \n",
       "6        choi@yahoo.com  \n",
       "7        choi@yahoo.com  \n",
       "8   park@dsschool.co.kr  \n",
       "9   park@dsschool.co.kr  \n",
       "10      lee@empas.co.kr  \n",
       "11                  NaN  \n",
       "12     son@google.co.uk  \n",
       "13     moon@hanmail.com  "
      ]
     },
     "execution_count": 150,
     "metadata": {},
     "output_type": "execute_result"
    }
   ],
   "source": [
    "# 결측치 포함, 값이 없는 경우도 연결\n",
    "\n",
    "pd.merge(transaction, user, how='outer')"
   ]
  },
  {
   "cell_type": "code",
   "execution_count": 152,
   "metadata": {},
   "outputs": [
    {
     "data": {
      "text/html": [
       "<div>\n",
       "<style scoped>\n",
       "    .dataframe tbody tr th:only-of-type {\n",
       "        vertical-align: middle;\n",
       "    }\n",
       "\n",
       "    .dataframe tbody tr th {\n",
       "        vertical-align: top;\n",
       "    }\n",
       "\n",
       "    .dataframe thead th {\n",
       "        text-align: right;\n",
       "    }\n",
       "</style>\n",
       "<table border=\"1\" class=\"dataframe\">\n",
       "  <thead>\n",
       "    <tr style=\"text-align: right;\">\n",
       "      <th></th>\n",
       "      <th>Name</th>\n",
       "      <th>date</th>\n",
       "      <th>amount</th>\n",
       "      <th>product</th>\n",
       "      <th>result</th>\n",
       "      <th>Age</th>\n",
       "      <th>Sex</th>\n",
       "      <th>Email</th>\n",
       "    </tr>\n",
       "  </thead>\n",
       "  <tbody>\n",
       "    <tr>\n",
       "      <th>0</th>\n",
       "      <td>Kang</td>\n",
       "      <td>2017-01-01</td>\n",
       "      <td>500</td>\n",
       "      <td>apple</td>\n",
       "      <td>confirmed</td>\n",
       "      <td>30.0</td>\n",
       "      <td>male</td>\n",
       "      <td>kang@gmail.com</td>\n",
       "    </tr>\n",
       "    <tr>\n",
       "      <th>1</th>\n",
       "      <td>Kim</td>\n",
       "      <td>2017-01-03</td>\n",
       "      <td>700</td>\n",
       "      <td>banana</td>\n",
       "      <td>confirmed</td>\n",
       "      <td>22.0</td>\n",
       "      <td>female</td>\n",
       "      <td>kim@naver.com</td>\n",
       "    </tr>\n",
       "    <tr>\n",
       "      <th>2</th>\n",
       "      <td>Choi</td>\n",
       "      <td>2017-01-05</td>\n",
       "      <td>800</td>\n",
       "      <td>apple</td>\n",
       "      <td>confirmed</td>\n",
       "      <td>34.0</td>\n",
       "      <td>male</td>\n",
       "      <td>choi@yahoo.com</td>\n",
       "    </tr>\n",
       "    <tr>\n",
       "      <th>3</th>\n",
       "      <td>Park</td>\n",
       "      <td>2017-01-07</td>\n",
       "      <td>500</td>\n",
       "      <td>cereal</td>\n",
       "      <td>canceled</td>\n",
       "      <td>37.0</td>\n",
       "      <td>male</td>\n",
       "      <td>park@dsschool.co.kr</td>\n",
       "    </tr>\n",
       "    <tr>\n",
       "      <th>4</th>\n",
       "      <td>Kang</td>\n",
       "      <td>2017-01-08</td>\n",
       "      <td>1200</td>\n",
       "      <td>kiwi</td>\n",
       "      <td>confirmed</td>\n",
       "      <td>30.0</td>\n",
       "      <td>male</td>\n",
       "      <td>kang@gmail.com</td>\n",
       "    </tr>\n",
       "    <tr>\n",
       "      <th>5</th>\n",
       "      <td>Choi</td>\n",
       "      <td>2017-01-09</td>\n",
       "      <td>100</td>\n",
       "      <td>melon</td>\n",
       "      <td>confirmed</td>\n",
       "      <td>34.0</td>\n",
       "      <td>male</td>\n",
       "      <td>choi@yahoo.com</td>\n",
       "    </tr>\n",
       "    <tr>\n",
       "      <th>6</th>\n",
       "      <td>Lee</td>\n",
       "      <td>2017-01-09</td>\n",
       "      <td>700</td>\n",
       "      <td>banana</td>\n",
       "      <td>confirmed</td>\n",
       "      <td>15.0</td>\n",
       "      <td>female</td>\n",
       "      <td>lee@empas.co.kr</td>\n",
       "    </tr>\n",
       "    <tr>\n",
       "      <th>7</th>\n",
       "      <td>Yoon</td>\n",
       "      <td>2017-01-10</td>\n",
       "      <td>200</td>\n",
       "      <td>cereal</td>\n",
       "      <td>canceled</td>\n",
       "      <td>NaN</td>\n",
       "      <td>NaN</td>\n",
       "      <td>NaN</td>\n",
       "    </tr>\n",
       "    <tr>\n",
       "      <th>8</th>\n",
       "      <td>Kim</td>\n",
       "      <td>2017-02-04</td>\n",
       "      <td>100</td>\n",
       "      <td>cereal</td>\n",
       "      <td>confirmed</td>\n",
       "      <td>22.0</td>\n",
       "      <td>female</td>\n",
       "      <td>kim@naver.com</td>\n",
       "    </tr>\n",
       "    <tr>\n",
       "      <th>9</th>\n",
       "      <td>Kang</td>\n",
       "      <td>2017-02-12</td>\n",
       "      <td>200</td>\n",
       "      <td>kiwi</td>\n",
       "      <td>canceled</td>\n",
       "      <td>30.0</td>\n",
       "      <td>male</td>\n",
       "      <td>kang@gmail.com</td>\n",
       "    </tr>\n",
       "    <tr>\n",
       "      <th>10</th>\n",
       "      <td>Kang</td>\n",
       "      <td>2017-02-15</td>\n",
       "      <td>650</td>\n",
       "      <td>banana</td>\n",
       "      <td>confirmed</td>\n",
       "      <td>30.0</td>\n",
       "      <td>male</td>\n",
       "      <td>kang@gmail.com</td>\n",
       "    </tr>\n",
       "    <tr>\n",
       "      <th>11</th>\n",
       "      <td>Park</td>\n",
       "      <td>2017-02-28</td>\n",
       "      <td>420</td>\n",
       "      <td>cereal</td>\n",
       "      <td>confirmed</td>\n",
       "      <td>37.0</td>\n",
       "      <td>male</td>\n",
       "      <td>park@dsschool.co.kr</td>\n",
       "    </tr>\n",
       "  </tbody>\n",
       "</table>\n",
       "</div>"
      ],
      "text/plain": [
       "    Name        date  amount product     result   Age     Sex  \\\n",
       "0   Kang  2017-01-01     500   apple  confirmed  30.0    male   \n",
       "1    Kim  2017-01-03     700  banana  confirmed  22.0  female   \n",
       "2   Choi  2017-01-05     800   apple  confirmed  34.0    male   \n",
       "3   Park  2017-01-07     500  cereal   canceled  37.0    male   \n",
       "4   Kang  2017-01-08    1200    kiwi  confirmed  30.0    male   \n",
       "5   Choi  2017-01-09     100   melon  confirmed  34.0    male   \n",
       "6    Lee  2017-01-09     700  banana  confirmed  15.0  female   \n",
       "7   Yoon  2017-01-10     200  cereal   canceled   NaN     NaN   \n",
       "8    Kim  2017-02-04     100  cereal  confirmed  22.0  female   \n",
       "9   Kang  2017-02-12     200    kiwi   canceled  30.0    male   \n",
       "10  Kang  2017-02-15     650  banana  confirmed  30.0    male   \n",
       "11  Park  2017-02-28     420  cereal  confirmed  37.0    male   \n",
       "\n",
       "                  Email  \n",
       "0        kang@gmail.com  \n",
       "1         kim@naver.com  \n",
       "2        choi@yahoo.com  \n",
       "3   park@dsschool.co.kr  \n",
       "4        kang@gmail.com  \n",
       "5        choi@yahoo.com  \n",
       "6       lee@empas.co.kr  \n",
       "7                   NaN  \n",
       "8         kim@naver.com  \n",
       "9        kang@gmail.com  \n",
       "10       kang@gmail.com  \n",
       "11  park@dsschool.co.kr  "
      ]
     },
     "execution_count": 152,
     "metadata": {},
     "output_type": "execute_result"
    }
   ],
   "source": [
    "pd.merge(transaction, user, how='left')"
   ]
  },
  {
   "cell_type": "code",
   "execution_count": 151,
   "metadata": {},
   "outputs": [
    {
     "data": {
      "text/html": [
       "<div>\n",
       "<style scoped>\n",
       "    .dataframe tbody tr th:only-of-type {\n",
       "        vertical-align: middle;\n",
       "    }\n",
       "\n",
       "    .dataframe tbody tr th {\n",
       "        vertical-align: top;\n",
       "    }\n",
       "\n",
       "    .dataframe thead th {\n",
       "        text-align: right;\n",
       "    }\n",
       "</style>\n",
       "<table border=\"1\" class=\"dataframe\">\n",
       "  <thead>\n",
       "    <tr style=\"text-align: right;\">\n",
       "      <th></th>\n",
       "      <th>Name</th>\n",
       "      <th>date</th>\n",
       "      <th>amount</th>\n",
       "      <th>product</th>\n",
       "      <th>result</th>\n",
       "      <th>Age</th>\n",
       "      <th>Sex</th>\n",
       "      <th>Email</th>\n",
       "    </tr>\n",
       "  </thead>\n",
       "  <tbody>\n",
       "    <tr>\n",
       "      <th>0</th>\n",
       "      <td>Kang</td>\n",
       "      <td>2017-01-01</td>\n",
       "      <td>500.0</td>\n",
       "      <td>apple</td>\n",
       "      <td>confirmed</td>\n",
       "      <td>30</td>\n",
       "      <td>male</td>\n",
       "      <td>kang@gmail.com</td>\n",
       "    </tr>\n",
       "    <tr>\n",
       "      <th>1</th>\n",
       "      <td>Kang</td>\n",
       "      <td>2017-01-08</td>\n",
       "      <td>1200.0</td>\n",
       "      <td>kiwi</td>\n",
       "      <td>confirmed</td>\n",
       "      <td>30</td>\n",
       "      <td>male</td>\n",
       "      <td>kang@gmail.com</td>\n",
       "    </tr>\n",
       "    <tr>\n",
       "      <th>2</th>\n",
       "      <td>Kang</td>\n",
       "      <td>2017-02-12</td>\n",
       "      <td>200.0</td>\n",
       "      <td>kiwi</td>\n",
       "      <td>canceled</td>\n",
       "      <td>30</td>\n",
       "      <td>male</td>\n",
       "      <td>kang@gmail.com</td>\n",
       "    </tr>\n",
       "    <tr>\n",
       "      <th>3</th>\n",
       "      <td>Kang</td>\n",
       "      <td>2017-02-15</td>\n",
       "      <td>650.0</td>\n",
       "      <td>banana</td>\n",
       "      <td>confirmed</td>\n",
       "      <td>30</td>\n",
       "      <td>male</td>\n",
       "      <td>kang@gmail.com</td>\n",
       "    </tr>\n",
       "    <tr>\n",
       "      <th>4</th>\n",
       "      <td>Kim</td>\n",
       "      <td>2017-01-03</td>\n",
       "      <td>700.0</td>\n",
       "      <td>banana</td>\n",
       "      <td>confirmed</td>\n",
       "      <td>22</td>\n",
       "      <td>female</td>\n",
       "      <td>kim@naver.com</td>\n",
       "    </tr>\n",
       "    <tr>\n",
       "      <th>5</th>\n",
       "      <td>Kim</td>\n",
       "      <td>2017-02-04</td>\n",
       "      <td>100.0</td>\n",
       "      <td>cereal</td>\n",
       "      <td>confirmed</td>\n",
       "      <td>22</td>\n",
       "      <td>female</td>\n",
       "      <td>kim@naver.com</td>\n",
       "    </tr>\n",
       "    <tr>\n",
       "      <th>6</th>\n",
       "      <td>Choi</td>\n",
       "      <td>2017-01-05</td>\n",
       "      <td>800.0</td>\n",
       "      <td>apple</td>\n",
       "      <td>confirmed</td>\n",
       "      <td>34</td>\n",
       "      <td>male</td>\n",
       "      <td>choi@yahoo.com</td>\n",
       "    </tr>\n",
       "    <tr>\n",
       "      <th>7</th>\n",
       "      <td>Choi</td>\n",
       "      <td>2017-01-09</td>\n",
       "      <td>100.0</td>\n",
       "      <td>melon</td>\n",
       "      <td>confirmed</td>\n",
       "      <td>34</td>\n",
       "      <td>male</td>\n",
       "      <td>choi@yahoo.com</td>\n",
       "    </tr>\n",
       "    <tr>\n",
       "      <th>8</th>\n",
       "      <td>Park</td>\n",
       "      <td>2017-01-07</td>\n",
       "      <td>500.0</td>\n",
       "      <td>cereal</td>\n",
       "      <td>canceled</td>\n",
       "      <td>37</td>\n",
       "      <td>male</td>\n",
       "      <td>park@dsschool.co.kr</td>\n",
       "    </tr>\n",
       "    <tr>\n",
       "      <th>9</th>\n",
       "      <td>Park</td>\n",
       "      <td>2017-02-28</td>\n",
       "      <td>420.0</td>\n",
       "      <td>cereal</td>\n",
       "      <td>confirmed</td>\n",
       "      <td>37</td>\n",
       "      <td>male</td>\n",
       "      <td>park@dsschool.co.kr</td>\n",
       "    </tr>\n",
       "    <tr>\n",
       "      <th>10</th>\n",
       "      <td>Lee</td>\n",
       "      <td>2017-01-09</td>\n",
       "      <td>700.0</td>\n",
       "      <td>banana</td>\n",
       "      <td>confirmed</td>\n",
       "      <td>15</td>\n",
       "      <td>female</td>\n",
       "      <td>lee@empas.co.kr</td>\n",
       "    </tr>\n",
       "    <tr>\n",
       "      <th>11</th>\n",
       "      <td>Son</td>\n",
       "      <td>NaN</td>\n",
       "      <td>NaN</td>\n",
       "      <td>NaN</td>\n",
       "      <td>NaN</td>\n",
       "      <td>29</td>\n",
       "      <td>male</td>\n",
       "      <td>son@google.co.uk</td>\n",
       "    </tr>\n",
       "    <tr>\n",
       "      <th>12</th>\n",
       "      <td>Moon</td>\n",
       "      <td>NaN</td>\n",
       "      <td>NaN</td>\n",
       "      <td>NaN</td>\n",
       "      <td>NaN</td>\n",
       "      <td>40</td>\n",
       "      <td>female</td>\n",
       "      <td>moon@hanmail.com</td>\n",
       "    </tr>\n",
       "  </tbody>\n",
       "</table>\n",
       "</div>"
      ],
      "text/plain": [
       "    Name        date  amount product     result  Age     Sex  \\\n",
       "0   Kang  2017-01-01   500.0   apple  confirmed   30    male   \n",
       "1   Kang  2017-01-08  1200.0    kiwi  confirmed   30    male   \n",
       "2   Kang  2017-02-12   200.0    kiwi   canceled   30    male   \n",
       "3   Kang  2017-02-15   650.0  banana  confirmed   30    male   \n",
       "4    Kim  2017-01-03   700.0  banana  confirmed   22  female   \n",
       "5    Kim  2017-02-04   100.0  cereal  confirmed   22  female   \n",
       "6   Choi  2017-01-05   800.0   apple  confirmed   34    male   \n",
       "7   Choi  2017-01-09   100.0   melon  confirmed   34    male   \n",
       "8   Park  2017-01-07   500.0  cereal   canceled   37    male   \n",
       "9   Park  2017-02-28   420.0  cereal  confirmed   37    male   \n",
       "10   Lee  2017-01-09   700.0  banana  confirmed   15  female   \n",
       "11   Son         NaN     NaN     NaN        NaN   29    male   \n",
       "12  Moon         NaN     NaN     NaN        NaN   40  female   \n",
       "\n",
       "                  Email  \n",
       "0        kang@gmail.com  \n",
       "1        kang@gmail.com  \n",
       "2        kang@gmail.com  \n",
       "3        kang@gmail.com  \n",
       "4         kim@naver.com  \n",
       "5         kim@naver.com  \n",
       "6        choi@yahoo.com  \n",
       "7        choi@yahoo.com  \n",
       "8   park@dsschool.co.kr  \n",
       "9   park@dsschool.co.kr  \n",
       "10      lee@empas.co.kr  \n",
       "11     son@google.co.uk  \n",
       "12     moon@hanmail.com  "
      ]
     },
     "execution_count": 151,
     "metadata": {},
     "output_type": "execute_result"
    }
   ],
   "source": [
    "pd.merge(transaction, user, how='right')"
   ]
  },
 {
   "cell_type": "code",
   "execution_count": null,
   "metadata": {},
   "outputs": [],
   "source": []
  },
  {
   "cell_type": "code",
   "execution_count": null,
   "metadata": {},
   "outputs": [],
   "source": []
  },
  {
   "cell_type": "code",
   "execution_count": null,
   "metadata": {},
   "outputs": [],
   "source": []
  },
  {
   "cell_type": "code",
   "execution_count": null,
   "metadata": {},
   "outputs": [],
   "source": []
  }
 ],
 "metadata": {
  "kernelspec": {
   "display_name": "Python 3",
   "language": "python",
   "name": "python3"
  },
  "language_info": {
   "codemirror_mode": {
    "name": "ipython",
    "version": 3
   },
   "file_extension": ".py",
   "mimetype": "text/x-python",
   "name": "python",
   "nbconvert_exporter": "python",
   "pygments_lexer": "ipython3",
   "version": "3.7.3"
  }
 },
 "nbformat": 4,
 "nbformat_minor": 2
}
