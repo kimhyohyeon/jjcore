{
 "cells": [
  {
   "cell_type": "markdown",
   "metadata": {},
   "source": [
    "# Gradient Descent"
   ]
  },
  {
   "cell_type": "code",
   "execution_count": 29,
   "metadata": {},
   "outputs": [],
   "source": [
    "import numpy as np"
   ]
  },
  {
   "cell_type": "markdown",
   "metadata": {},
   "source": [
    "### Load Dataset\n",
    "\n",
    "y(label) = 0.3(weight) * x(feature)"
   ]
  },
  {
   "cell_type": "code",
   "execution_count": 30,
   "metadata": {},
   "outputs": [
    {
     "name": "stdout",
     "output_type": "stream",
     "text": [
      "(100,)\n"
     ]
    },
    {
     "data": {
      "text/plain": [
       "array([ 0.40813975,  0.30417597,  0.51924879, -0.51279441, -0.85439036,\n",
       "       -0.58365537,  0.92831435,  0.06351102, -0.65990622, -0.77224845])"
      ]
     },
     "execution_count": 30,
     "metadata": {},
     "output_type": "execute_result"
    }
   ],
   "source": [
    "x1 = np.random.uniform(low = -1.0, high = 1.0, size = 100)\n",
    "\n",
    "print(x1.shape)\n",
    "x1[:10]"
   ]
  },
  {
   "cell_type": "code",
   "execution_count": 31,
   "metadata": {},
   "outputs": [
    {
     "name": "stdout",
     "output_type": "stream",
     "text": [
      "(100,)\n"
     ]
    },
    {
     "data": {
      "text/plain": [
       "array([ 0.40813975,  0.30417597,  0.51924879, -0.51279441, -0.85439036,\n",
       "       -0.58365537,  0.92831435,  0.06351102, -0.65990622, -0.77224845])"
      ]
     },
     "execution_count": 31,
     "metadata": {},
     "output_type": "execute_result"
    }
   ],
   "source": [
    "x2 = np.random.uniform(low = -1.0, high = 1.0, size = 100)\n",
    "\n",
    "print(x1.shape)\n",
    "x1[:10]"
   ]
  },
  {
   "cell_type": "code",
   "execution_count": 40,
   "metadata": {},
   "outputs": [
    {
     "name": "stdout",
     "output_type": "stream",
     "text": [
      "(100,)\n"
     ]
    },
    {
     "data": {
      "text/plain": [
       "array([ 0.05730338,  0.65852775,  0.73821945, -0.48326039, -0.29297003,\n",
       "        0.36186463,  0.02824399,  0.39147665, -0.51708804,  0.16775779])"
      ]
     },
     "execution_count": 40,
     "metadata": {},
     "output_type": "execute_result"
    }
   ],
   "source": [
    "# y == label, 0.3, 0.5 == weight, x1 == feature, 0.1 == bias\n",
    "y = 0.3 * x1 + 0.5 * x2 + 0.1\n",
    "\n",
    "print(y.shape)\n",
    "y[:10]"
   ]
  },
  {
   "cell_type": "markdown",
   "metadata": {},
   "source": [
    "### Random Search"
   ]
  },
  {
   "cell_type": "code",
   "execution_count": 44,
   "metadata": {},
   "outputs": [
    {
     "name": "stdout",
     "output_type": "stream",
     "text": [
      "0, w1 = 0.463623, w2 = 0.207027, b = 0.906408, error = 0.823845\n",
      "1, w1 = -0.480681, w2 = 0.664055, b = -0.676942, error = 0.764949\n",
      "2, w1 = 0.985197, w2 = 0.058394, b = -0.620715, error = 0.715907\n",
      "5, w1 = 0.030290, w2 = 0.274146, b = -0.637660, error = 0.711718\n",
      "6, w1 = 0.142581, w2 = 0.088174, b = -0.193458, error = 0.302438\n",
      "18, w1 = 0.097667, w2 = 0.654438, b = 0.179266, error = 0.126915\n",
      "170, w1 = 0.385855, w2 = 0.435261, b = 0.107406, error = 0.046345\n",
      "8483, w1 = 0.285073, w2 = 0.548138, b = 0.143664, error = 0.040884\n",
      "14829, w1 = 0.275467, w2 = 0.432356, b = 0.118732, error = 0.040610\n",
      "16626, w1 = 0.358551, w2 = 0.458130, b = 0.128159, error = 0.038059\n",
      "16659, w1 = 0.360052, w2 = 0.512365, b = 0.094084, error = 0.032383\n",
      "21075, w1 = 0.332206, w2 = 0.521309, b = 0.097148, error = 0.020565\n",
      "31148, w1 = 0.311279, w2 = 0.496604, b = 0.111656, error = 0.011562\n",
      "411684, w1 = 0.293698, w2 = 0.489857, b = 0.105367, error = 0.008008\n",
      "528950, w1 = 0.293332, w2 = 0.506252, b = 0.099829, error = 0.003917\n",
      "________________________________________\n",
      "528950, w1 = 0.293332, w2 = 0.506252, b = 0.099829, error = 0.003917\n"
     ]
    }
   ],
   "source": [
    "num_epoch = 1000000\n",
    "\n",
    "best_error = 9999\n",
    "best_w1 = None\n",
    "best_w2 = None\n",
    "best_epoch = None\n",
    "\n",
    "for epoch in range(num_epoch):\n",
    "    w1 = np.random.uniform(low = -1.0, high = 1.0)\n",
    "    w2 = np.random.uniform(low = -1.0, high = 1.0)\n",
    "    b = np.random.uniform(low = -1.0, high = 1.0)\n",
    "    \n",
    "    y_predict = w1 * x1 + w2 * x2 + b\n",
    "    \n",
    "    error = np.abs(y_predict - y).mean()\n",
    "    \n",
    "    if error < best_error:\n",
    "        best_error = error\n",
    "        best_w1 = w1\n",
    "        best_w2 = w2\n",
    "        best_b = b\n",
    "        best_epoch = epoch\n",
    "        \n",
    "        print(f\"{best_epoch}, w1 = {best_w1:.6f}, w2 = {best_w2:.6f}, b = {best_b:.6f}, error = {best_error:.6f}\")\n",
    "        \n",
    "print(\"____\" * 10)\n",
    "print(f\"{best_epoch}, w1 = {best_w1:.6f}, w2 = {best_w2:.6f}, b = {best_b:.6f}, error = {best_error:.6f}\")"
   ]
  },
  {
   "cell_type": "code",
   "execution_count": 6,
   "metadata": {},
   "outputs": [
    {
     "data": {
      "text/plain": [
       "1.3333333333333333"
      ]
     },
     "execution_count": 6,
     "metadata": {},
     "output_type": "execute_result"
    }
   ],
   "source": [
    "y_example = [-1, 0, +1]\n",
    "y_predict_example = [+1, -1, 0]\n",
    "\n",
    "y_example = np.array(y_example)\n",
    "y_predict_example = np.array(y_predict_example)\n",
    "\n",
    "np.abs(y_predict_example - y_example).mean()"
   ]
  },
  {
   "cell_type": "markdown",
   "metadata": {},
   "source": [
    "### h-step search"
   ]
  },
  {
   "cell_type": "code",
   "execution_count": 7,
   "metadata": {},
   "outputs": [
    {
     "name": "stdout",
     "output_type": "stream",
     "text": [
      "________________________________________\n",
      "0, w1 = 0.392849, error = 0.042388\n"
     ]
    }
   ],
   "source": [
    "# num_epoch = 100\n",
    "# h = 0.1\n",
    "\n",
    "# w1 = np.random.uniform(low = -1.0, high = 1.0)\n",
    "\n",
    "# for epoch in range(num_epoch):\n",
    "#     y_predict = w1 * x1\n",
    "    \n",
    "#     current_error = np.abs(y_predict - y).mean()\n",
    "    \n",
    "#     y_predict = (w1 + h) * x1\n",
    "    \n",
    "#     h_plus_error = np.abs(y_predict - y).mean()\n",
    "    \n",
    "#     if h_plus_error < current_error:\n",
    "#         w1 = w1 + h\n",
    "#         print(f\"{epoch}, w1 = {w1:.6f}, error = {h_plus_error:.6f}\")    \n",
    "#         continue\n",
    "    \n",
    "#     y_predict = (w1 - h) * x1\n",
    "    \n",
    "#     h_minus_error = np.abs(y_predict - y).mean()\n",
    "    \n",
    "#     if h_plus_error < current_error:\n",
    "#         w1 = w1 - h\n",
    "#         print(f\"{epoch}, w1 = {w1:.6f}, error = {h_minus_error:.6f}\")    \n",
    "#         continue    \n",
    "    \n",
    "#     break\n",
    "    \n",
    "# print(\"____\" * 10)        \n",
    "# print(f\"{epoch}, w1 = {w1:.6f}, error = {current_error:.6f}\")"
   ]
  },
  {
   "cell_type": "markdown",
   "metadata": {},
   "source": [
    "### Gradient Descent"
   ]
  },
  {
   "cell_type": "code",
   "execution_count": 50,
   "metadata": {},
   "outputs": [
    {
     "name": "stdout",
     "output_type": "stream",
     "text": [
      "0, w1 = 0.991098, w2 = 0.614512, b = 0.099829, error = 0.359791\n",
      "1, w1 = 0.758947, w2 = 0.536334, b = 0.099829, error = 0.231654\n",
      "2, w1 = 0.607287, w2 = 0.497597, b = 0.099829, error = 0.151034\n",
      "3, w1 = 0.507333, w2 = 0.480289, b = 0.099829, error = 0.099874\n",
      "4, w1 = 0.440968, w2 = 0.474453, b = 0.099829, error = 0.067051\n",
      "5, w1 = 0.396569, w2 = 0.474408, b = 0.099829, error = 0.045736\n",
      "6, w1 = 0.366635, w2 = 0.476990, b = 0.099829, error = 0.031705\n",
      "7, w1 = 0.346298, w2 = 0.480499, b = 0.099829, error = 0.022331\n",
      "8, w1 = 0.332377, w2 = 0.484072, b = 0.099829, error = 0.015900\n",
      "9, w1 = 0.322778, w2 = 0.487311, b = 0.099829, error = 0.011383\n",
      "10, w1 = 0.316114, w2 = 0.490068, b = 0.099829, error = 0.008201\n",
      "11, w1 = 0.311456, w2 = 0.492327, b = 0.099829, error = 0.005945\n",
      "12, w1 = 0.308181, w2 = 0.494131, b = 0.099829, error = 0.004321\n",
      "13, w1 = 0.305865, w2 = 0.495545, b = 0.099829, error = 0.003149\n",
      "14, w1 = 0.304220, w2 = 0.496639, b = 0.099829, error = 0.002300\n",
      "15, w1 = 0.303045, w2 = 0.497476, b = 0.099829, error = 0.001684\n",
      "16, w1 = 0.302203, w2 = 0.498112, b = 0.099829, error = 0.001234\n",
      "17, w1 = 0.301598, w2 = 0.498592, b = 0.099829, error = 0.000907\n",
      "18, w1 = 0.301161, w2 = 0.498953, b = 0.099829, error = 0.000667\n",
      "________________________________________\n",
      "19, w1 = 0.300845, w2 = 0.499223, b = 0.099829, error = 0.000490\n"
     ]
    }
   ],
   "source": [
    "num_epoch = 100\n",
    "learing_late = 1.0\n",
    "\n",
    "w1 = np.random.uniform(low = -1.0, high = 1.0)\n",
    "w2 = np.random.uniform(low = -1.0, high = 1.0)\n",
    "b = np.random.uniform(low = -1.0, high = 1.0)\n",
    "\n",
    "for epoch in range(num_epoch):\n",
    "    y_predict = w1 * x1 + w2 * x2 + b\n",
    "    \n",
    "    error = np.abs(y_predict - y).mean()\n",
    "    \n",
    "    if error < 0.0005:\n",
    "        break\n",
    "        \n",
    "    print(f\"{epoch}, w1 = {w1:.6f}, w2 = {w2:.6f}, b = {best_b:.6f}, error = {error:.6f}\")\n",
    "    \n",
    "    w1 = w1 - learing_late * ((y_predict - y) * x1).mean()\n",
    "    w2 = w2 - learing_late * ((y_predict - y) * x2).mean()\n",
    "    b = b - learing_late * (y_predict - y).mean()\n",
    "    \n",
    "print(\"____\" * 10)\n",
    "print(f\"{epoch}, w1 = {w1:.6f}, w2 = {w2:.6f}, b = {best_b:.6f}, error = {error:.6f}\")"
   ]
  }
 ],
 "metadata": {
  "kernelspec": {
   "display_name": "Python 3",
   "language": "python",
   "name": "python3"
  },
  "language_info": {
   "codemirror_mode": {
    "name": "ipython",
    "version": 3
   },
   "file_extension": ".py",
   "mimetype": "text/x-python",
   "name": "python",
   "nbconvert_exporter": "python",
   "pygments_lexer": "ipython3",
   "version": "3.7.3"
  }
 },
 "nbformat": 4,
 "nbformat_minor": 2
}
