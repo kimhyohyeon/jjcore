{
 "cells": [
  {
   "cell_type": "markdown",
   "metadata": {},
   "source": [
    "# Kaggle - Shelter Animal Outcomes_1"
   ]
  },
  {
   "cell_type": "code",
   "execution_count": 47,
   "metadata": {},
   "outputs": [],
   "source": [
    "import pandas as pd\n",
    "import numpy as np\n",
    "%matplotlib inline\n",
    "import seaborn as sns\n",
    "import matplotlib.pyplot as plt"
   ]
  },
  {
   "cell_type": "markdown",
   "metadata": {},
   "source": [
    "## Load Dataset"
   ]
  },
  {
   "cell_type": "code",
   "execution_count": 48,
   "metadata": {},
   "outputs": [
    {
     "name": "stdout",
     "output_type": "stream",
     "text": [
      "(26729, 10)\n"
     ]
    },
    {
     "data": {
      "text/html": [
       "<div>\n",
       "<style scoped>\n",
       "    .dataframe tbody tr th:only-of-type {\n",
       "        vertical-align: middle;\n",
       "    }\n",
       "\n",
       "    .dataframe tbody tr th {\n",
       "        vertical-align: top;\n",
       "    }\n",
       "\n",
       "    .dataframe thead th {\n",
       "        text-align: right;\n",
       "    }\n",
       "</style>\n",
       "<table border=\"1\" class=\"dataframe\">\n",
       "  <thead>\n",
       "    <tr style=\"text-align: right;\">\n",
       "      <th></th>\n",
       "      <th>AnimalID</th>\n",
       "      <th>Name</th>\n",
       "      <th>DateTime</th>\n",
       "      <th>OutcomeType</th>\n",
       "      <th>OutcomeSubtype</th>\n",
       "      <th>AnimalType</th>\n",
       "      <th>SexuponOutcome</th>\n",
       "      <th>AgeuponOutcome</th>\n",
       "      <th>Breed</th>\n",
       "      <th>Color</th>\n",
       "    </tr>\n",
       "  </thead>\n",
       "  <tbody>\n",
       "    <tr>\n",
       "      <th>0</th>\n",
       "      <td>A671945</td>\n",
       "      <td>Hambone</td>\n",
       "      <td>2014-02-12 18:22:00</td>\n",
       "      <td>Return_to_owner</td>\n",
       "      <td>NaN</td>\n",
       "      <td>Dog</td>\n",
       "      <td>Neutered Male</td>\n",
       "      <td>1 year</td>\n",
       "      <td>Shetland Sheepdog Mix</td>\n",
       "      <td>Brown/White</td>\n",
       "    </tr>\n",
       "    <tr>\n",
       "      <th>1</th>\n",
       "      <td>A656520</td>\n",
       "      <td>Emily</td>\n",
       "      <td>2013-10-13 12:44:00</td>\n",
       "      <td>Euthanasia</td>\n",
       "      <td>Suffering</td>\n",
       "      <td>Cat</td>\n",
       "      <td>Spayed Female</td>\n",
       "      <td>1 year</td>\n",
       "      <td>Domestic Shorthair Mix</td>\n",
       "      <td>Cream Tabby</td>\n",
       "    </tr>\n",
       "    <tr>\n",
       "      <th>2</th>\n",
       "      <td>A686464</td>\n",
       "      <td>Pearce</td>\n",
       "      <td>2015-01-31 12:28:00</td>\n",
       "      <td>Adoption</td>\n",
       "      <td>Foster</td>\n",
       "      <td>Dog</td>\n",
       "      <td>Neutered Male</td>\n",
       "      <td>2 years</td>\n",
       "      <td>Pit Bull Mix</td>\n",
       "      <td>Blue/White</td>\n",
       "    </tr>\n",
       "    <tr>\n",
       "      <th>3</th>\n",
       "      <td>A683430</td>\n",
       "      <td>NaN</td>\n",
       "      <td>2014-07-11 19:09:00</td>\n",
       "      <td>Transfer</td>\n",
       "      <td>Partner</td>\n",
       "      <td>Cat</td>\n",
       "      <td>Intact Male</td>\n",
       "      <td>3 weeks</td>\n",
       "      <td>Domestic Shorthair Mix</td>\n",
       "      <td>Blue Cream</td>\n",
       "    </tr>\n",
       "    <tr>\n",
       "      <th>4</th>\n",
       "      <td>A667013</td>\n",
       "      <td>NaN</td>\n",
       "      <td>2013-11-15 12:52:00</td>\n",
       "      <td>Transfer</td>\n",
       "      <td>Partner</td>\n",
       "      <td>Dog</td>\n",
       "      <td>Neutered Male</td>\n",
       "      <td>2 years</td>\n",
       "      <td>Lhasa Apso/Miniature Poodle</td>\n",
       "      <td>Tan</td>\n",
       "    </tr>\n",
       "  </tbody>\n",
       "</table>\n",
       "</div>"
      ],
      "text/plain": [
       "  AnimalID     Name             DateTime      OutcomeType OutcomeSubtype  \\\n",
       "0  A671945  Hambone  2014-02-12 18:22:00  Return_to_owner            NaN   \n",
       "1  A656520    Emily  2013-10-13 12:44:00       Euthanasia      Suffering   \n",
       "2  A686464   Pearce  2015-01-31 12:28:00         Adoption         Foster   \n",
       "3  A683430      NaN  2014-07-11 19:09:00         Transfer        Partner   \n",
       "4  A667013      NaN  2013-11-15 12:52:00         Transfer        Partner   \n",
       "\n",
       "  AnimalType SexuponOutcome AgeuponOutcome                        Breed  \\\n",
       "0        Dog  Neutered Male         1 year        Shetland Sheepdog Mix   \n",
       "1        Cat  Spayed Female         1 year       Domestic Shorthair Mix   \n",
       "2        Dog  Neutered Male        2 years                 Pit Bull Mix   \n",
       "3        Cat    Intact Male        3 weeks       Domestic Shorthair Mix   \n",
       "4        Dog  Neutered Male        2 years  Lhasa Apso/Miniature Poodle   \n",
       "\n",
       "         Color  \n",
       "0  Brown/White  \n",
       "1  Cream Tabby  \n",
       "2   Blue/White  \n",
       "3   Blue Cream  \n",
       "4          Tan  "
      ]
     },
     "execution_count": 48,
     "metadata": {},
     "output_type": "execute_result"
    }
   ],
   "source": [
    "train = pd.read_csv(\"data/train.csv\")\n",
    "\n",
    "print(train.shape)\n",
    "\n",
    "train.head()"
   ]
  },
  {
   "cell_type": "code",
   "execution_count": 49,
   "metadata": {},
   "outputs": [
    {
     "name": "stdout",
     "output_type": "stream",
     "text": [
      "(11456, 8)\n"
     ]
    },
    {
     "data": {
      "text/html": [
       "<div>\n",
       "<style scoped>\n",
       "    .dataframe tbody tr th:only-of-type {\n",
       "        vertical-align: middle;\n",
       "    }\n",
       "\n",
       "    .dataframe tbody tr th {\n",
       "        vertical-align: top;\n",
       "    }\n",
       "\n",
       "    .dataframe thead th {\n",
       "        text-align: right;\n",
       "    }\n",
       "</style>\n",
       "<table border=\"1\" class=\"dataframe\">\n",
       "  <thead>\n",
       "    <tr style=\"text-align: right;\">\n",
       "      <th></th>\n",
       "      <th>ID</th>\n",
       "      <th>Name</th>\n",
       "      <th>DateTime</th>\n",
       "      <th>AnimalType</th>\n",
       "      <th>SexuponOutcome</th>\n",
       "      <th>AgeuponOutcome</th>\n",
       "      <th>Breed</th>\n",
       "      <th>Color</th>\n",
       "    </tr>\n",
       "  </thead>\n",
       "  <tbody>\n",
       "    <tr>\n",
       "      <th>0</th>\n",
       "      <td>1</td>\n",
       "      <td>Summer</td>\n",
       "      <td>2015-10-12 12:15:00</td>\n",
       "      <td>Dog</td>\n",
       "      <td>Intact Female</td>\n",
       "      <td>10 months</td>\n",
       "      <td>Labrador Retriever Mix</td>\n",
       "      <td>Red/White</td>\n",
       "    </tr>\n",
       "    <tr>\n",
       "      <th>1</th>\n",
       "      <td>2</td>\n",
       "      <td>Cheyenne</td>\n",
       "      <td>2014-07-26 17:59:00</td>\n",
       "      <td>Dog</td>\n",
       "      <td>Spayed Female</td>\n",
       "      <td>2 years</td>\n",
       "      <td>German Shepherd/Siberian Husky</td>\n",
       "      <td>Black/Tan</td>\n",
       "    </tr>\n",
       "    <tr>\n",
       "      <th>2</th>\n",
       "      <td>3</td>\n",
       "      <td>Gus</td>\n",
       "      <td>2016-01-13 12:20:00</td>\n",
       "      <td>Cat</td>\n",
       "      <td>Neutered Male</td>\n",
       "      <td>1 year</td>\n",
       "      <td>Domestic Shorthair Mix</td>\n",
       "      <td>Brown Tabby</td>\n",
       "    </tr>\n",
       "    <tr>\n",
       "      <th>3</th>\n",
       "      <td>4</td>\n",
       "      <td>Pongo</td>\n",
       "      <td>2013-12-28 18:12:00</td>\n",
       "      <td>Dog</td>\n",
       "      <td>Intact Male</td>\n",
       "      <td>4 months</td>\n",
       "      <td>Collie Smooth Mix</td>\n",
       "      <td>Tricolor</td>\n",
       "    </tr>\n",
       "    <tr>\n",
       "      <th>4</th>\n",
       "      <td>5</td>\n",
       "      <td>Skooter</td>\n",
       "      <td>2015-09-24 17:59:00</td>\n",
       "      <td>Dog</td>\n",
       "      <td>Neutered Male</td>\n",
       "      <td>2 years</td>\n",
       "      <td>Miniature Poodle Mix</td>\n",
       "      <td>White</td>\n",
       "    </tr>\n",
       "  </tbody>\n",
       "</table>\n",
       "</div>"
      ],
      "text/plain": [
       "   ID      Name             DateTime AnimalType SexuponOutcome AgeuponOutcome  \\\n",
       "0   1    Summer  2015-10-12 12:15:00        Dog  Intact Female      10 months   \n",
       "1   2  Cheyenne  2014-07-26 17:59:00        Dog  Spayed Female        2 years   \n",
       "2   3       Gus  2016-01-13 12:20:00        Cat  Neutered Male         1 year   \n",
       "3   4     Pongo  2013-12-28 18:12:00        Dog    Intact Male       4 months   \n",
       "4   5   Skooter  2015-09-24 17:59:00        Dog  Neutered Male        2 years   \n",
       "\n",
       "                            Breed        Color  \n",
       "0          Labrador Retriever Mix    Red/White  \n",
       "1  German Shepherd/Siberian Husky    Black/Tan  \n",
       "2          Domestic Shorthair Mix  Brown Tabby  \n",
       "3               Collie Smooth Mix     Tricolor  \n",
       "4            Miniature Poodle Mix        White  "
      ]
     },
     "execution_count": 49,
     "metadata": {},
     "output_type": "execute_result"
    }
   ],
   "source": [
    "test = pd.read_csv(\"data/test.csv\")\n",
    "\n",
    "print(test.shape)\n",
    "\n",
    "test.head()"
   ]
  },
  {
   "cell_type": "markdown",
   "metadata": {},
   "source": [
    "## EDA and Visualization"
   ]
  },
  {
   "cell_type": "markdown",
   "metadata": {},
   "source": [
    "### 1. Dates"
   ]
  },
  {
   "cell_type": "code",
   "execution_count": 50,
   "metadata": {},
   "outputs": [
    {
     "name": "stdout",
     "output_type": "stream",
     "text": [
      "(26729, 17)\n"
     ]
    },
    {
     "data": {
      "text/html": [
       "<div>\n",
       "<style scoped>\n",
       "    .dataframe tbody tr th:only-of-type {\n",
       "        vertical-align: middle;\n",
       "    }\n",
       "\n",
       "    .dataframe tbody tr th {\n",
       "        vertical-align: top;\n",
       "    }\n",
       "\n",
       "    .dataframe thead th {\n",
       "        text-align: right;\n",
       "    }\n",
       "</style>\n",
       "<table border=\"1\" class=\"dataframe\">\n",
       "  <thead>\n",
       "    <tr style=\"text-align: right;\">\n",
       "      <th></th>\n",
       "      <th>DateTime</th>\n",
       "      <th>DateTime-year</th>\n",
       "      <th>DateTime-month</th>\n",
       "      <th>DateTime-day</th>\n",
       "      <th>DateTime-hour</th>\n",
       "      <th>DateTime-minute</th>\n",
       "      <th>DateTime-second</th>\n",
       "      <th>DateTime-dayofweek</th>\n",
       "    </tr>\n",
       "  </thead>\n",
       "  <tbody>\n",
       "    <tr>\n",
       "      <th>0</th>\n",
       "      <td>2014-02-12 18:22:00</td>\n",
       "      <td>2014</td>\n",
       "      <td>2</td>\n",
       "      <td>12</td>\n",
       "      <td>18</td>\n",
       "      <td>22</td>\n",
       "      <td>0</td>\n",
       "      <td>2</td>\n",
       "    </tr>\n",
       "    <tr>\n",
       "      <th>1</th>\n",
       "      <td>2013-10-13 12:44:00</td>\n",
       "      <td>2013</td>\n",
       "      <td>10</td>\n",
       "      <td>13</td>\n",
       "      <td>12</td>\n",
       "      <td>44</td>\n",
       "      <td>0</td>\n",
       "      <td>6</td>\n",
       "    </tr>\n",
       "    <tr>\n",
       "      <th>2</th>\n",
       "      <td>2015-01-31 12:28:00</td>\n",
       "      <td>2015</td>\n",
       "      <td>1</td>\n",
       "      <td>31</td>\n",
       "      <td>12</td>\n",
       "      <td>28</td>\n",
       "      <td>0</td>\n",
       "      <td>5</td>\n",
       "    </tr>\n",
       "    <tr>\n",
       "      <th>3</th>\n",
       "      <td>2014-07-11 19:09:00</td>\n",
       "      <td>2014</td>\n",
       "      <td>7</td>\n",
       "      <td>11</td>\n",
       "      <td>19</td>\n",
       "      <td>9</td>\n",
       "      <td>0</td>\n",
       "      <td>4</td>\n",
       "    </tr>\n",
       "    <tr>\n",
       "      <th>4</th>\n",
       "      <td>2013-11-15 12:52:00</td>\n",
       "      <td>2013</td>\n",
       "      <td>11</td>\n",
       "      <td>15</td>\n",
       "      <td>12</td>\n",
       "      <td>52</td>\n",
       "      <td>0</td>\n",
       "      <td>4</td>\n",
       "    </tr>\n",
       "  </tbody>\n",
       "</table>\n",
       "</div>"
      ],
      "text/plain": [
       "             DateTime  DateTime-year  DateTime-month  DateTime-day  \\\n",
       "0 2014-02-12 18:22:00           2014               2            12   \n",
       "1 2013-10-13 12:44:00           2013              10            13   \n",
       "2 2015-01-31 12:28:00           2015               1            31   \n",
       "3 2014-07-11 19:09:00           2014               7            11   \n",
       "4 2013-11-15 12:52:00           2013              11            15   \n",
       "\n",
       "   DateTime-hour  DateTime-minute  DateTime-second  DateTime-dayofweek  \n",
       "0             18               22                0                   2  \n",
       "1             12               44                0                   6  \n",
       "2             12               28                0                   5  \n",
       "3             19                9                0                   4  \n",
       "4             12               52                0                   4  "
      ]
     },
     "execution_count": 50,
     "metadata": {},
     "output_type": "execute_result"
    }
   ],
   "source": [
    "train[\"DateTime\"] = pd.to_datetime(train[\"DateTime\"])\n",
    "\n",
    "train[\"DateTime-year\"] = train[\"DateTime\"].dt.year\n",
    "train[\"DateTime-month\"] = train[\"DateTime\"].dt.month\n",
    "train[\"DateTime-day\"] = train[\"DateTime\"].dt.day\n",
    "train[\"DateTime-hour\"] = train[\"DateTime\"].dt.hour\n",
    "train[\"DateTime-minute\"] = train[\"DateTime\"].dt.minute\n",
    "train[\"DateTime-second\"] = train[\"DateTime\"].dt.second\n",
    "train[\"DateTime-dayofweek\"] = train[\"DateTime\"].dt.dayofweek\n",
    "\n",
    "print(train.shape)\n",
    "\n",
    "train[[\"DateTime\", \"DateTime-year\", \"DateTime-month\", \"DateTime-day\", \"DateTime-hour\", \"DateTime-minute\", \"DateTime-second\", \"DateTime-dayofweek\"]].head()"
   ]
  },
  {
   "cell_type": "markdown",
   "metadata": {},
   "source": [
    "### 1-1) 시각화를 하기 전 예상\n",
    "\n",
    "1. 일단 분(```Dates-minute```), 초(```Dates-second```)는 동물 상태를 판가름하는데 별 영향이 없을 것 같음.\n",
    "2. 1년에 31일이 있는 달이 절반 정도 밖에 되지 않기 때문에 31일 데이터가 적게 나올것 같음.\n",
    "3. 반면 시간(```Dates-hour```)은 동물 상태를 판별하는데 큰 영향이 있을 것 같음."
   ]
  },
  {
   "cell_type": "code",
   "execution_count": 51,
   "metadata": {},
   "outputs": [
    {
     "data": {
      "text/plain": [
       "<matplotlib.axes._subplots.AxesSubplot at 0x2499ce9b5f8>"
      ]
     },
     "execution_count": 51,
     "metadata": {},
     "output_type": "execute_result"
    },
    {
     "data": {
      "image/png": "[encoded data removed]",
      "text/plain": [
       "<Figure size 1296x576 with 9 Axes>"
      ]
     },
     "metadata": {
      "needs_background": "light"
     },
     "output_type": "display_data"
    }
   ],
   "source": [
    "figure, ((ax1, ax2, ax3), (ax4, ax5, ax6), (ax7, ax8, ax9)) = plt.subplots(nrows=3, ncols=3)\n",
    "\n",
    "figure.set_size_inches(18, 8)\n",
    "\n",
    "sns.countplot(data=train, x=\"DateTime-year\", hue=\"OutcomeType\", ax=ax1)\n",
    "sns.countplot(data=train, x=\"DateTime-month\",hue=\"OutcomeType\",  ax=ax2)\n",
    "sns.countplot(data=train, x=\"DateTime-day\",hue=\"OutcomeType\",  ax=ax3)\n",
    "sns.countplot(data=train, x=\"DateTime-hour\",hue=\"OutcomeType\",  ax=ax4)\n",
    "sns.countplot(data=train, x=\"DateTime-minute\",hue=\"OutcomeType\",  ax=ax5)\n",
    "sns.countplot(data=train, x=\"DateTime-second\",hue=\"OutcomeType\",  ax=ax6)\n",
    "sns.countplot(data=train, x=\"DateTime-dayofweek\",hue=\"OutcomeType\",  ax=ax7)"
   ]
  },
  {
   "cell_type": "markdown",
   "metadata": {},
   "source": [
    "### 1-2) 이 시각화로 발견할 수 있는 사실\n",
    "\n",
    "1. 초(```Dates-second```)는 전부 0으로 기록되어 있어 의미 있는 데이터가 아님. 분(```Dates-minute```)은 0분이 상당히 높다는 것을 알 수 있음.\n",
    "\n",
    "2. 일(```Dates-day```) 31일을 제외 하면 크게 특징을 보이는 부분이 없음.\n",
    "\n",
    "3. 시간(```Dates-hour```)을 확인해 보면 세벽시간과 아침시간에는 거의 없으며, 오후시간 혹은 퇴근 시간이 되면서 늘어남."
   ]
  },
  {
   "cell_type": "markdown",
   "metadata": {},
   "source": [
    "### 1-3) 예측 모델 계선 가능성\n",
    "\n",
    "1. 초(```Dates-second```)는 전부 다 0으로 feature 에 포함 시키지 않아도 될것 같음.\n",
    "2. 시간(```Dates-hour```) 데이터는 예측하는데 도움이 많이 될것 같음.\n",
    "3. 31일이 있는 달이 1년의 절반 밖에 되지 않기 때문에 이를 참고 하여 학습을 시켜야 할것 같음."
   ]
  },
  {
   "cell_type": "markdown",
   "metadata": {},
   "source": [
    "### 2. Breed"
   ]
  },
  {
   "cell_type": "markdown",
   "metadata": {},
   "source": [
    "### 2-1) 시각화를 하기 전 예상\n",
    "\n",
    "1. 품종에 따라 사람들이 선호 하는 종이 있을 것임.\n",
    "2. 많이 변화가 있는 품종이 있을것이며 거의 없는 품종이 있을 것임."
   ]
  },
  {
   "cell_type": "code",
   "execution_count": 52,
   "metadata": {},
   "outputs": [
    {
     "data": {
      "text/plain": [
       "Domestic Shorthair Mix                            8810\n",
       "Pit Bull Mix                                      1906\n",
       "Chihuahua Shorthair Mix                           1766\n",
       "Labrador Retriever Mix                            1363\n",
       "Domestic Medium Hair Mix                           839\n",
       "German Shepherd Mix                                575\n",
       "Domestic Longhair Mix                              520\n",
       "Siamese Mix                                        389\n",
       "Australian Cattle Dog Mix                          367\n",
       "Dachshund Mix                                      318\n",
       "Boxer Mix                                          245\n",
       "Miniature Poodle Mix                               233\n",
       "Border Collie Mix                                  229\n",
       "Australian Shepherd Mix                            163\n",
       "Rat Terrier Mix                                    157\n",
       "Catahoula Mix                                      157\n",
       "Jack Russell Terrier Mix                           146\n",
       "Yorkshire Terrier Mix                              143\n",
       "Domestic Shorthair                                 143\n",
       "Chihuahua Longhair Mix                             142\n",
       "Siberian Husky Mix                                 138\n",
       "Miniature Schnauzer Mix                            136\n",
       "Beagle Mix                                         124\n",
       "Rottweiler Mix                                     113\n",
       "American Bulldog Mix                               109\n",
       "Cairn Terrier Mix                                  102\n",
       "Shih Tzu Mix                                       100\n",
       "Chihuahua Shorthair/Dachshund                       98\n",
       "Australian Kelpie Mix                               95\n",
       "Staffordshire Mix                                   94\n",
       "                                                  ... \n",
       "Dachshund Wirehair/Rat Terrier                       1\n",
       "Dachshund Wirehair/Standard Poodle                   1\n",
       "Rhod Ridgeback/Plott Hound                           1\n",
       "Great Pyrenees/Pit Bull                              1\n",
       "Irish Wolfhound/Australian Shepherd                  1\n",
       "Pharaoh Hound/Australian Cattle Dog                  1\n",
       "Rottweiler/Rhod Ridgeback                            1\n",
       "Collie Rough/Chinese Sharpei                         1\n",
       "Border Terrier/Soft Coated Wheaten Terrier           1\n",
       "Cardigan Welsh Corgi                                 1\n",
       "Manx/Domestic Longhair                               1\n",
       "Soft Coated Wheaten Terrier/Labrador Retriever       1\n",
       "Great Dane/German Shepherd                           1\n",
       "German Shepherd/Great Dane                           1\n",
       "Devon Rex Mix                                        1\n",
       "Standard Schnauzer/Toy Poodle                        1\n",
       "Border Terrier/Dachshund                             1\n",
       "Queensland Heeler/Border Collie                      1\n",
       "Labrador Retriever/Spanish Water Dog                 1\n",
       "Doberman Pinsch/German Shepherd                      1\n",
       "Shetland Sheepdog/Cardigan Welsh Corgi               1\n",
       "Beagle/Cocker Spaniel                                1\n",
       "Siberian Husky/Catahoula                             1\n",
       "Chow Chow/Siberian Husky                             1\n",
       "Golden Retriever/Australian Shepherd                 1\n",
       "Australian Kelpie/Chinese Sharpei                    1\n",
       "Collie Smooth/Siberian Husky                         1\n",
       "Domestic Longhair/Russian Blue                       1\n",
       "Shih Tzu/Cardigan Welsh Corgi                        1\n",
       "Silky Terrier/Yorkshire Terrier                      1\n",
       "Name: Breed, Length: 1380, dtype: int64"
      ]
     },
     "execution_count": 52,
     "metadata": {},
     "output_type": "execute_result"
    }
   ],
   "source": [
    "train[\"Breed\"].value_counts()"
   ]
  },
  {
   "cell_type": "code",
   "execution_count": 53,
   "metadata": {
    "scrolled": true
   },
   "outputs": [
    {
     "data": {
      "text/plain": [
       "Index(['Domestic Shorthair Mix', 'Pit Bull Mix', 'Chihuahua Shorthair Mix',\n",
       "       'Labrador Retriever Mix', 'Domestic Medium Hair Mix',\n",
       "       'German Shepherd Mix', 'Domestic Longhair Mix', 'Siamese Mix',\n",
       "       'Australian Cattle Dog Mix', 'Dachshund Mix',\n",
       "       ...\n",
       "       'Shetland Sheepdog/Cardigan Welsh Corgi', 'Beagle/Cocker Spaniel',\n",
       "       'Siberian Husky/Catahoula', 'Chow Chow/Siberian Husky',\n",
       "       'Golden Retriever/Australian Shepherd',\n",
       "       'Australian Kelpie/Chinese Sharpei', 'Collie Smooth/Siberian Husky',\n",
       "       'Domestic Longhair/Russian Blue', 'Shih Tzu/Cardigan Welsh Corgi',\n",
       "       'Silky Terrier/Yorkshire Terrier'],\n",
       "      dtype='object', length=1380)"
      ]
     },
     "execution_count": 53,
     "metadata": {},
     "output_type": "execute_result"
    }
   ],
   "source": [
    "Breed_list = train[\"Breed\"].value_counts().index\n",
    "\n",
    "Breed_list"
   ]
  },
  {
   "cell_type": "code",
   "execution_count": 54,
   "metadata": {},
   "outputs": [
    {
     "data": {
      "text/html": [
       "<div>\n",
       "<style scoped>\n",
       "    .dataframe tbody tr th:only-of-type {\n",
       "        vertical-align: middle;\n",
       "    }\n",
       "\n",
       "    .dataframe tbody tr th {\n",
       "        vertical-align: top;\n",
       "    }\n",
       "\n",
       "    .dataframe thead th {\n",
       "        text-align: right;\n",
       "    }\n",
       "</style>\n",
       "<table border=\"1\" class=\"dataframe\">\n",
       "  <thead>\n",
       "    <tr style=\"text-align: right;\">\n",
       "      <th></th>\n",
       "      <th>Breed</th>\n",
       "      <th>Breed(clean)</th>\n",
       "    </tr>\n",
       "  </thead>\n",
       "  <tbody>\n",
       "    <tr>\n",
       "      <th>0</th>\n",
       "      <td>Shetland Sheepdog Mix</td>\n",
       "      <td>Shetland Sheepdog Mix</td>\n",
       "    </tr>\n",
       "    <tr>\n",
       "      <th>1</th>\n",
       "      <td>Domestic Shorthair Mix</td>\n",
       "      <td>Domestic Shorthair Mix</td>\n",
       "    </tr>\n",
       "    <tr>\n",
       "      <th>2</th>\n",
       "      <td>Pit Bull Mix</td>\n",
       "      <td>Pit Bull Mix</td>\n",
       "    </tr>\n",
       "    <tr>\n",
       "      <th>3</th>\n",
       "      <td>Domestic Shorthair Mix</td>\n",
       "      <td>Domestic Shorthair Mix</td>\n",
       "    </tr>\n",
       "    <tr>\n",
       "      <th>4</th>\n",
       "      <td>Lhasa Apso/Miniature Poodle</td>\n",
       "      <td>Lhasa Apso/Miniature Poodle</td>\n",
       "    </tr>\n",
       "  </tbody>\n",
       "</table>\n",
       "</div>"
      ],
      "text/plain": [
       "                         Breed                 Breed(clean)\n",
       "0        Shetland Sheepdog Mix        Shetland Sheepdog Mix\n",
       "1       Domestic Shorthair Mix       Domestic Shorthair Mix\n",
       "2                 Pit Bull Mix                 Pit Bull Mix\n",
       "3       Domestic Shorthair Mix       Domestic Shorthair Mix\n",
       "4  Lhasa Apso/Miniature Poodle  Lhasa Apso/Miniature Poodle"
      ]
     },
     "execution_count": 54,
     "metadata": {},
     "output_type": "execute_result"
    }
   ],
   "source": [
    "train[\"Breed(clean)\"] = train[\"Breed\"]\n",
    "\n",
    "\n",
    "train[[\"Breed\", \"Breed(clean)\"]].head()"
   ]
  },
  {
   "cell_type": "code",
   "execution_count": 55,
   "metadata": {},
   "outputs": [
    {
     "data": {
      "text/plain": [
       "Domestic Shorthair Mix                            8810\n",
       "Pit Bull Mix                                      1906\n",
       "Chihuahua Shorthair Mix                           1766\n",
       "Labrador Retriever Mix                            1363\n",
       "Domestic Medium Hair Mix                           839\n",
       "German Shepherd Mix                                575\n",
       "Domestic Longhair Mix                              520\n",
       "Siamese Mix                                        389\n",
       "Australian Cattle Dog Mix                          367\n",
       "Dachshund Mix                                      318\n",
       "Boxer Mix                                          245\n",
       "Miniature Poodle Mix                               233\n",
       "Border Collie Mix                                  229\n",
       "Australian Shepherd Mix                            163\n",
       "Rat Terrier Mix                                    157\n",
       "Catahoula Mix                                      157\n",
       "Jack Russell Terrier Mix                           146\n",
       "Yorkshire Terrier Mix                              143\n",
       "Domestic Shorthair                                 143\n",
       "Chihuahua Longhair Mix                             142\n",
       "Siberian Husky Mix                                 138\n",
       "Miniature Schnauzer Mix                            136\n",
       "Beagle Mix                                         124\n",
       "Rottweiler Mix                                     113\n",
       "American Bulldog Mix                               109\n",
       "Cairn Terrier Mix                                  102\n",
       "Shih Tzu Mix                                       100\n",
       "Chihuahua Shorthair/Dachshund                       98\n",
       "Australian Kelpie Mix                               95\n",
       "Staffordshire Mix                                   94\n",
       "                                                  ... \n",
       "Dachshund Wirehair/Rat Terrier                       1\n",
       "Dachshund Wirehair/Standard Poodle                   1\n",
       "Rhod Ridgeback/Plott Hound                           1\n",
       "Great Pyrenees/Pit Bull                              1\n",
       "Irish Wolfhound/Australian Shepherd                  1\n",
       "Pharaoh Hound/Australian Cattle Dog                  1\n",
       "Rottweiler/Rhod Ridgeback                            1\n",
       "Collie Rough/Chinese Sharpei                         1\n",
       "Border Terrier/Soft Coated Wheaten Terrier           1\n",
       "Cardigan Welsh Corgi                                 1\n",
       "Manx/Domestic Longhair                               1\n",
       "Soft Coated Wheaten Terrier/Labrador Retriever       1\n",
       "Great Dane/German Shepherd                           1\n",
       "German Shepherd/Great Dane                           1\n",
       "Devon Rex Mix                                        1\n",
       "Standard Schnauzer/Toy Poodle                        1\n",
       "Border Terrier/Dachshund                             1\n",
       "Queensland Heeler/Border Collie                      1\n",
       "Labrador Retriever/Spanish Water Dog                 1\n",
       "Doberman Pinsch/German Shepherd                      1\n",
       "Shetland Sheepdog/Cardigan Welsh Corgi               1\n",
       "Beagle/Cocker Spaniel                                1\n",
       "Siberian Husky/Catahoula                             1\n",
       "Chow Chow/Siberian Husky                             1\n",
       "Golden Retriever/Australian Shepherd                 1\n",
       "Australian Kelpie/Chinese Sharpei                    1\n",
       "Collie Smooth/Siberian Husky                         1\n",
       "Domestic Longhair/Russian Blue                       1\n",
       "Shih Tzu/Cardigan Welsh Corgi                        1\n",
       "Silky Terrier/Yorkshire Terrier                      1\n",
       "Name: Breed(clean), Length: 1380, dtype: int64"
      ]
     },
     "execution_count": 55,
     "metadata": {},
     "output_type": "execute_result"
    }
   ],
   "source": [
    "Breed_counts = train[\"Breed(clean)\"].value_counts()\n",
    "\n",
    "Breed_counts"
   ]
  },
  {
   "cell_type": "code",
   "execution_count": 56,
   "metadata": {},
   "outputs": [
    {
     "name": "stdout",
     "output_type": "stream",
     "text": [
      "1\n"
     ]
    },
    {
     "data": {
      "text/plain": [
       "Index(['Domestic Shorthair Mix', 'Pit Bull Mix', 'Chihuahua Shorthair Mix',\n",
       "       'Labrador Retriever Mix', 'Domestic Medium Hair Mix',\n",
       "       'German Shepherd Mix', 'Domestic Longhair Mix', 'Siamese Mix',\n",
       "       'Australian Cattle Dog Mix', 'Dachshund Mix', 'Boxer Mix',\n",
       "       'Miniature Poodle Mix', 'Border Collie Mix', 'Australian Shepherd Mix',\n",
       "       'Rat Terrier Mix', 'Catahoula Mix', 'Jack Russell Terrier Mix',\n",
       "       'Yorkshire Terrier Mix', 'Domestic Shorthair', 'Chihuahua Longhair Mix',\n",
       "       'Siberian Husky Mix', 'Miniature Schnauzer Mix', 'Beagle Mix',\n",
       "       'Rottweiler Mix', 'American Bulldog Mix', 'Cairn Terrier Mix',\n",
       "       'Shih Tzu Mix', 'Chihuahua Shorthair/Dachshund',\n",
       "       'Australian Kelpie Mix', 'Staffordshire Mix', 'Pointer Mix',\n",
       "       'American Staffordshire Terrier Mix', 'Great Pyrenees Mix',\n",
       "       'Chihuahua Shorthair', 'Labrador Retriever/Pit Bull', 'German Shepherd',\n",
       "       'Anatol Shepherd Mix', 'Snowshoe Mix', 'Plott Hound Mix',\n",
       "       'Labrador Retriever', 'Dachshund/Chihuahua Shorthair',\n",
       "       'Miniature Pinscher Mix', 'American Pit Bull Terrier Mix', 'Pit Bull',\n",
       "       'Golden Retriever Mix', 'German Shepherd/Labrador Retriever',\n",
       "       'Black Mouth Cur Mix', 'Chow Chow Mix',\n",
       "       'Labrador Retriever/German Shepherd', 'Cardigan Welsh Corgi Mix',\n",
       "       'Shih Tzu', 'Queensland Heeler Mix', 'Pug Mix', 'Maltese Mix',\n",
       "       'Dachshund', 'Doberman Pinsch Mix', 'Cocker Spaniel Mix', 'Manx Mix',\n",
       "       'Maine Coon Mix', 'Basset Hound Mix', 'Boston Terrier Mix',\n",
       "       'Domestic Medium Hair', 'Lhasa Apso Mix',\n",
       "       'Miniature Schnauzer/Miniature Poodle', 'Manchester Terrier Mix',\n",
       "       'Pomeranian Mix', 'Carolina Dog Mix', 'Rottweiler', 'Blue Lacy Mix',\n",
       "       'Flat Coat Retriever Mix', 'Labrador Retriever/Border Collie',\n",
       "       'Toy Poodle Mix', 'Russian Blue Mix', 'Dachshund Longhair Mix',\n",
       "       'Australian Cattle Dog/Labrador Retriever', 'Boxer',\n",
       "       'Border Terrier Mix', 'Siberian Husky', 'Pit Bull/Labrador Retriever',\n",
       "       'Collie Smooth Mix', 'Maltese/Miniature Poodle',\n",
       "       'Border Collie/Labrador Retriever',\n",
       "       'Labrador Retriever/Australian Cattle Dog', 'Bull Terrier Mix',\n",
       "       'Pekingese Mix', 'Rhod Ridgeback Mix', 'Australian Cattle Dog', 'Pug',\n",
       "       'Chinese Sharpei Mix'],\n",
       "      dtype='object')"
      ]
     },
     "execution_count": 56,
     "metadata": {},
     "output_type": "execute_result"
    }
   ],
   "source": [
    "# 100개 이상의 주소만 출력\n",
    "top_Breed_counts = Breed_counts[Breed_counts >= 25]\n",
    "top_Breed_counts = top_Breed_counts.index\n",
    "\n",
    "print(len(top_Breed_counts.shape))\n",
    "top_Breed_counts"
   ]
  },
  {
   "cell_type": "code",
   "execution_count": 57,
   "metadata": {},
   "outputs": [
    {
     "name": "stdout",
     "output_type": "stream",
     "text": [
      "(26729, 18)\n"
     ]
    },
    {
     "data": {
      "text/html": [
       "<div>\n",
       "<style scoped>\n",
       "    .dataframe tbody tr th:only-of-type {\n",
       "        vertical-align: middle;\n",
       "    }\n",
       "\n",
       "    .dataframe tbody tr th {\n",
       "        vertical-align: top;\n",
       "    }\n",
       "\n",
       "    .dataframe thead th {\n",
       "        text-align: right;\n",
       "    }\n",
       "</style>\n",
       "<table border=\"1\" class=\"dataframe\">\n",
       "  <thead>\n",
       "    <tr style=\"text-align: right;\">\n",
       "      <th></th>\n",
       "      <th>Breed</th>\n",
       "      <th>Breed(clean)</th>\n",
       "    </tr>\n",
       "  </thead>\n",
       "  <tbody>\n",
       "    <tr>\n",
       "      <th>0</th>\n",
       "      <td>Shetland Sheepdog Mix</td>\n",
       "      <td>Others</td>\n",
       "    </tr>\n",
       "    <tr>\n",
       "      <th>1</th>\n",
       "      <td>Domestic Shorthair Mix</td>\n",
       "      <td>Domestic Shorthair Mix</td>\n",
       "    </tr>\n",
       "    <tr>\n",
       "      <th>2</th>\n",
       "      <td>Pit Bull Mix</td>\n",
       "      <td>Pit Bull Mix</td>\n",
       "    </tr>\n",
       "    <tr>\n",
       "      <th>3</th>\n",
       "      <td>Domestic Shorthair Mix</td>\n",
       "      <td>Domestic Shorthair Mix</td>\n",
       "    </tr>\n",
       "    <tr>\n",
       "      <th>4</th>\n",
       "      <td>Lhasa Apso/Miniature Poodle</td>\n",
       "      <td>Others</td>\n",
       "    </tr>\n",
       "  </tbody>\n",
       "</table>\n",
       "</div>"
      ],
      "text/plain": [
       "                         Breed            Breed(clean)\n",
       "0        Shetland Sheepdog Mix                  Others\n",
       "1       Domestic Shorthair Mix  Domestic Shorthair Mix\n",
       "2                 Pit Bull Mix            Pit Bull Mix\n",
       "3       Domestic Shorthair Mix  Domestic Shorthair Mix\n",
       "4  Lhasa Apso/Miniature Poodle                  Others"
      ]
     },
     "execution_count": 57,
     "metadata": {},
     "output_type": "execute_result"
    }
   ],
   "source": [
    "train.loc[~train[\"Breed(clean)\"].isin(top_Breed_counts), \"Breed(clean)\"] = \"Others\"\n",
    "\n",
    "print(train.shape)\n",
    "train[[\"Breed\", \"Breed(clean)\"]].head()"
   ]
  },
  {
   "cell_type": "code",
   "execution_count": 58,
   "metadata": {
    "scrolled": true
   },
   "outputs": [
    {
     "data": {
      "text/plain": [
       "<matplotlib.axes._subplots.AxesSubplot at 0x249966cf780>"
      ]
     },
     "execution_count": 58,
     "metadata": {},
     "output_type": "execute_result"
    },
    {
     "data": {
      "image/png": "[encoded data removed]",
      "text/plain": [
       "<Figure size 1296x4608 with 1 Axes>"
      ]
     },
     "metadata": {
      "needs_background": "light"
     },
     "output_type": "display_data"
    }
   ],
   "source": [
    "plt.figure(figsize = (18, 64))\n",
    "\n",
    "sns.countplot(data=train, x=\"Breed(clean)\")"
   ]
  },
  {
   "cell_type": "markdown",
   "metadata": {},
   "source": [
    "### 2-2) 이 시각화로 발견할 수 있는 사실\n",
    "\n",
    "1. 품종이 너무나도 다양하며 (1380 종), 1건만 있는 품종도 상당히 많다는 것을 알 수 있음 \n",
    "\n",
    "2. 1건만 있는 품종을 아웃라이어로 잡고 다시 확인하는 것이 필요함"
   ]
  },
  {
   "cell_type": "markdown",
   "metadata": {},
   "source": [
    "### 2-3) 예측 모델 계선 가능성\n",
    "\n",
    "1. 1건만 있는 품종을 처리를 한 이후에 예측을 해야 도움이 될 것 같음."
   ]
  },
  {
   "cell_type": "markdown",
   "metadata": {},
   "source": [
    "### 3. Color"
   ]
  },
  {
   "cell_type": "markdown",
   "metadata": {},
   "source": [
    "### 3-1) 시각화를 하기 전 예상\n",
    "\n",
    "1. 색에 따라 사람들이 선호 하는 색이 있을 것임.\n",
    "2. 많이 변화가 있는 색이 있을것이며 거의 없는 색이 있을 것임."
   ]
  },
  {
   "cell_type": "code",
   "execution_count": 67,
   "metadata": {
    "scrolled": true
   },
   "outputs": [
    {
     "data": {
      "text/plain": [
       "Black/White              2824\n",
       "Black                    2292\n",
       "Brown Tabby              1635\n",
       "Brown Tabby/White         940\n",
       "White                     931\n",
       "Brown/White               884\n",
       "Orange Tabby              841\n",
       "Tan/White                 773\n",
       "Tricolor                  752\n",
       "Blue/White                702\n",
       "Black/Tan                 672\n",
       "White/Black               643\n",
       "Brown                     639\n",
       "Tan                       628\n",
       "White/Brown               569\n",
       "Tortie                    530\n",
       "Calico                    517\n",
       "Orange Tabby/White        455\n",
       "Brown Brindle/White       450\n",
       "Blue                      450\n",
       "Black/Brown               436\n",
       "Blue Tabby                433\n",
       "White/Tan                 389\n",
       "Red                       337\n",
       "Torbie                    335\n",
       "Brown/Black               333\n",
       "Red/White                 331\n",
       "Blue Tabby/White          241\n",
       "Brown Brindle             232\n",
       "Chocolate/White           224\n",
       "                         ... \n",
       "Blue/Yellow Brindle         1\n",
       "Lynx Point/Gray Tabby       1\n",
       "Blue/Tortie                 1\n",
       "Blue Tabby/Blue Cream       1\n",
       "Tan/Brown Brindle           1\n",
       "Red/Gold                    1\n",
       "Torbie/Calico               1\n",
       "Orange/Tan                  1\n",
       "Sable/Buff                  1\n",
       "Agouti                      1\n",
       "Gold/Yellow                 1\n",
       "Brown/Blue                  1\n",
       "White/Calico                1\n",
       "Red Tick/Brown Merle        1\n",
       "Silver/Red                  1\n",
       "Blue/Orange                 1\n",
       "Brown/Silver                1\n",
       "Chocolate/Gray              1\n",
       "Chocolate/Brown Merle       1\n",
       "Blue Tabby/Tan              1\n",
       "Orange Tiger                1\n",
       "Blue Tick/Red               1\n",
       "Cream/Red Tick              1\n",
       "Brown Merle/Tan             1\n",
       "Torbie/Blue Cream           1\n",
       "Red/Silver                  1\n",
       "Chocolate/Red Tick          1\n",
       "Tortie Point/White          1\n",
       "Tricolor/Calico             1\n",
       "Tortie/Calico               1\n",
       "Name: Color, Length: 366, dtype: int64"
      ]
     },
     "execution_count": 67,
     "metadata": {},
     "output_type": "execute_result"
    }
   ],
   "source": [
    "train[\"Color\"].value_counts()"
   ]
  },
  {
   "cell_type": "code",
   "execution_count": 68,
   "metadata": {},
   "outputs": [
    {
     "data": {
      "text/html": [
       "<div>\n",
       "<style scoped>\n",
       "    .dataframe tbody tr th:only-of-type {\n",
       "        vertical-align: middle;\n",
       "    }\n",
       "\n",
       "    .dataframe tbody tr th {\n",
       "        vertical-align: top;\n",
       "    }\n",
       "\n",
       "    .dataframe thead th {\n",
       "        text-align: right;\n",
       "    }\n",
       "</style>\n",
       "<table border=\"1\" class=\"dataframe\">\n",
       "  <thead>\n",
       "    <tr style=\"text-align: right;\">\n",
       "      <th></th>\n",
       "      <th>Color</th>\n",
       "      <th>Color(clean)</th>\n",
       "    </tr>\n",
       "  </thead>\n",
       "  <tbody>\n",
       "    <tr>\n",
       "      <th>0</th>\n",
       "      <td>Brown/White</td>\n",
       "      <td>Brown/White</td>\n",
       "    </tr>\n",
       "    <tr>\n",
       "      <th>1</th>\n",
       "      <td>Cream Tabby</td>\n",
       "      <td>Cream Tabby</td>\n",
       "    </tr>\n",
       "    <tr>\n",
       "      <th>2</th>\n",
       "      <td>Blue/White</td>\n",
       "      <td>Blue/White</td>\n",
       "    </tr>\n",
       "    <tr>\n",
       "      <th>3</th>\n",
       "      <td>Blue Cream</td>\n",
       "      <td>Blue Cream</td>\n",
       "    </tr>\n",
       "    <tr>\n",
       "      <th>4</th>\n",
       "      <td>Tan</td>\n",
       "      <td>Tan</td>\n",
       "    </tr>\n",
       "  </tbody>\n",
       "</table>\n",
       "</div>"
      ],
      "text/plain": [
       "         Color Color(clean)\n",
       "0  Brown/White  Brown/White\n",
       "1  Cream Tabby  Cream Tabby\n",
       "2   Blue/White   Blue/White\n",
       "3   Blue Cream   Blue Cream\n",
       "4          Tan          Tan"
      ]
     },
     "execution_count": 68,
     "metadata": {},
     "output_type": "execute_result"
    }
   ],
   "source": [
    "train[\"Color(clean)\"] = train[\"Color\"]\n",
    "\n",
    "\n",
    "train[[\"Color\", \"Color(clean)\"]].head()"
   ]
  },
  {
   "cell_type": "code",
   "execution_count": 76,
   "metadata": {
    "scrolled": false
   },
   "outputs": [
    {
     "data": {
      "text/plain": [
       "Black/White              2824\n",
       "Black                    2292\n",
       "Brown Tabby              1635\n",
       "Brown Tabby/White         940\n",
       "White                     931\n",
       "Brown/White               884\n",
       "Orange Tabby              841\n",
       "Tan/White                 773\n",
       "Tricolor                  752\n",
       "Blue/White                702\n",
       "Black/Tan                 672\n",
       "White/Black               643\n",
       "Brown                     639\n",
       "Tan                       628\n",
       "White/Brown               569\n",
       "Tortie                    530\n",
       "Calico                    517\n",
       "Orange Tabby/White        455\n",
       "Brown Brindle/White       450\n",
       "Blue                      450\n",
       "Black/Brown               436\n",
       "Blue Tabby                433\n",
       "White/Tan                 389\n",
       "Red                       337\n",
       "Torbie                    335\n",
       "Brown/Black               333\n",
       "Red/White                 331\n",
       "Blue Tabby/White          241\n",
       "Brown Brindle             232\n",
       "Chocolate/White           224\n",
       "                         ... \n",
       "Blue/Yellow Brindle         1\n",
       "Lynx Point/Gray Tabby       1\n",
       "Blue/Tortie                 1\n",
       "Blue Tabby/Blue Cream       1\n",
       "Tan/Brown Brindle           1\n",
       "Red/Gold                    1\n",
       "Torbie/Calico               1\n",
       "Orange/Tan                  1\n",
       "Sable/Buff                  1\n",
       "Agouti                      1\n",
       "Gold/Yellow                 1\n",
       "Brown/Blue                  1\n",
       "White/Calico                1\n",
       "Red Tick/Brown Merle        1\n",
       "Silver/Red                  1\n",
       "Blue/Orange                 1\n",
       "Brown/Silver                1\n",
       "Chocolate/Gray              1\n",
       "Chocolate/Brown Merle       1\n",
       "Blue Tabby/Tan              1\n",
       "Orange Tiger                1\n",
       "Blue Tick/Red               1\n",
       "Cream/Red Tick              1\n",
       "Brown Merle/Tan             1\n",
       "Torbie/Blue Cream           1\n",
       "Red/Silver                  1\n",
       "Chocolate/Red Tick          1\n",
       "Tortie Point/White          1\n",
       "Tricolor/Calico             1\n",
       "Tortie/Calico               1\n",
       "Name: Color(clean), Length: 366, dtype: int64"
      ]
     },
     "execution_count": 76,
     "metadata": {},
     "output_type": "execute_result"
    }
   ],
   "source": [
    "Color_lists = train[\"Color(clean)\"].value_counts()\n",
    "\n",
    "Color_lists"
   ]
  },
  {
   "cell_type": "code",
   "execution_count": 84,
   "metadata": {
    "scrolled": true
   },
   "outputs": [
    {
     "name": "stdout",
     "output_type": "stream",
     "text": [
      "(86,)\n"
     ]
    },
    {
     "data": {
      "text/plain": [
       "Index(['Black/White', 'Black', 'Brown Tabby', 'Brown Tabby/White', 'White',\n",
       "       'Brown/White', 'Orange Tabby', 'Tan/White', 'Tricolor', 'Blue/White',\n",
       "       'Black/Tan', 'White/Black', 'Brown', 'Tan', 'White/Brown', 'Tortie',\n",
       "       'Calico', 'Orange Tabby/White', 'Brown Brindle/White', 'Blue',\n",
       "       'Black/Brown', 'Blue Tabby', 'White/Tan', 'Red', 'Torbie',\n",
       "       'Brown/Black', 'Red/White', 'Blue Tabby/White', 'Brown Brindle',\n",
       "       'Chocolate/White', 'Buff', 'Cream Tabby', 'Sable', 'Yellow',\n",
       "       'Tan/Black', 'Lynx Point', 'Cream', 'Chocolate', 'Seal Point',\n",
       "       'White/Blue', 'White/Brown Brindle', 'Fawn/White', 'White/Brown Tabby',\n",
       "       'Gray/White', 'Gray', 'Sable/White', 'Flame Point', 'Cream Tabby/White',\n",
       "       'Blue Merle', 'Black Brindle/White', 'Fawn', 'Chocolate/Tan',\n",
       "       'Red/Black', 'Torbie/White', 'White/Red', 'White/Gray',\n",
       "       'White/Orange Tabby', 'Gold', 'Brown/Tan', 'White/Tricolor',\n",
       "       'Black Smoke', 'Black/Brown Brindle', 'Blue Merle/White',\n",
       "       'Yellow/White', 'Buff/White', 'Black Tabby', 'Black/Tricolor',\n",
       "       'White/Chocolate', 'White/Buff', 'Lilac Point', 'Cream/White',\n",
       "       'Black/Gray', 'White/Cream', 'Gray Tabby', 'Brown Merle',\n",
       "       'Tortie/White', 'Brown Merle/White', 'Blue/Tan', 'Tortie Point',\n",
       "       'White/Orange', 'Blue Point', 'Silver Tabby', 'Blue Merle/Tan',\n",
       "       'Red Merle', 'Orange/White', 'Red/Tan'],\n",
       "      dtype='object')"
      ]
     },
     "execution_count": 84,
     "metadata": {},
     "output_type": "execute_result"
    }
   ],
   "source": [
    "top_Color_lists = Color_lists[Color_lists >= 26]\n",
    "top_Color_lists = top_Color_lists.index\n",
    "\n",
    "print(top_Color_lists.shape)\n",
    "\n",
    "top_Color_lists"
   ]
  },
  {
   "cell_type": "code",
   "execution_count": 85,
   "metadata": {},
   "outputs": [
    {
     "name": "stdout",
     "output_type": "stream",
     "text": [
      "(26729, 19)\n"
     ]
    },
    {
     "data": {
      "text/html": [
       "<div>\n",
       "<style scoped>\n",
       "    .dataframe tbody tr th:only-of-type {\n",
       "        vertical-align: middle;\n",
       "    }\n",
       "\n",
       "    .dataframe tbody tr th {\n",
       "        vertical-align: top;\n",
       "    }\n",
       "\n",
       "    .dataframe thead th {\n",
       "        text-align: right;\n",
       "    }\n",
       "</style>\n",
       "<table border=\"1\" class=\"dataframe\">\n",
       "  <thead>\n",
       "    <tr style=\"text-align: right;\">\n",
       "      <th></th>\n",
       "      <th>Color</th>\n",
       "      <th>Color(clean)</th>\n",
       "    </tr>\n",
       "  </thead>\n",
       "  <tbody>\n",
       "    <tr>\n",
       "      <th>0</th>\n",
       "      <td>Brown/White</td>\n",
       "      <td>Brown/White</td>\n",
       "    </tr>\n",
       "    <tr>\n",
       "      <th>1</th>\n",
       "      <td>Cream Tabby</td>\n",
       "      <td>Cream Tabby</td>\n",
       "    </tr>\n",
       "    <tr>\n",
       "      <th>2</th>\n",
       "      <td>Blue/White</td>\n",
       "      <td>Blue/White</td>\n",
       "    </tr>\n",
       "    <tr>\n",
       "      <th>3</th>\n",
       "      <td>Blue Cream</td>\n",
       "      <td>Others</td>\n",
       "    </tr>\n",
       "    <tr>\n",
       "      <th>4</th>\n",
       "      <td>Tan</td>\n",
       "      <td>Tan</td>\n",
       "    </tr>\n",
       "  </tbody>\n",
       "</table>\n",
       "</div>"
      ],
      "text/plain": [
       "         Color Color(clean)\n",
       "0  Brown/White  Brown/White\n",
       "1  Cream Tabby  Cream Tabby\n",
       "2   Blue/White   Blue/White\n",
       "3   Blue Cream       Others\n",
       "4          Tan          Tan"
      ]
     },
     "execution_count": 85,
     "metadata": {},
     "output_type": "execute_result"
    }
   ],
   "source": [
    "train.loc[~train[\"Color(clean)\"].isin(top_Color_lists), \"Color(clean)\"] = \"Others\"\n",
    "\n",
    "print(train.shape)\n",
    "train[[\"Color\", \"Color(clean)\"]].head()"
   ]
  },
  {
   "cell_type": "code",
   "execution_count": 87,
   "metadata": {
    "scrolled": true
   },
   "outputs": [
    {
     "data": {
      "text/plain": [
       "<matplotlib.axes._subplots.AxesSubplot at 0x249d79c5be0>"
      ]
     },
     "execution_count": 87,
     "metadata": {},
     "output_type": "execute_result"
    },
    {
     "data": {
      "image/png": "[encoded data removed]",
      "text/plain": [
       "<Figure size 1296x4608 with 1 Axes>"
      ]
     },
     "metadata": {
      "needs_background": "light"
     },
     "output_type": "display_data"
    }
   ],
   "source": [
    "plt.figure(figsize = (18, 64))\n",
    "\n",
    "sns.countplot(data=train, x=\"Color(clean)\")"
   ]
  },
  {
   "cell_type": "markdown",
   "metadata": {},
   "source": [
    "### 3-2) 이 시각화로 발견할 수 있는 사실\n",
    "\n",
    "1. 색이 다양하며 (366 종), 1건만 있는 색상도 상당히 많다는 것을 알 수 있음 \n",
    "\n",
    "2. 1건만 있는 색상을 아웃라이어로 잡고 다시 확인하는 것이 필요함"
   ]
  },
  {
   "cell_type": "markdown",
   "metadata": {},
   "source": [
    "### 3-3) 예측 모델 계선 가능성\n",
    "\n",
    "1. 1건만 있는 색상을 처리를 한 이후에 예측을 해야 도움이 될 것 같음."
   ]
  },
  {
   "cell_type": "code",
   "execution_count": null,
   "metadata": {},
   "outputs": [],
   "source": []
  }
 ],
 "metadata": {
  "kernelspec": {
   "display_name": "Python 3",
   "language": "python",
   "name": "python3"
  },
  "language_info": {
   "codemirror_mode": {
    "name": "ipython",
    "version": 3
   },
   "file_extension": ".py",
   "mimetype": "text/x-python",
   "name": "python",
   "nbconvert_exporter": "python",
   "pygments_lexer": "ipython3",
   "version": "3.7.3"
  }
 },
 "nbformat": 4,
 "nbformat_minor": 2
}
